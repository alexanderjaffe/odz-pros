{
 "cells": [
  {
   "cell_type": "code",
   "execution_count": 14,
   "id": "b138aca7",
   "metadata": {},
   "outputs": [],
   "source": [
    "from collections import defaultdict\n",
    "from Bio.SeqIO.FastaIO import SimpleFastaParser as sfp\n",
    "from concurrent.futures import ProcessPoolExecutor\n",
    "from Bio import SeqIO, SearchIO, Entrez\n",
    "import seaborn as sns\n",
    "import pandas as pd\n",
    "import os, glob, math, re, gzip, skbio, time, pysam, time\n",
    "from bs4 import BeautifulSoup\n",
    "import matplotlib.pyplot as plt\n",
    "import warnings\n",
    "import numpy as np\n",
    "from Bio import Entrez\n",
    "warnings.filterwarnings('ignore')"
   ]
  },
  {
   "cell_type": "code",
   "execution_count": 15,
   "id": "251b3d7b",
   "metadata": {},
   "outputs": [],
   "source": [
    "import sys\n",
    "sys.path.insert(0, '/home/users/ajaffe/notebooks/modules/')\n",
    "import parse"
   ]
  },
  {
   "cell_type": "code",
   "execution_count": 16,
   "id": "e863b654",
   "metadata": {},
   "outputs": [],
   "source": [
    "def cmdir(path):\n",
    "    if not os.path.isdir(path):\n",
    "        os.mkdir(path)\n",
    "\n",
    "def scaffold(gene):\n",
    "    if gene != \"None\":\n",
    "        try: return re.search(\"(.+?)_[0-9]+$\", gene).group(1)\n",
    "        except: print(gene)\n",
    "\n",
    "def sbatch(name, cpus, cmd):\n",
    "    return \"sbatch -J %s -p serc -t 1- -c %d --mem %dG --wrap '%s'\" %(name, cpus, cpus*8, cmd)"
   ]
  },
  {
   "cell_type": "code",
   "execution_count": 17,
   "id": "cd2a5a41",
   "metadata": {},
   "outputs": [],
   "source": [
    "rootdir = \"/scratch/users/ajaffe/photoeco/\"\n",
    "deepeco = \"/scratch/users/ajaffe/deepeco/\"\n",
    "cmdir(rootdir + \"txomics\")"
   ]
  },
  {
   "cell_type": "markdown",
   "id": "80df2be0",
   "metadata": {},
   "source": [
    "## prep"
   ]
  },
  {
   "cell_type": "code",
   "execution_count": 5,
   "id": "677e2f5e",
   "metadata": {},
   "outputs": [],
   "source": [
    "# write to snakefile config\n",
    "with open(rootdir + \"txomics/config.yaml\", \"w\") as out:\n",
    "    \n",
    "    out.write(\"fasta: %s\\n\" %(rootdir + \"diversity/nonredundant_genomes.fna\"))\n",
    "    out.write(\"stbfile: %s\\n\" %(rootdir + \"diversity/nonredundant_genomes.stb\"))\n",
    "    out.write(\"idx: %s\\n\" %(rootdir + \"diversity/nr_genomes.idx\"))"
   ]
  },
  {
   "cell_type": "code",
   "execution_count": 6,
   "id": "74ebebd6",
   "metadata": {},
   "outputs": [],
   "source": [
    "# write new genome table\n",
    "with open(rootdir + \"txomics/photoeco_genome_table.tsv\", \"w\") as out:\n",
    "    out.write(\"genome\\n\")\n",
    "    stb = pd.read_csv(rootdir + \"diversity/nonredundant_genomes.stb\", sep=\"\\t\")\n",
    "    stb.columns = [\"scaffold\", \"bin\"]\n",
    "    for genome in stb[\"bin\"].unique():\n",
    "        out.write(genome + \"\\n\")"
   ]
  },
  {
   "cell_type": "markdown",
   "id": "91c093c0",
   "metadata": {},
   "source": [
    "### get input samples"
   ]
  },
  {
   "cell_type": "code",
   "execution_count": 11,
   "id": "d3966ecf",
   "metadata": {},
   "outputs": [],
   "source": [
    "Entrez.email = \"ajaffe@stanford.edu\""
   ]
  },
  {
   "cell_type": "code",
   "execution_count": null,
   "id": "05f0ef11",
   "metadata": {},
   "outputs": [],
   "source": [
    "with open(rootdir + \"txomics/sample_list.tsv\", \"w\") as out:\n",
    "    for line in open(deepeco + \"txomics/mapping/sample_list.tsv\").readlines():\n",
    "        sample = line.strip().split(\"\\t\")[0]\n",
    "        if sample in [\"ETNP_7T_105m\", \"TARA_SAMEA2622149_METAT\"]:\n",
    "            out.write(\"%s\\t%s\\n\" %(sample, line.strip().split(\"\\t\")[1]))"
   ]
  },
  {
   "cell_type": "code",
   "execution_count": 13,
   "id": "66969b54",
   "metadata": {},
   "outputs": [
    {
     "data": {
      "text/plain": [
       "81"
      ]
     },
     "execution_count": 13,
     "metadata": {},
     "output_type": "execute_result"
    }
   ],
   "source": [
    "query = '(METATRANSCRIPTOMIC[Source]) AND (\"Eastern Tropical North Pacific\" OR \"oxygen deficient zone\" OR \"oxygen minimum zone\")'\n",
    "handle = Entrez.esearch(db='sra', term=query, RetMax=20000)\n",
    "# parse the handle\n",
    "soup = BeautifulSoup(handle, \"html.parser\")\n",
    "handle.close()\n",
    "# then grab the uIds\n",
    "sra_ids = [item.string for item in soup.findAll(\"id\")]\n",
    "len(sra_ids)"
   ]
  },
  {
   "cell_type": "code",
   "execution_count": 14,
   "id": "6f1d01f6",
   "metadata": {},
   "outputs": [
    {
     "name": "stdout",
     "output_type": "stream",
     "text": [
      "81 of 81 done.\r"
     ]
    }
   ],
   "source": [
    "results = defaultdict(list)\n",
    "\n",
    "for i,sra_id in enumerate(sra_ids):\n",
    "    \n",
    "    try:\n",
    "        handle = Entrez.efetch(db=\"sra\", id=sra_id, rettype=\"runinfo\", retmode=\"xml\")\n",
    "        soup = BeautifulSoup(handle, \"html.parser\")\n",
    "        handle.close()\n",
    "    except:\n",
    "        print(\"%s failed.\" %(sra_id))\n",
    "        continue\n",
    "\n",
    "    for row in soup.findAll(\"row\"):\n",
    "        for attribute in [\"bases\",\"bioproject\", \"biosample\", \"experiment\", \"run\", \"libraryname\", \"samplename\",\n",
    "                          \"scientificname\", \"releasedate\", \"spots\",  \n",
    "                        \"avglength\", \"librarystrategy\", \"librarysource\", \"librarylayout\",\"platform\"]:\n",
    "            try:\n",
    "                results[attribute].append(row.find(attribute).string)\n",
    "            except: results[attribute].append(\"None\")\n",
    "    \n",
    "    print(\"%d of %d done.\" %(i+1, len(sra_ids)), end = \"\\r\")\n",
    "    \n",
    "    time.sleep(1)"
   ]
  },
  {
   "cell_type": "code",
   "execution_count": 15,
   "id": "d8c2531f",
   "metadata": {},
   "outputs": [],
   "source": [
    "resultdf = pd.DataFrame(results).query(\"librarysource=='METATRANSCRIPTOMIC'\").query(\"bioproject=='PRJNA727903'\")\n",
    "\n",
    "with open(rootdir + \"txomics/sample_list.tsv\", \"a\") as out:\n",
    "    for key, row in resultdf.iterrows():\n",
    "        out.write(\"%s\\t%s\\n\" %(row[\"samplename\"].replace(\">\",\"\"), row[\"run\"]))"
   ]
  },
  {
   "cell_type": "markdown",
   "id": "c858075a",
   "metadata": {},
   "source": [
    "### run + check"
   ]
  },
  {
   "cell_type": "code",
   "execution_count": 18,
   "id": "014dafca",
   "metadata": {},
   "outputs": [
    {
     "name": "stdout",
     "output_type": "stream",
     "text": [
      "snakemake --keep-going -s RNASnakefile       --config sample_list=/scratch/users/ajaffe/photoeco/txomics/sample_list.tsv genome_table=/scratch/users/ajaffe/photoeco/txomics/photoeco_genome_table.tsv maxthreads=20       --cluster \"sbatch -p serc -c 20 -t 1- --mem 160G\" --jobs 20\n"
     ]
    }
   ],
   "source": [
    "cmd = 'snakemake --keep-going -s RNASnakefile \\\n",
    "      --config sample_list=%s genome_table=%s maxthreads=20 \\\n",
    "      --cluster \"sbatch -p serc -c 20 -t 1- --mem 160G\" --jobs 20' %(rootdir + \"txomics/sample_list.tsv\",\n",
    "                                                                     rootdir + \"txomics/photoeco_genome_table.tsv\")\n",
    "print(cmd)"
   ]
  },
  {
   "cell_type": "markdown",
   "id": "f4490eec",
   "metadata": {},
   "source": [
    "## process"
   ]
  },
  {
   "cell_type": "code",
   "execution_count": 18,
   "id": "20c5e0fa",
   "metadata": {},
   "outputs": [],
   "source": [
    "def filter_sample(output_file):\n",
    "    \n",
    "    start=time.time()\n",
    "    filtered_results = []\n",
    "    sample_table = pd.read_csv(output_file, sep=\"\\t\")\n",
    "    \n",
    "    for genome in sample_table[\"genome\"].unique():\n",
    "        \n",
    "        subtable = sample_table[sample_table[\"genome\"]==genome]\n",
    "        \n",
    "        # min gene expressed threshold\n",
    "        if len(subtable.query(\"breadth>0.50\"))>=50:\n",
    "        \n",
    "            # then remove high outliers\n",
    "            genes_to_remove = []\n",
    "            counts = subtable[\"mean_coverage\"].to_list()\n",
    "            median = np.median([count for count in counts if count != 0])\n",
    "\n",
    "            for i, count in enumerate(counts):\n",
    "                if count > (median*10000):\n",
    "                    genes_to_remove.append(subtable[\"gene\"].to_list()[i])\n",
    "            \n",
    "            filtered_results.append(subtable[~subtable[\"gene\"].isin(genes_to_remove)])\n",
    "            \n",
    "    end = time.time()\n",
    "    #print(\"%s finished in %f seconds.\" %(os.path.basename(output_file), end-start))\n",
    "    \n",
    "    if len(filtered_results) > 0:\n",
    "        return pd.concat(filtered_results)\n",
    "    else: return \"None\""
   ]
  },
  {
   "cell_type": "code",
   "execution_count": 19,
   "id": "fe447f1c",
   "metadata": {},
   "outputs": [
    {
     "name": "stdout",
     "output_type": "stream",
     "text": [
      "CPU times: user 811 ms, sys: 227 ms, total: 1.04 s\n",
      "Wall time: 16.6 s\n"
     ]
    }
   ],
   "source": [
    "%%time\n",
    "\n",
    "with ProcessPoolExecutor(10) as executor:\n",
    "    samples = glob.glob(rootdir + \"txomics/output/*tsv\")\n",
    "    results = list(executor.map(filter_sample, samples))\n",
    "\n",
    "all_results = pd.concat([result for result in results if type(result) != str])\n",
    "all_results = all_results[[\"sample\", \"genome\", \"gene\", \"mean_coverage\", \"breadth\", \"read_count\", \"read_count_or\"]]\n",
    "all_results.to_csv(rootdir + \"txomics/filtered_txome_output.tsv\", sep=\"\\t\")"
   ]
  },
  {
   "cell_type": "markdown",
   "id": "42e121b9",
   "metadata": {},
   "source": [
    "### calculate rpkm"
   ]
  },
  {
   "cell_type": "code",
   "execution_count": 20,
   "id": "6b0e89f5",
   "metadata": {},
   "outputs": [],
   "source": [
    "tmp = {}\n",
    "stb = pd.read_csv(rootdir + \"diversity/nonredundant_genomes.stb\", sep=\"\\t\")\n",
    "stb.columns = [\"scaffold\", \"bin\"]\n",
    "\n",
    "for genome in stb[\"bin\"].unique():\n",
    "    gpath = rootdir + \"genomes/filtered/%s.genes.fna\" %(genome)\n",
    "    for record in sfp(open(gpath)):\n",
    "        tmp[record[0].split(\" \")[0]] = len(record[1])\n",
    "\n",
    "all_results[\"gene_length\"] = all_results[\"gene\"].map(tmp)\n",
    "tmp={}"
   ]
  },
  {
   "cell_type": "code",
   "execution_count": 21,
   "id": "914bcc37",
   "metadata": {},
   "outputs": [],
   "source": [
    "tmp = {}\n",
    "\n",
    "for sample in glob.glob(rootdir + \"txomics/trimmed_reads/counts/*\"):\n",
    "    for line in open(sample).readlines():\n",
    "        tmp[line.split(\"\\t\")[0]] = int(line.split(\"\\t\")[1].strip())\n",
    "\n",
    "all_results[\"total_read_count\"] = all_results[\"sample\"].map(tmp)\n",
    "tmp = {}"
   ]
  },
  {
   "cell_type": "code",
   "execution_count": 22,
   "id": "c421168b",
   "metadata": {},
   "outputs": [
    {
     "data": {
      "text/html": [
       "<div>\n",
       "<style scoped>\n",
       "    .dataframe tbody tr th:only-of-type {\n",
       "        vertical-align: middle;\n",
       "    }\n",
       "\n",
       "    .dataframe tbody tr th {\n",
       "        vertical-align: top;\n",
       "    }\n",
       "\n",
       "    .dataframe thead th {\n",
       "        text-align: right;\n",
       "    }\n",
       "</style>\n",
       "<table border=\"1\" class=\"dataframe\">\n",
       "  <thead>\n",
       "    <tr style=\"text-align: right;\">\n",
       "      <th></th>\n",
       "      <th>sample</th>\n",
       "      <th>genome</th>\n",
       "      <th>gene</th>\n",
       "      <th>mean_coverage</th>\n",
       "      <th>breadth</th>\n",
       "      <th>read_count</th>\n",
       "      <th>read_count_or</th>\n",
       "      <th>gene_length</th>\n",
       "      <th>total_read_count</th>\n",
       "      <th>rpk</th>\n",
       "      <th>rpkm</th>\n",
       "      <th>rpko</th>\n",
       "      <th>rpkmo</th>\n",
       "    </tr>\n",
       "  </thead>\n",
       "  <tbody>\n",
       "    <tr>\n",
       "      <th>0</th>\n",
       "      <td>304427_S16</td>\n",
       "      <td>SRR11923207.100.13</td>\n",
       "      <td>SRR11923207.100.13_scaffold_0_1</td>\n",
       "      <td>0.00</td>\n",
       "      <td>0.000000</td>\n",
       "      <td>0</td>\n",
       "      <td>0</td>\n",
       "      <td>1068</td>\n",
       "      <td>59911104</td>\n",
       "      <td>0.000000</td>\n",
       "      <td>0.000000</td>\n",
       "      <td>0.000000</td>\n",
       "      <td>0.000000</td>\n",
       "    </tr>\n",
       "    <tr>\n",
       "      <th>1</th>\n",
       "      <td>304427_S16</td>\n",
       "      <td>SRR11923207.100.13</td>\n",
       "      <td>SRR11923207.100.13_scaffold_0_2</td>\n",
       "      <td>0.08</td>\n",
       "      <td>0.079422</td>\n",
       "      <td>2</td>\n",
       "      <td>1</td>\n",
       "      <td>1662</td>\n",
       "      <td>59911104</td>\n",
       "      <td>1.203369</td>\n",
       "      <td>0.020086</td>\n",
       "      <td>0.601685</td>\n",
       "      <td>0.010043</td>\n",
       "    </tr>\n",
       "  </tbody>\n",
       "</table>\n",
       "</div>"
      ],
      "text/plain": [
       "       sample              genome                             gene  \\\n",
       "0  304427_S16  SRR11923207.100.13  SRR11923207.100.13_scaffold_0_1   \n",
       "1  304427_S16  SRR11923207.100.13  SRR11923207.100.13_scaffold_0_2   \n",
       "\n",
       "   mean_coverage   breadth  read_count  read_count_or  gene_length  \\\n",
       "0           0.00  0.000000           0              0         1068   \n",
       "1           0.08  0.079422           2              1         1662   \n",
       "\n",
       "   total_read_count       rpk      rpkm      rpko     rpkmo  \n",
       "0          59911104  0.000000  0.000000  0.000000  0.000000  \n",
       "1          59911104  1.203369  0.020086  0.601685  0.010043  "
      ]
     },
     "execution_count": 22,
     "metadata": {},
     "output_type": "execute_result"
    }
   ],
   "source": [
    "# consider rewriting this in dask\n",
    "all_results[\"rpk\"] = all_results.apply(lambda x: (x[\"read_count\"])/(x[\"gene_length\"]/1000), axis=1)\n",
    "all_results[\"rpkm\"] = all_results.apply(lambda x: x[\"rpk\"]/(x[\"total_read_count\"]/1e6), axis=1)\n",
    "all_results[\"rpko\"] = all_results.apply(lambda x: (x[\"read_count_or\"])/(x[\"gene_length\"]/1000), axis=1)\n",
    "all_results[\"rpkmo\"] = all_results.apply(lambda x: x[\"rpko\"]/(x[\"total_read_count\"]/1e6), axis=1)\n",
    "all_results.head(2)"
   ]
  },
  {
   "cell_type": "markdown",
   "id": "d23c6e6d",
   "metadata": {},
   "source": [
    "## add back function"
   ]
  },
  {
   "cell_type": "code",
   "execution_count": 27,
   "id": "7841bdb1",
   "metadata": {},
   "outputs": [],
   "source": [
    "cmdir(rootdir + \"protein\")"
   ]
  },
  {
   "cell_type": "code",
   "execution_count": 23,
   "id": "4abc5d05",
   "metadata": {},
   "outputs": [
    {
     "data": {
      "text/html": [
       "<div>\n",
       "<style scoped>\n",
       "    .dataframe tbody tr th:only-of-type {\n",
       "        vertical-align: middle;\n",
       "    }\n",
       "\n",
       "    .dataframe tbody tr th {\n",
       "        vertical-align: top;\n",
       "    }\n",
       "\n",
       "    .dataframe thead th {\n",
       "        text-align: right;\n",
       "    }\n",
       "</style>\n",
       "<table border=\"1\" class=\"dataframe\">\n",
       "  <thead>\n",
       "    <tr style=\"text-align: right;\">\n",
       "      <th></th>\n",
       "      <th>genome_name</th>\n",
       "      <th>lineage</th>\n",
       "      <th>checkm_completeness</th>\n",
       "      <th>checkm_redundancy</th>\n",
       "      <th>cluster95</th>\n",
       "      <th>cluster99</th>\n",
       "    </tr>\n",
       "  </thead>\n",
       "  <tbody>\n",
       "    <tr>\n",
       "      <th>0</th>\n",
       "      <td>2626541517</td>\n",
       "      <td>AMZ IB</td>\n",
       "      <td>56.79</td>\n",
       "      <td>6.11</td>\n",
       "      <td>5_1</td>\n",
       "      <td>5_5</td>\n",
       "    </tr>\n",
       "    <tr>\n",
       "      <th>1</th>\n",
       "      <td>2626541518</td>\n",
       "      <td>AMZ IB</td>\n",
       "      <td>60.34</td>\n",
       "      <td>6.90</td>\n",
       "      <td>5_1</td>\n",
       "      <td>5_10</td>\n",
       "    </tr>\n",
       "  </tbody>\n",
       "</table>\n",
       "</div>"
      ],
      "text/plain": [
       "  genome_name lineage  checkm_completeness  checkm_redundancy cluster95  \\\n",
       "0  2626541517  AMZ IB                56.79               6.11       5_1   \n",
       "1  2626541518  AMZ IB                60.34               6.90       5_1   \n",
       "\n",
       "  cluster99  \n",
       "0       5_5  \n",
       "1      5_10  "
      ]
     },
     "execution_count": 23,
     "metadata": {},
     "output_type": "execute_result"
    }
   ],
   "source": [
    "genomes = pd.read_csv(rootdir + \"genome_table.tsv\", sep=\"\\t\")\n",
    "genomes.head(2)"
   ]
  },
  {
   "cell_type": "code",
   "execution_count": 29,
   "id": "82ad0018",
   "metadata": {},
   "outputs": [],
   "source": [
    "# create fasta, genes, stb for nr db\n",
    "faa = open(rootdir + \"protein/nonredundant_genomes.faa\", \"w\")\n",
    "\n",
    "for cluster in genomes[\"cluster95\"].unique():\n",
    "\n",
    "    table = genomes[genomes[\"cluster95\"]==cluster].sort_values(\"checkm_completeness\", ascending=False)\n",
    "    representative = table[\"genome_name\"].iloc[0]\n",
    "\n",
    "    faapath = glob.glob(rootdir + \"genomes/filtered/\" + representative + \".genes.faa\")[0]\n",
    "    \n",
    "    for record in sfp(open(faapath)):\n",
    "        faa.write(\">%s\\n%s\\n\" %(record[0].split(\" \")[0], record[1]))\n",
    "\n",
    "faa.close()"
   ]
  },
  {
   "cell_type": "markdown",
   "id": "a9b96ecb",
   "metadata": {},
   "source": [
    "### kofam"
   ]
  },
  {
   "cell_type": "code",
   "execution_count": 31,
   "id": "14cb456d",
   "metadata": {},
   "outputs": [
    {
     "name": "stdout",
     "output_type": "stream",
     "text": [
      "sbatch -J kfscan -p serc -t 1- -c 20 --mem 160G --wrap 'exec_annotation -o /scratch/users/ajaffe/photoeco/protein/nonredundant_genomes.kfscan.txt /scratch/users/ajaffe/photoeco/protein/nonredundant_genomes.faa -p /home/groups/dekas/software/kofamscan/profiles/prokaryote.hal -k /home/groups/dekas/software/kofamscan/ko_list --cpu 20 -f detail'\n"
     ]
    }
   ],
   "source": [
    "#kofam\n",
    "kocall = \"exec_annotation -o %s %s -p %s -k %s --cpu 20 -f detail\" \\\n",
    "    %(rootdir + \"protein/nonredundant_genomes.kfscan.txt\",\n",
    "      rootdir + \"protein/nonredundant_genomes.faa\",\n",
    "     \"/home/groups/dekas/software/kofamscan/profiles/prokaryote.hal\",\n",
    "      \"/home/groups/dekas/software/kofamscan/ko_list\")\n",
    "print(sbatch(\"kfscan\", 20, kocall))"
   ]
  },
  {
   "cell_type": "code",
   "execution_count": 24,
   "id": "24cdd4d5",
   "metadata": {},
   "outputs": [
    {
     "data": {
      "text/html": [
       "<div>\n",
       "<style scoped>\n",
       "    .dataframe tbody tr th:only-of-type {\n",
       "        vertical-align: middle;\n",
       "    }\n",
       "\n",
       "    .dataframe tbody tr th {\n",
       "        vertical-align: top;\n",
       "    }\n",
       "\n",
       "    .dataframe thead th {\n",
       "        text-align: right;\n",
       "    }\n",
       "</style>\n",
       "<table border=\"1\" class=\"dataframe\">\n",
       "  <thead>\n",
       "    <tr style=\"text-align: right;\">\n",
       "      <th></th>\n",
       "      <th>gene</th>\n",
       "      <th>ko</th>\n",
       "      <th>threshold</th>\n",
       "      <th>score</th>\n",
       "      <th>eval</th>\n",
       "      <th>def</th>\n",
       "    </tr>\n",
       "  </thead>\n",
       "  <tbody>\n",
       "    <tr>\n",
       "      <th>1182565</th>\n",
       "      <td>Ga0132167_11_1503</td>\n",
       "      <td>K00284</td>\n",
       "      <td>2197.70</td>\n",
       "      <td>2262.1</td>\n",
       "      <td>0.0</td>\n",
       "      <td>glutamate synthase (ferredoxin) [EC:1.4.7.1]</td>\n",
       "    </tr>\n",
       "    <tr>\n",
       "      <th>1007050</th>\n",
       "      <td>Ga0132163_11_1583</td>\n",
       "      <td>K00284</td>\n",
       "      <td>2197.70</td>\n",
       "      <td>2260.2</td>\n",
       "      <td>0.0</td>\n",
       "      <td>glutamate synthase (ferredoxin) [EC:1.4.7.1]</td>\n",
       "    </tr>\n",
       "  </tbody>\n",
       "</table>\n",
       "</div>"
      ],
      "text/plain": [
       "                      gene      ko threshold   score  eval  \\\n",
       "1182565  Ga0132167_11_1503  K00284   2197.70  2262.1   0.0   \n",
       "1007050  Ga0132163_11_1583  K00284   2197.70  2260.2   0.0   \n",
       "\n",
       "                                                  def  \n",
       "1182565  glutamate synthase (ferredoxin) [EC:1.4.7.1]  \n",
       "1007050  glutamate synthase (ferredoxin) [EC:1.4.7.1]  "
      ]
     },
     "execution_count": 24,
     "metadata": {},
     "output_type": "execute_result"
    }
   ],
   "source": [
    "kresults = parse.kofamscan(rootdir + \"/protein/nonredundant_genomes.kfscan.txt\", 1e-20)\n",
    "kresults.head(2)"
   ]
  },
  {
   "cell_type": "markdown",
   "id": "1881781f",
   "metadata": {},
   "source": [
    "### pfam"
   ]
  },
  {
   "cell_type": "code",
   "execution_count": 32,
   "id": "d55b0817",
   "metadata": {},
   "outputs": [
    {
     "name": "stdout",
     "output_type": "stream",
     "text": [
      "sbatch -J pfam -p serc -t 1- -c 20 --mem 160G --wrap 'hmmsearch --cpu 20 --domtblout /scratch/users/ajaffe/photoeco/protein/nonredundant_genomes.pfam.txt /oak/stanford/groups/dekas/db/Pfam-A.hmm /scratch/users/ajaffe/photoeco/protein/nonredundant_genomes.faa'\n"
     ]
    }
   ],
   "source": [
    "#pfam\n",
    "cmd = \"hmmsearch --cpu 20 --domtblout %s /oak/stanford/groups/dekas/db/Pfam-A.hmm %s\" %(rootdir + \"protein/nonredundant_genomes.pfam.txt\",\n",
    "                                                                               rootdir + \"protein/nonredundant_genomes.faa\")\n",
    "print(sbatch(\"pfam\", 20, cmd))"
   ]
  },
  {
   "cell_type": "code",
   "execution_count": 25,
   "id": "3145b55f",
   "metadata": {},
   "outputs": [],
   "source": [
    "## subset pfam for now - taking too long to parse\n",
    "reps = []\n",
    "\n",
    "with open(rootdir + \"protein/AMZ_names.txt\", \"w\") as out:\n",
    "    \n",
    "    out.write(\"#\\n\")\n",
    "    \n",
    "    for cluster in genomes[\"cluster95\"].unique():\n",
    "\n",
    "        table = genomes[genomes[\"cluster95\"]==cluster].sort_values(\"checkm_completeness\", ascending=False)\n",
    "        representative = table[\"genome_name\"].iloc[0]\n",
    "\n",
    "        if table[\"lineage\"].iloc[0] in [\"AMZ IA\", \"AMZ IB\"]:\n",
    "            \n",
    "            reps.append(representative)\n",
    "            faapath = glob.glob(rootdir + \"genomes/filtered/\" + representative + \".genes.faa\")[0]\n",
    "            \n",
    "            for record in sfp(open(faapath)):\n",
    "                out.write(record[0].split(\" # \")[0] + \"\\n\")"
   ]
  },
  {
   "cell_type": "code",
   "execution_count": 26,
   "id": "6aee5bdb",
   "metadata": {},
   "outputs": [
    {
     "data": {
      "text/html": [
       "<div>\n",
       "<style scoped>\n",
       "    .dataframe tbody tr th:only-of-type {\n",
       "        vertical-align: middle;\n",
       "    }\n",
       "\n",
       "    .dataframe tbody tr th {\n",
       "        vertical-align: top;\n",
       "    }\n",
       "\n",
       "    .dataframe thead th {\n",
       "        text-align: right;\n",
       "    }\n",
       "</style>\n",
       "<table border=\"1\" class=\"dataframe\">\n",
       "  <thead>\n",
       "    <tr style=\"text-align: right;\">\n",
       "      <th></th>\n",
       "      <th>gene</th>\n",
       "      <th>pfams</th>\n",
       "      <th>highest_eval</th>\n",
       "    </tr>\n",
       "  </thead>\n",
       "  <tbody>\n",
       "    <tr>\n",
       "      <th>0</th>\n",
       "      <td>SRR12424656.100.10_scaffold_0_37</td>\n",
       "      <td>2-Hacid_dh + 2-Hacid_dh_C + PGDH_inter</td>\n",
       "      <td>1.400000e-25</td>\n",
       "    </tr>\n",
       "    <tr>\n",
       "      <th>1</th>\n",
       "      <td>SRR11923207.100.13_scaffold_8_26</td>\n",
       "      <td>2-Hacid_dh + 2-Hacid_dh_C + PGDH_inter</td>\n",
       "      <td>8.500000e-26</td>\n",
       "    </tr>\n",
       "  </tbody>\n",
       "</table>\n",
       "</div>"
      ],
      "text/plain": [
       "                               gene                                   pfams  \\\n",
       "0  SRR12424656.100.10_scaffold_0_37  2-Hacid_dh + 2-Hacid_dh_C + PGDH_inter   \n",
       "1  SRR11923207.100.13_scaffold_8_26  2-Hacid_dh + 2-Hacid_dh_C + PGDH_inter   \n",
       "\n",
       "   highest_eval  \n",
       "0  1.400000e-25  \n",
       "1  8.500000e-26  "
      ]
     },
     "execution_count": 26,
     "metadata": {},
     "output_type": "execute_result"
    }
   ],
   "source": [
    "pfam = parse.domtable(rootdir + \"protein/AMZ_genomes.pfam.txt\")\n",
    "pfam = pfam.query(\"eval<1e-20\").query(\"hmm_overall_cov>0.50\")\n",
    "\n",
    "pfam_info = defaultdict(list)\n",
    "\n",
    "for gene in pfam[\"gene\"].unique():\n",
    "    pfams = pfam[pfam[\"gene\"]==gene][\"hmm\"].to_list()\n",
    "    evals = pfam[pfam[\"gene\"]==gene][\"eval\"].to_list()\n",
    "    pfam_info[\"gene\"].append(gene)\n",
    "    pfam_info[\"pfams\"].append(\" + \".join(pfams))\n",
    "    pfam_info[\"highest_eval\"].append(max(evals))\n",
    "\n",
    "pfam_df = pd.DataFrame(pfam_info)\n",
    "pfam_df.head(2)"
   ]
  },
  {
   "cell_type": "markdown",
   "id": "0aeb6105",
   "metadata": {},
   "source": [
    "### integrate"
   ]
  },
  {
   "cell_type": "code",
   "execution_count": 27,
   "id": "058accd1",
   "metadata": {},
   "outputs": [
    {
     "data": {
      "text/html": [
       "<div>\n",
       "<style scoped>\n",
       "    .dataframe tbody tr th:only-of-type {\n",
       "        vertical-align: middle;\n",
       "    }\n",
       "\n",
       "    .dataframe tbody tr th {\n",
       "        vertical-align: top;\n",
       "    }\n",
       "\n",
       "    .dataframe thead th {\n",
       "        text-align: right;\n",
       "    }\n",
       "</style>\n",
       "<table border=\"1\" class=\"dataframe\">\n",
       "  <thead>\n",
       "    <tr style=\"text-align: right;\">\n",
       "      <th></th>\n",
       "      <th>sample</th>\n",
       "      <th>genome</th>\n",
       "      <th>gene</th>\n",
       "      <th>mean_coverage</th>\n",
       "      <th>read_count</th>\n",
       "      <th>breadth</th>\n",
       "      <th>rpkm</th>\n",
       "      <th>rpkmo</th>\n",
       "      <th>ko</th>\n",
       "      <th>ko_def</th>\n",
       "      <th>pfams</th>\n",
       "      <th>rubisco</th>\n",
       "    </tr>\n",
       "  </thead>\n",
       "  <tbody>\n",
       "    <tr>\n",
       "      <th>0</th>\n",
       "      <td>304427_S16</td>\n",
       "      <td>SRR11923207.100.13</td>\n",
       "      <td>SRR11923207.100.13_scaffold_0_1</td>\n",
       "      <td>0.00</td>\n",
       "      <td>0</td>\n",
       "      <td>0.000000</td>\n",
       "      <td>0.000000</td>\n",
       "      <td>0.000000</td>\n",
       "      <td>None</td>\n",
       "      <td>None</td>\n",
       "      <td>None</td>\n",
       "      <td>None</td>\n",
       "    </tr>\n",
       "    <tr>\n",
       "      <th>1</th>\n",
       "      <td>304427_S16</td>\n",
       "      <td>SRR11923207.100.13</td>\n",
       "      <td>SRR11923207.100.13_scaffold_0_2</td>\n",
       "      <td>0.08</td>\n",
       "      <td>2</td>\n",
       "      <td>0.079422</td>\n",
       "      <td>0.020086</td>\n",
       "      <td>0.010043</td>\n",
       "      <td>None</td>\n",
       "      <td>None</td>\n",
       "      <td>DUF3370</td>\n",
       "      <td>None</td>\n",
       "    </tr>\n",
       "    <tr>\n",
       "      <th>2</th>\n",
       "      <td>304427_S16</td>\n",
       "      <td>SRR11923207.100.13</td>\n",
       "      <td>SRR11923207.100.13_scaffold_0_3</td>\n",
       "      <td>0.00</td>\n",
       "      <td>0</td>\n",
       "      <td>0.000000</td>\n",
       "      <td>0.000000</td>\n",
       "      <td>0.000000</td>\n",
       "      <td>K03090</td>\n",
       "      <td>RNA polymerase sigma-B factor</td>\n",
       "      <td>None</td>\n",
       "      <td>None</td>\n",
       "    </tr>\n",
       "    <tr>\n",
       "      <th>3</th>\n",
       "      <td>304427_S16</td>\n",
       "      <td>SRR11923207.100.13</td>\n",
       "      <td>SRR11923207.100.13_scaffold_0_4</td>\n",
       "      <td>0.00</td>\n",
       "      <td>0</td>\n",
       "      <td>0.000000</td>\n",
       "      <td>0.000000</td>\n",
       "      <td>0.000000</td>\n",
       "      <td>K00988</td>\n",
       "      <td>sulfate adenylyltransferase (ADP) / ATP adenyl...</td>\n",
       "      <td>Ap4A_phos_N</td>\n",
       "      <td>None</td>\n",
       "    </tr>\n",
       "    <tr>\n",
       "      <th>4</th>\n",
       "      <td>304427_S16</td>\n",
       "      <td>SRR11923207.100.13</td>\n",
       "      <td>SRR11923207.100.13_scaffold_0_5</td>\n",
       "      <td>0.00</td>\n",
       "      <td>0</td>\n",
       "      <td>0.000000</td>\n",
       "      <td>0.000000</td>\n",
       "      <td>0.000000</td>\n",
       "      <td>K06381</td>\n",
       "      <td>stage II sporulation protein D</td>\n",
       "      <td>SpoIID</td>\n",
       "      <td>None</td>\n",
       "    </tr>\n",
       "  </tbody>\n",
       "</table>\n",
       "</div>"
      ],
      "text/plain": [
       "       sample              genome                             gene  \\\n",
       "0  304427_S16  SRR11923207.100.13  SRR11923207.100.13_scaffold_0_1   \n",
       "1  304427_S16  SRR11923207.100.13  SRR11923207.100.13_scaffold_0_2   \n",
       "2  304427_S16  SRR11923207.100.13  SRR11923207.100.13_scaffold_0_3   \n",
       "3  304427_S16  SRR11923207.100.13  SRR11923207.100.13_scaffold_0_4   \n",
       "4  304427_S16  SRR11923207.100.13  SRR11923207.100.13_scaffold_0_5   \n",
       "\n",
       "   mean_coverage  read_count   breadth      rpkm     rpkmo      ko  \\\n",
       "0           0.00           0  0.000000  0.000000  0.000000    None   \n",
       "1           0.08           2  0.079422  0.020086  0.010043    None   \n",
       "2           0.00           0  0.000000  0.000000  0.000000  K03090   \n",
       "3           0.00           0  0.000000  0.000000  0.000000  K00988   \n",
       "4           0.00           0  0.000000  0.000000  0.000000  K06381   \n",
       "\n",
       "                                              ko_def        pfams rubisco  \n",
       "0                                               None         None    None  \n",
       "1                                               None      DUF3370    None  \n",
       "2                      RNA polymerase sigma-B factor         None    None  \n",
       "3  sulfate adenylyltransferase (ADP) / ATP adenyl...  Ap4A_phos_N    None  \n",
       "4                     stage II sporulation protein D       SpoIID    None  "
      ]
     },
     "execution_count": 27,
     "metadata": {},
     "output_type": "execute_result"
    }
   ],
   "source": [
    "rubiscos = pd.read_csv(rootdir + \"rubisco_table.tsv\", sep=\"\\t\")\n",
    "rep_results = all_results[all_results[\"genome\"].isin(reps)]\n",
    "rep_results = rep_results.merge(kresults[[\"gene\", \"ko\", \"def\"]], on=\"gene\", how=\"left\").fillna(\"None\")\n",
    "rep_results = rep_results.merge(pfam_df[[\"gene\", \"pfams\"]], how=\"left\", on=\"gene\").fillna(\"None\")\n",
    "rep_results = rep_results.merge(rubiscos[[\"gene\", \"hmm\"]], how=\"left\", on=\"gene\").fillna(\"None\")\n",
    "rep_results = rep_results[[\"sample\", \"genome\", \"gene\", \"mean_coverage\", \"read_count\", \"breadth\", \"rpkm\", \"rpkmo\", \"ko\", \"def\", \"pfams\", \"hmm\"]]\n",
    "rep_results.columns = [\"sample\", \"genome\", \"gene\", \"mean_coverage\", \"read_count\", \"breadth\", \"rpkm\", \"rpkmo\", \"ko\", \"ko_def\", \"pfams\", \"rubisco\"]\n",
    "rep_results.head()"
   ]
  },
  {
   "cell_type": "code",
   "execution_count": 28,
   "id": "4cad0204",
   "metadata": {},
   "outputs": [
    {
     "data": {
      "text/plain": [
       "['K00855', 'K01602', 'K00927']"
      ]
     },
     "execution_count": 28,
     "metadata": {},
     "output_type": "execute_result"
    }
   ],
   "source": [
    "calvin = []\n",
    "\n",
    "for key, row in pd.read_csv(\"/scratch/users/ajaffe/deepeco/tables/kegg_table.tsv\", sep=\"\\t\").iterrows():\n",
    "    for gene in row[\"ko\"].split(\",\"):\n",
    "        calvin.append(gene)\n",
    "\n",
    "calvin[0:3]"
   ]
  },
  {
   "cell_type": "code",
   "execution_count": 29,
   "id": "d08401e6",
   "metadata": {},
   "outputs": [
    {
     "data": {
      "text/plain": [
       "reconciled_function\n",
       "other                          61335\n",
       "ribosomal proteins              1305\n",
       "cbb cycle                        270\n",
       "bicarbonate transporter           45\n",
       "carboxysomal shell proteins       45\n",
       "form I rubisco                    45\n",
       "form II rubisco                   15\n",
       "Name: count, dtype: int64"
      ]
     },
     "execution_count": 29,
     "metadata": {},
     "output_type": "execute_result"
    }
   ],
   "source": [
    "def reconcile_functions(row):\n",
    "    \n",
    "    if row[\"rubisco\"] == \"I\":\n",
    "        return \"form I rubisco\"\n",
    "    elif row[\"pfams\"] == \"RuBisCO_small\":\n",
    "        return \"form I rubisco\"\n",
    "    elif row[\"rubisco\"] == \"II\":\n",
    "        return \"form II rubisco\"\n",
    "    elif \"Cso\" in row[\"pfams\"]:\n",
    "        return \"carboxysomal shell proteins\"\n",
    "    elif \"subunit ribosomal protein\" in row[\"ko_def\"]:\n",
    "        return \"ribosomal proteins\"\n",
    "    elif row[\"ko\"] in calvin:\n",
    "        return \"cbb cycle\"\n",
    "    elif row[\"ko\"] == 'K03321':\n",
    "        return \"bicarbonate transporter\"\n",
    "    else: return \"other\"\n",
    "    \n",
    "rep_results[\"reconciled_function\"] = rep_results.apply(reconcile_functions, axis=1)\n",
    "rep_results[\"reconciled_function\"].value_counts()"
   ]
  },
  {
   "cell_type": "markdown",
   "id": "4267677e",
   "metadata": {},
   "source": [
    "## plot"
   ]
  },
  {
   "cell_type": "code",
   "execution_count": 30,
   "id": "9bc27d23",
   "metadata": {},
   "outputs": [
    {
     "data": {
      "text/html": [
       "<div>\n",
       "<style scoped>\n",
       "    .dataframe tbody tr th:only-of-type {\n",
       "        vertical-align: middle;\n",
       "    }\n",
       "\n",
       "    .dataframe tbody tr th {\n",
       "        vertical-align: top;\n",
       "    }\n",
       "\n",
       "    .dataframe thead th {\n",
       "        text-align: right;\n",
       "    }\n",
       "</style>\n",
       "<table border=\"1\" class=\"dataframe\">\n",
       "  <thead>\n",
       "    <tr style=\"text-align: right;\">\n",
       "      <th></th>\n",
       "      <th>sample</th>\n",
       "      <th>SRA accession no.</th>\n",
       "      <th>BioSample no.</th>\n",
       "      <th>CTD cast; station</th>\n",
       "      <th>Collection date (yr-mo-day)</th>\n",
       "      <th>Collection time (UTC)a</th>\n",
       "      <th>Local collection time (UTC-6)a</th>\n",
       "      <th>Depth (m)</th>\n",
       "      <th>DO (µM)</th>\n",
       "      <th>sample_type</th>\n",
       "      <th>No. of spots (reads)</th>\n",
       "      <th>No. of bases</th>\n",
       "      <th>station</th>\n",
       "    </tr>\n",
       "  </thead>\n",
       "  <tbody>\n",
       "    <tr>\n",
       "      <th>8</th>\n",
       "      <td>304420_S9</td>\n",
       "      <td>SRR14460573</td>\n",
       "      <td>SAMN19065212</td>\n",
       "      <td>59; P1</td>\n",
       "      <td>4/21/18</td>\n",
       "      <td>15:35</td>\n",
       "      <td>9:35</td>\n",
       "      <td>77.0</td>\n",
       "      <td>0.66</td>\n",
       "      <td>SCM</td>\n",
       "      <td>22,226,093</td>\n",
       "      <td>6,667,827,900</td>\n",
       "      <td>P1</td>\n",
       "    </tr>\n",
       "    <tr>\n",
       "      <th>10</th>\n",
       "      <td>304422_S11</td>\n",
       "      <td>SRR14460585</td>\n",
       "      <td>SAMN19065214</td>\n",
       "      <td>63; P1</td>\n",
       "      <td>4/23/18</td>\n",
       "      <td>14:00</td>\n",
       "      <td>8:00</td>\n",
       "      <td>40.0</td>\n",
       "      <td>8.60</td>\n",
       "      <td>Low DO</td>\n",
       "      <td>25,320,982</td>\n",
       "      <td>7,596,294,600</td>\n",
       "      <td>P1</td>\n",
       "    </tr>\n",
       "    <tr>\n",
       "      <th>11</th>\n",
       "      <td>304423_S12</td>\n",
       "      <td>SRR14460584</td>\n",
       "      <td>SAMN19065215</td>\n",
       "      <td>64; P1</td>\n",
       "      <td>4/24/18</td>\n",
       "      <td>14:03</td>\n",
       "      <td>8:03</td>\n",
       "      <td>126.0</td>\n",
       "      <td>1.00</td>\n",
       "      <td>Nitrite max</td>\n",
       "      <td>25,828,575</td>\n",
       "      <td>7,748,572,500</td>\n",
       "      <td>P1</td>\n",
       "    </tr>\n",
       "    <tr>\n",
       "      <th>15</th>\n",
       "      <td>304427_S16</td>\n",
       "      <td>SRR14460580</td>\n",
       "      <td>SAMN19065219</td>\n",
       "      <td>72; P1</td>\n",
       "      <td>4/27/18</td>\n",
       "      <td>9:42</td>\n",
       "      <td>3:42</td>\n",
       "      <td>28.0</td>\n",
       "      <td>33.00</td>\n",
       "      <td>High DO</td>\n",
       "      <td>30,533,274</td>\n",
       "      <td>9,159,982,200</td>\n",
       "      <td>P1</td>\n",
       "    </tr>\n",
       "    <tr>\n",
       "      <th>0</th>\n",
       "      <td>304412_S1</td>\n",
       "      <td>SRR14460587</td>\n",
       "      <td>SAMN19065204</td>\n",
       "      <td>43; P2</td>\n",
       "      <td>4/15/18</td>\n",
       "      <td>14:59</td>\n",
       "      <td>8:59</td>\n",
       "      <td>76.0</td>\n",
       "      <td>16.00</td>\n",
       "      <td>High DO</td>\n",
       "      <td>27,597,785</td>\n",
       "      <td>8,279,335,500</td>\n",
       "      <td>P2</td>\n",
       "    </tr>\n",
       "    <tr>\n",
       "      <th>2</th>\n",
       "      <td>304414_S3</td>\n",
       "      <td>SRR14460579</td>\n",
       "      <td>SAMN19065206</td>\n",
       "      <td>46; P2</td>\n",
       "      <td>4/17/18</td>\n",
       "      <td>15:01</td>\n",
       "      <td>9:01</td>\n",
       "      <td>81.0</td>\n",
       "      <td>4.30</td>\n",
       "      <td>Low DO</td>\n",
       "      <td>20,038,590</td>\n",
       "      <td>6,011,577,000</td>\n",
       "      <td>P2</td>\n",
       "    </tr>\n",
       "    <tr>\n",
       "      <th>3</th>\n",
       "      <td>304415_S4</td>\n",
       "      <td>SRR14460578</td>\n",
       "      <td>SAMN19065207</td>\n",
       "      <td>48; P2</td>\n",
       "      <td>4/18/18</td>\n",
       "      <td>15:01</td>\n",
       "      <td>9:01</td>\n",
       "      <td>150.0</td>\n",
       "      <td>0.60</td>\n",
       "      <td>Nitrite max</td>\n",
       "      <td>28,017,373</td>\n",
       "      <td>8,405,211,900</td>\n",
       "      <td>P2</td>\n",
       "    </tr>\n",
       "    <tr>\n",
       "      <th>4</th>\n",
       "      <td>304416_S5</td>\n",
       "      <td>SRR14460577</td>\n",
       "      <td>SAMN19065208</td>\n",
       "      <td>49; P2</td>\n",
       "      <td>4/18/18</td>\n",
       "      <td>22:01</td>\n",
       "      <td>16:01</td>\n",
       "      <td>106.0</td>\n",
       "      <td>1.00</td>\n",
       "      <td>SCM</td>\n",
       "      <td>25,854,483</td>\n",
       "      <td>7,756,344,900</td>\n",
       "      <td>P2</td>\n",
       "    </tr>\n",
       "  </tbody>\n",
       "</table>\n",
       "</div>"
      ],
      "text/plain": [
       "        sample SRA accession no. BioSample no. CTD cast; station  \\\n",
       "8    304420_S9       SRR14460573  SAMN19065212            59; P1   \n",
       "10  304422_S11       SRR14460585  SAMN19065214            63; P1   \n",
       "11  304423_S12       SRR14460584  SAMN19065215            64; P1   \n",
       "15  304427_S16       SRR14460580  SAMN19065219            72; P1   \n",
       "0    304412_S1       SRR14460587  SAMN19065204            43; P2   \n",
       "2    304414_S3       SRR14460579  SAMN19065206            46; P2   \n",
       "3    304415_S4       SRR14460578  SAMN19065207            48; P2   \n",
       "4    304416_S5       SRR14460577  SAMN19065208            49; P2   \n",
       "\n",
       "   Collection date (yr-mo-day) Collection time (UTC)a  \\\n",
       "8                      4/21/18                  15:35   \n",
       "10                     4/23/18                  14:00   \n",
       "11                     4/24/18                  14:03   \n",
       "15                     4/27/18                   9:42   \n",
       "0                      4/15/18                  14:59   \n",
       "2                      4/17/18                  15:01   \n",
       "3                      4/18/18                  15:01   \n",
       "4                      4/18/18                  22:01   \n",
       "\n",
       "   Local collection time (UTC-6)a  Depth (m)  DO (µM)  sample_type  \\\n",
       "8                            9:35       77.0     0.66          SCM   \n",
       "10                           8:00       40.0     8.60       Low DO   \n",
       "11                           8:03      126.0     1.00  Nitrite max   \n",
       "15                           3:42       28.0    33.00      High DO   \n",
       "0                            8:59       76.0    16.00      High DO   \n",
       "2                            9:01       81.0     4.30       Low DO   \n",
       "3                            9:01      150.0     0.60  Nitrite max   \n",
       "4                           16:01      106.0     1.00          SCM   \n",
       "\n",
       "   No. of spots (reads)   No. of bases station  \n",
       "8            22,226,093  6,667,827,900      P1  \n",
       "10           25,320,982  7,596,294,600      P1  \n",
       "11           25,828,575  7,748,572,500      P1  \n",
       "15           30,533,274  9,159,982,200      P1  \n",
       "0            27,597,785  8,279,335,500      P2  \n",
       "2            20,038,590  6,011,577,000      P2  \n",
       "3            28,017,373  8,405,211,900      P2  \n",
       "4            25,854,483  7,756,344,900      P2  "
      ]
     },
     "execution_count": 30,
     "metadata": {},
     "output_type": "execute_result"
    }
   ],
   "source": [
    "transect = pd.read_csv(rootdir + \"mra_table1.csv\")\n",
    "transect[\"station\"] = transect[\"CTD cast; station\"].apply(lambda x: x.split(\";\")[1].strip())\n",
    "# trim some samples to reduce redundancy / nightime\n",
    "transect = transect[~transect[\"Metatranscriptome\"].isin([\"304426_S15\", \"304421_S10\", \"304424_S13\",\n",
    "                                                        \"304425_S14\", \"304419_S8\", \"304413_S2\",\n",
    "                                                         \"304417_S6\", \"304418_S7\"])]\n",
    "transect = transect.rename(columns={\"Metatranscriptome\": \"sample\", \"Sample typea\":\"sample_type\"})\n",
    "transect.sort_values(\"station\")"
   ]
  },
  {
   "cell_type": "code",
   "execution_count": 46,
   "id": "9a143a74",
   "metadata": {},
   "outputs": [],
   "source": [
    "palette = {\"form II rubisco\": \"#F7A616\", \"form I rubisco\": \"#008000\", \"bicarbonate transporter\": \"lightblue\",\n",
    "           \"carboxysomal shell proteins\": \"#909EC6\", \"cbb cycle\": \"#D98DBF\", \"ribosomal proteins\": \"#7DBFA6\"}"
   ]
  },
  {
   "cell_type": "code",
   "execution_count": 72,
   "id": "d4b39bc0",
   "metadata": {},
   "outputs": [
    {
     "data": {
      "image/png": "[encoded data removed]",
      "text/plain": [
       "<Figure size 982.15x576 with 2 Axes>"
      ]
     },
     "metadata": {
      "needs_background": "light"
     },
     "output_type": "display_data"
    }
   ],
   "source": [
    "presults = rep_results[rep_results[\"sample\"].isin(transect[\"sample\"].to_list())]\n",
    "presults = presults.merge(transect[[\"sample\", \"station\", \"sample_type\"]], how=\"left\")\n",
    "presults[\"log_rpkm\"] = presults[\"rpkmo\"].apply(lambda x: math.log10(x+1))\n",
    "\n",
    "g = sns.catplot(data=presults.query(\"genome=='SRR11923207.100.13'\"), \n",
    "            x=\"log_rpkm\", y=\"sample_type\", kind=\"box\", row=\"genome\", col=\"station\",\n",
    "            hue_order = [\"form II rubisco\", \"form I rubisco\", \"carboxysomal shell proteins\",\n",
    "                        \"bicarbonate transporter\", \"cbb cycle\", \"ribosomal proteins\"], color=\"lightgrey\",\n",
    "            hue=\"reconciled_function\", dodge=True,order=[\"High DO\", \"Low DO\", \"SCM\", \"Nitrite max\"],\n",
    "           height=8, aspect=0.7)\n",
    "g.map_dataframe(sns.stripplot, x=\"log_rpkm\", y=\"sample_type\", \n",
    "                hue_order = [\"form II rubisco\", \"form I rubisco\", \"carboxysomal shell proteins\",\n",
    "                        \"bicarbonate transporter\", \"cbb cycle\", \"ribosomal proteins\"], palette=palette,\n",
    "                hue=\"reconciled_function\", dodge=True)\n",
    "plt.savefig(rootdir + \"txomics/txomics.svg\", format=\"svg\")\n",
    "plt.show()"
   ]
  },
  {
   "cell_type": "code",
   "execution_count": 73,
   "id": "60c2f993",
   "metadata": {},
   "outputs": [],
   "source": [
    "presults.to_csv(rootdir + \"supp/txome_data.tsv\", sep=\"\\t\", index=False)"
   ]
  }
 ],
 "metadata": {
  "kernelspec": {
   "display_name": "Python 3 (ipykernel)",
   "language": "python",
   "name": "python3"
  },
  "language_info": {
   "codemirror_mode": {
    "name": "ipython",
    "version": 3
   },
   "file_extension": ".py",
   "mimetype": "text/x-python",
   "name": "python",
   "nbconvert_exporter": "python",
   "pygments_lexer": "ipython3",
   "version": "3.9.0"
  }
 },
 "nbformat": 4,
 "nbformat_minor": 5
}
