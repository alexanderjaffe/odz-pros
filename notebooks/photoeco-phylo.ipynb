{
 "cells": [
  {
   "cell_type": "code",
   "execution_count": 2,
   "metadata": {
    "collapsed": true
   },
   "outputs": [],
   "source": [
    "from collections import defaultdict\n",
    "from Bio.SeqIO.FastaIO import SimpleFastaParser as sfp\n",
    "from Bio import SeqIO, SearchIO, Entrez\n",
    "import seaborn as sns\n",
    "import pandas as pd\n",
    "import os, glob, math, re, gzip, skbio, time\n",
    "import numpy as np\n",
    "import matplotlib.pyplot as plt\n",
    "from bs4 import BeautifulSoup\n",
    "import warnings\n",
    "from Bio import Entrez\n",
    "warnings.filterwarnings('ignore')\n",
    "Entrez.email = \"ajaffe@stanford.edu\""
   ]
  },
  {
   "cell_type": "code",
   "execution_count": 3,
   "metadata": {
    "collapsed": true
   },
   "outputs": [],
   "source": [
    "def cmdir(path):\n",
    "    if not os.path.isdir(path):\n",
    "        os.mkdir(path)\n",
    "\n",
    "def scaffold(gene):\n",
    "    if gene != \"None\":\n",
    "        try: return re.search(\"(.+?)_[0-9]+$\", gene).group(1)\n",
    "        except: print(gene)\n",
    "\n",
    "def sbatch(name, cpus, cmd):\n",
    "    return \"sbatch -J %s -p serc -t 1- -c %d --mem %dG --wrap '%s'\" %(name, cpus, cpus*8, cmd)"
   ]
  },
  {
   "cell_type": "code",
   "execution_count": 4,
   "metadata": {
    "collapsed": true
   },
   "outputs": [],
   "source": [
    "import sys\n",
    "sys.path.insert(0, '/home/users/ajaffe/notebooks/modules/')\n",
    "import parse"
   ]
  },
  {
   "cell_type": "code",
   "execution_count": 5,
   "metadata": {
    "collapsed": true
   },
   "outputs": [],
   "source": [
    "rootdir = \"/scratch/users/ajaffe/photoeco/\"\n",
    "deepeco = \"/scratch/users/ajaffe/deepeco/\"\n",
    "cmdir(rootdir)"
   ]
  },
  {
   "cell_type": "markdown",
   "metadata": {},
   "source": [
    "# read in data"
   ]
  },
  {
   "cell_type": "code",
   "execution_count": 5,
   "metadata": {},
   "outputs": [
    {
     "data": {
      "text/html": [
       "<div>\n",
       "<style scoped>\n",
       "    .dataframe tbody tr th:only-of-type {\n",
       "        vertical-align: middle;\n",
       "    }\n",
       "\n",
       "    .dataframe tbody tr th {\n",
       "        vertical-align: top;\n",
       "    }\n",
       "\n",
       "    .dataframe thead th {\n",
       "        text-align: right;\n",
       "    }\n",
       "</style>\n",
       "<table border=\"1\" class=\"dataframe\">\n",
       "  <thead>\n",
       "    <tr style=\"text-align: right;\">\n",
       "      <th></th>\n",
       "      <th>genome_name</th>\n",
       "      <th>lineage</th>\n",
       "      <th>checkm_completeness</th>\n",
       "      <th>checkm_redundancy</th>\n",
       "      <th>cluster95</th>\n",
       "      <th>cluster99</th>\n",
       "    </tr>\n",
       "  </thead>\n",
       "  <tbody>\n",
       "    <tr>\n",
       "      <th>0</th>\n",
       "      <td>2626541517</td>\n",
       "      <td>AMZ IB</td>\n",
       "      <td>56.79</td>\n",
       "      <td>6.11</td>\n",
       "      <td>5_1</td>\n",
       "      <td>5_5</td>\n",
       "    </tr>\n",
       "    <tr>\n",
       "      <th>1</th>\n",
       "      <td>2626541518</td>\n",
       "      <td>AMZ IB</td>\n",
       "      <td>60.34</td>\n",
       "      <td>6.90</td>\n",
       "      <td>5_1</td>\n",
       "      <td>5_10</td>\n",
       "    </tr>\n",
       "    <tr>\n",
       "      <th>2</th>\n",
       "      <td>2626541532</td>\n",
       "      <td>AMZ IB</td>\n",
       "      <td>65.62</td>\n",
       "      <td>2.72</td>\n",
       "      <td>5_1</td>\n",
       "      <td>5_14</td>\n",
       "    </tr>\n",
       "    <tr>\n",
       "      <th>3</th>\n",
       "      <td>2626541536</td>\n",
       "      <td>AMZ IB</td>\n",
       "      <td>50.14</td>\n",
       "      <td>5.10</td>\n",
       "      <td>5_1</td>\n",
       "      <td>5_17</td>\n",
       "    </tr>\n",
       "    <tr>\n",
       "      <th>4</th>\n",
       "      <td>2818991511</td>\n",
       "      <td>AMZ II</td>\n",
       "      <td>74.64</td>\n",
       "      <td>0.27</td>\n",
       "      <td>4_1</td>\n",
       "      <td>4_4</td>\n",
       "    </tr>\n",
       "  </tbody>\n",
       "</table>\n",
       "</div>"
      ],
      "text/plain": [
       "  genome_name lineage  checkm_completeness  checkm_redundancy cluster95  \\\n",
       "0  2626541517  AMZ IB                56.79               6.11       5_1   \n",
       "1  2626541518  AMZ IB                60.34               6.90       5_1   \n",
       "2  2626541532  AMZ IB                65.62               2.72       5_1   \n",
       "3  2626541536  AMZ IB                50.14               5.10       5_1   \n",
       "4  2818991511  AMZ II                74.64               0.27       4_1   \n",
       "\n",
       "  cluster99  \n",
       "0       5_5  \n",
       "1      5_10  \n",
       "2      5_14  \n",
       "3      5_17  \n",
       "4       4_4  "
      ]
     },
     "execution_count": 5,
     "metadata": {},
     "output_type": "execute_result"
    }
   ],
   "source": [
    "genomes = pd.read_csv(rootdir + \"genome_table.tsv\", sep=\"\\t\")\n",
    "genomes.head()"
   ]
  },
  {
   "cell_type": "code",
   "execution_count": 6,
   "metadata": {},
   "outputs": [
    {
     "data": {
      "text/html": [
       "<div>\n",
       "<style scoped>\n",
       "    .dataframe tbody tr th:only-of-type {\n",
       "        vertical-align: middle;\n",
       "    }\n",
       "\n",
       "    .dataframe tbody tr th {\n",
       "        vertical-align: top;\n",
       "    }\n",
       "\n",
       "    .dataframe thead th {\n",
       "        text-align: right;\n",
       "    }\n",
       "</style>\n",
       "<table border=\"1\" class=\"dataframe\">\n",
       "  <thead>\n",
       "    <tr style=\"text-align: right;\">\n",
       "      <th></th>\n",
       "      <th>genome_name</th>\n",
       "      <th>lineage</th>\n",
       "      <th>checkm_completeness</th>\n",
       "      <th>checkm_redundancy</th>\n",
       "      <th>cluster95</th>\n",
       "      <th>cluster99</th>\n",
       "    </tr>\n",
       "  </thead>\n",
       "  <tbody>\n",
       "    <tr>\n",
       "      <th>381</th>\n",
       "      <td>SRR4465026.100.83</td>\n",
       "      <td>AMZ III</td>\n",
       "      <td>99.18</td>\n",
       "      <td>0.68</td>\n",
       "      <td>10_1</td>\n",
       "      <td>10_1</td>\n",
       "    </tr>\n",
       "    <tr>\n",
       "      <th>348</th>\n",
       "      <td>SRR11923207.100.13</td>\n",
       "      <td>AMZ IB</td>\n",
       "      <td>93.84</td>\n",
       "      <td>0.27</td>\n",
       "      <td>5_1</td>\n",
       "      <td>5_6</td>\n",
       "    </tr>\n",
       "    <tr>\n",
       "      <th>356</th>\n",
       "      <td>SRR12424656.100.10</td>\n",
       "      <td>AMZ IA</td>\n",
       "      <td>92.80</td>\n",
       "      <td>3.00</td>\n",
       "      <td>5_2</td>\n",
       "      <td>5_23</td>\n",
       "    </tr>\n",
       "    <tr>\n",
       "      <th>374</th>\n",
       "      <td>SRR25584950.100.49</td>\n",
       "      <td>AMZ II</td>\n",
       "      <td>87.38</td>\n",
       "      <td>1.22</td>\n",
       "      <td>4_1</td>\n",
       "      <td>4_5</td>\n",
       "    </tr>\n",
       "  </tbody>\n",
       "</table>\n",
       "</div>"
      ],
      "text/plain": [
       "            genome_name  lineage  checkm_completeness  checkm_redundancy  \\\n",
       "381   SRR4465026.100.83  AMZ III                99.18               0.68   \n",
       "348  SRR11923207.100.13   AMZ IB                93.84               0.27   \n",
       "356  SRR12424656.100.10   AMZ IA                92.80               3.00   \n",
       "374  SRR25584950.100.49   AMZ II                87.38               1.22   \n",
       "\n",
       "    cluster95 cluster99  \n",
       "381      10_1      10_1  \n",
       "348       5_1       5_6  \n",
       "356       5_2      5_23  \n",
       "374       4_1       4_5  "
      ]
     },
     "execution_count": 6,
     "metadata": {},
     "output_type": "execute_result"
    }
   ],
   "source": [
    "genomes[genomes[\"lineage\"].str.contains(\"AMZ\")].sort_values(\"checkm_completeness\", \n",
    "                                                            ascending=False).drop_duplicates(\"lineage\")"
   ]
  },
  {
   "cell_type": "code",
   "execution_count": 7,
   "metadata": {},
   "outputs": [
    {
     "data": {
      "text/html": [
       "<div>\n",
       "<style scoped>\n",
       "    .dataframe tbody tr th:only-of-type {\n",
       "        vertical-align: middle;\n",
       "    }\n",
       "\n",
       "    .dataframe tbody tr th {\n",
       "        vertical-align: top;\n",
       "    }\n",
       "\n",
       "    .dataframe thead th {\n",
       "        text-align: right;\n",
       "    }\n",
       "</style>\n",
       "<table border=\"1\" class=\"dataframe\">\n",
       "  <thead>\n",
       "    <tr style=\"text-align: right;\">\n",
       "      <th></th>\n",
       "      <th>gene</th>\n",
       "      <th>hmm</th>\n",
       "      <th>scaffold</th>\n",
       "      <th>genome_name</th>\n",
       "      <th>lineage</th>\n",
       "      <th>protein_sequence</th>\n",
       "      <th>dataset</th>\n",
       "    </tr>\n",
       "  </thead>\n",
       "  <tbody>\n",
       "    <tr>\n",
       "      <th>0</th>\n",
       "      <td>OceanDNA-b16234_00052_2</td>\n",
       "      <td>II</td>\n",
       "      <td>OceanDNA-b16234_00052</td>\n",
       "      <td>OceanDNA-b16234</td>\n",
       "      <td>AMZ IB</td>\n",
       "      <td>MALNQSSRYADLNLDEQTLINEGRHILCAYRMKPKSGTGYLEGAAH...</td>\n",
       "      <td>cyano</td>\n",
       "    </tr>\n",
       "    <tr>\n",
       "      <th>1</th>\n",
       "      <td>ERR868457.100.1_contig_163_1</td>\n",
       "      <td>II</td>\n",
       "      <td>ERR868457.100.1_contig_163</td>\n",
       "      <td>ERR868457.100.1</td>\n",
       "      <td>AMZ IB</td>\n",
       "      <td>MALNQSSRYADLNLDEQTLINEGRHILCAYRMKPKSGTGYLEGAAH...</td>\n",
       "      <td>cyano</td>\n",
       "    </tr>\n",
       "    <tr>\n",
       "      <th>2</th>\n",
       "      <td>JASLWS010000001.1_45</td>\n",
       "      <td>II</td>\n",
       "      <td>JASLWS010000001.1</td>\n",
       "      <td>GCA_030740755.1_ASM3074075v1_genomic</td>\n",
       "      <td>AMZ IB</td>\n",
       "      <td>MALNQSSRYADLNLDEQTLINEGRHILCAYRMKPKSGTGYLEGAAH...</td>\n",
       "      <td>cyano</td>\n",
       "    </tr>\n",
       "    <tr>\n",
       "      <th>3</th>\n",
       "      <td>JASLTS010000061.1_1</td>\n",
       "      <td>II</td>\n",
       "      <td>JASLTS010000061.1</td>\n",
       "      <td>GCA_030742835.1_ASM3074283v1_genomic</td>\n",
       "      <td>AMZ IB</td>\n",
       "      <td>MALNQSSRYADLNLDEQTLINEGRHILCAYRMKPKSGTGYLEGAAH...</td>\n",
       "      <td>cyano</td>\n",
       "    </tr>\n",
       "    <tr>\n",
       "      <th>4</th>\n",
       "      <td>Ga0078703_1006_31</td>\n",
       "      <td>II</td>\n",
       "      <td>Ga0078703_1006</td>\n",
       "      <td>2626541517</td>\n",
       "      <td>AMZ IB</td>\n",
       "      <td>MALNQSSRYADLNLDEQTLINEGRHILCAYRMKPKSGTGYLEGAAH...</td>\n",
       "      <td>cyano</td>\n",
       "    </tr>\n",
       "  </tbody>\n",
       "</table>\n",
       "</div>"
      ],
      "text/plain": [
       "                           gene hmm                    scaffold  \\\n",
       "0       OceanDNA-b16234_00052_2  II       OceanDNA-b16234_00052   \n",
       "1  ERR868457.100.1_contig_163_1  II  ERR868457.100.1_contig_163   \n",
       "2          JASLWS010000001.1_45  II           JASLWS010000001.1   \n",
       "3           JASLTS010000061.1_1  II           JASLTS010000061.1   \n",
       "4             Ga0078703_1006_31  II              Ga0078703_1006   \n",
       "\n",
       "                            genome_name lineage  \\\n",
       "0                       OceanDNA-b16234  AMZ IB   \n",
       "1                       ERR868457.100.1  AMZ IB   \n",
       "2  GCA_030740755.1_ASM3074075v1_genomic  AMZ IB   \n",
       "3  GCA_030742835.1_ASM3074283v1_genomic  AMZ IB   \n",
       "4                            2626541517  AMZ IB   \n",
       "\n",
       "                                    protein_sequence dataset  \n",
       "0  MALNQSSRYADLNLDEQTLINEGRHILCAYRMKPKSGTGYLEGAAH...   cyano  \n",
       "1  MALNQSSRYADLNLDEQTLINEGRHILCAYRMKPKSGTGYLEGAAH...   cyano  \n",
       "2  MALNQSSRYADLNLDEQTLINEGRHILCAYRMKPKSGTGYLEGAAH...   cyano  \n",
       "3  MALNQSSRYADLNLDEQTLINEGRHILCAYRMKPKSGTGYLEGAAH...   cyano  \n",
       "4  MALNQSSRYADLNLDEQTLINEGRHILCAYRMKPKSGTGYLEGAAH...   cyano  "
      ]
     },
     "execution_count": 7,
     "metadata": {},
     "output_type": "execute_result"
    }
   ],
   "source": [
    "rubiscos = pd.read_csv(rootdir + \"rubisco_table.tsv\", sep=\"\\t\")\n",
    "rubiscos[\"dataset\"] = \"cyano\"\n",
    "rubiscos.head()"
   ]
  },
  {
   "cell_type": "markdown",
   "metadata": {},
   "source": [
    "# rubisco gene tree"
   ]
  },
  {
   "cell_type": "code",
   "execution_count": 39,
   "metadata": {
    "collapsed": true
   },
   "outputs": [],
   "source": [
    "cmdir(rootdir + \"rubisco/phylo\")"
   ]
  },
  {
   "cell_type": "markdown",
   "metadata": {},
   "source": [
    "### gather references"
   ]
  },
  {
   "cell_type": "code",
   "execution_count": 10,
   "metadata": {},
   "outputs": [
    {
     "data": {
      "text/html": [
       "<div>\n",
       "<style scoped>\n",
       "    .dataframe tbody tr th:only-of-type {\n",
       "        vertical-align: middle;\n",
       "    }\n",
       "\n",
       "    .dataframe tbody tr th {\n",
       "        vertical-align: top;\n",
       "    }\n",
       "\n",
       "    .dataframe thead th {\n",
       "        text-align: right;\n",
       "    }\n",
       "</style>\n",
       "<table border=\"1\" class=\"dataframe\">\n",
       "  <thead>\n",
       "    <tr style=\"text-align: right;\">\n",
       "      <th></th>\n",
       "      <th>gene</th>\n",
       "      <th>genome_name</th>\n",
       "      <th>protein_sequence</th>\n",
       "      <th>oligomeric_state</th>\n",
       "      <th>dataset</th>\n",
       "    </tr>\n",
       "  </thead>\n",
       "  <tbody>\n",
       "    <tr>\n",
       "      <th>169</th>\n",
       "      <td>RBC4.13</td>\n",
       "      <td>Sulfurivirga caldicuralii</td>\n",
       "      <td>MDQSNRYANLDLKEEDLINGGRHMLVAYRMKPAPGYGFLEVAAHIA...</td>\n",
       "      <td>tetramer</td>\n",
       "      <td>liu</td>\n",
       "    </tr>\n",
       "    <tr>\n",
       "      <th>118</th>\n",
       "      <td>RBC.1</td>\n",
       "      <td>Thiocystis violascens</td>\n",
       "      <td>MALDQSARYSDLSLTEADLIAGGKHILVAYKMKPKGGIGYLEAAAH...</td>\n",
       "      <td>hexamer</td>\n",
       "      <td>liu</td>\n",
       "    </tr>\n",
       "  </tbody>\n",
       "</table>\n",
       "</div>"
      ],
      "text/plain": [
       "        gene                genome_name  \\\n",
       "169  RBC4.13  Sulfurivirga caldicuralii   \n",
       "118    RBC.1      Thiocystis violascens   \n",
       "\n",
       "                                      protein_sequence oligomeric_state  \\\n",
       "169  MDQSNRYANLDLKEEDLINGGRHMLVAYRMKPAPGYGFLEVAAHIA...         tetramer   \n",
       "118  MALDQSARYSDLSLTEADLIAGGKHILVAYKMKPKGGIGYLEAAAH...          hexamer   \n",
       "\n",
       "    dataset  \n",
       "169     liu  \n",
       "118     liu  "
      ]
     },
     "execution_count": 10,
     "metadata": {},
     "output_type": "execute_result"
    }
   ],
   "source": [
    "# liu et al (not all match btwn tables bc of ambiguities)\n",
    "sequences = pd.read_csv(rootdir + \"liu_sequences.csv\").rename(columns={\"Name\": \"Organism\"})\n",
    "states = pd.read_csv(rootdir + \"liu_states.csv\")\n",
    "liu = sequences.merge(states[[\"Organism\", \"oligomeric_state\"]], how=\"left\", on=\"Organism\").fillna(\"None\")\n",
    "liu.columns = [\"gene\", \"genome_name\", \"protein_sequence\", \"oligomeric_state\"]\n",
    "liu[\"dataset\"] = \"liu\"\n",
    "liu.sort_values(\"oligomeric_state\",ascending=False).head(2)"
   ]
  },
  {
   "cell_type": "code",
   "execution_count": null,
   "metadata": {},
   "outputs": [],
   "source": [
    "# davidi et all\n",
    "davidi = pd.read_csv(rootdir + \"davidi_sequences.csv\").dropna(how=\"all\", axis=1)\n",
    "davidi.columns = [\"gene\", \"form\", \"rate_mean\", \"rate_std\", \"soluble\", \n",
    "                  \"protein_sequence\", \"dna_sequence\", \"genome_name\"]\n",
    "davidi[\"dataset\"] = \"davidi\"\n",
    "davidi.head(2)"
   ]
  },
  {
   "cell_type": "code",
   "execution_count": 11,
   "metadata": {},
   "outputs": [
    {
     "data": {
      "text/html": [
       "<div>\n",
       "<style scoped>\n",
       "    .dataframe tbody tr th:only-of-type {\n",
       "        vertical-align: middle;\n",
       "    }\n",
       "\n",
       "    .dataframe tbody tr th {\n",
       "        vertical-align: top;\n",
       "    }\n",
       "\n",
       "    .dataframe thead th {\n",
       "        text-align: right;\n",
       "    }\n",
       "</style>\n",
       "<table border=\"1\" class=\"dataframe\">\n",
       "  <thead>\n",
       "    <tr style=\"text-align: right;\">\n",
       "      <th></th>\n",
       "      <th>gene</th>\n",
       "      <th>form</th>\n",
       "      <th>genome_name</th>\n",
       "      <th>protein_sequence</th>\n",
       "      <th>dataset</th>\n",
       "    </tr>\n",
       "  </thead>\n",
       "  <tbody>\n",
       "    <tr>\n",
       "      <th>3</th>\n",
       "      <td>WP_121541263.1</td>\n",
       "      <td>II</td>\n",
       "      <td>Mariprofundus sp. EBB-1</td>\n",
       "      <td>MDQSNRYADLSLNEADLIAGGKHLLVAYKLIPAEGYGFLEVAAHIA...</td>\n",
       "      <td>prywes</td>\n",
       "    </tr>\n",
       "    <tr>\n",
       "      <th>41</th>\n",
       "      <td>WP_145111151.1</td>\n",
       "      <td>II</td>\n",
       "      <td>Rhodobacter sediminicola</td>\n",
       "      <td>MDQSNRYARLDLKEADLIAGGRHVLCAYVMKPKAGYGYLETAAHFA...</td>\n",
       "      <td>prywes</td>\n",
       "    </tr>\n",
       "  </tbody>\n",
       "</table>\n",
       "</div>"
      ],
      "text/plain": [
       "              gene form               genome_name  \\\n",
       "3   WP_121541263.1   II   Mariprofundus sp. EBB-1   \n",
       "41  WP_145111151.1   II  Rhodobacter sediminicola   \n",
       "\n",
       "                                     protein_sequence dataset  \n",
       "3   MDQSNRYADLSLNEADLIAGGKHLLVAYKLIPAEGYGFLEVAAHIA...  prywes  \n",
       "41  MDQSNRYARLDLKEADLIAGGRHVLCAYVMKPKAGYGYLETAAHFA...  prywes  "
      ]
     },
     "execution_count": 11,
     "metadata": {},
     "output_type": "execute_result"
    }
   ],
   "source": [
    "# prywes at al\n",
    "prywes = pd.read_csv(\"/home/groups/dekas/ajaffe/hmms/rubisco/\" + \\\n",
    "                     \"File_S3_Rubisco_sequence_table.csv\").drop([\"Unnamed: 0\"], axis=1).query(\"Form=='II'\")\n",
    "prywes = prywes[[\"NCBI_Accession_ID\", \"Form\", \"Species\", \"Sequence\"]]\n",
    "prywes.columns = [\"gene\", \"form\", \"genome_name\", \"protein_sequence\"]\n",
    "prywes[\"dataset\"] = \"prywes\"\n",
    "prywes.head(2)"
   ]
  },
  {
   "cell_type": "code",
   "execution_count": 43,
   "metadata": {},
   "outputs": [
    {
     "data": {
      "text/html": [
       "<div>\n",
       "<style scoped>\n",
       "    .dataframe tbody tr th:only-of-type {\n",
       "        vertical-align: middle;\n",
       "    }\n",
       "\n",
       "    .dataframe tbody tr th {\n",
       "        vertical-align: top;\n",
       "    }\n",
       "\n",
       "    .dataframe thead th {\n",
       "        text-align: right;\n",
       "    }\n",
       "</style>\n",
       "<table border=\"1\" class=\"dataframe\">\n",
       "  <thead>\n",
       "    <tr style=\"text-align: right;\">\n",
       "      <th></th>\n",
       "      <th>gene</th>\n",
       "      <th>genome_name</th>\n",
       "      <th>lineage</th>\n",
       "      <th>protein_sequence</th>\n",
       "      <th>dataset</th>\n",
       "      <th>oligomeric_state</th>\n",
       "      <th>rate_mean</th>\n",
       "      <th>rate_std</th>\n",
       "      <th>soluble</th>\n",
       "      <th>form</th>\n",
       "      <th>tmp_name</th>\n",
       "    </tr>\n",
       "  </thead>\n",
       "  <tbody>\n",
       "    <tr>\n",
       "      <th>0</th>\n",
       "      <td>OceanDNA-b16234_00052_2</td>\n",
       "      <td>OceanDNA-b16234</td>\n",
       "      <td>AMZ IB</td>\n",
       "      <td>MALNQSSRYADLNLDEQTLINEGRHILCAYRMKPKSGTGYLEGAAH...</td>\n",
       "      <td>cyano</td>\n",
       "      <td>None</td>\n",
       "      <td>None</td>\n",
       "      <td>None</td>\n",
       "      <td>None</td>\n",
       "      <td>None</td>\n",
       "      <td>OceanDNA-b16234_00052_2_cyano</td>\n",
       "    </tr>\n",
       "    <tr>\n",
       "      <th>1</th>\n",
       "      <td>ERR868457.100.1_contig_163_1</td>\n",
       "      <td>ERR868457.100.1</td>\n",
       "      <td>AMZ IB</td>\n",
       "      <td>MALNQSSRYADLNLDEQTLINEGRHILCAYRMKPKSGTGYLEGAAH...</td>\n",
       "      <td>cyano</td>\n",
       "      <td>None</td>\n",
       "      <td>None</td>\n",
       "      <td>None</td>\n",
       "      <td>None</td>\n",
       "      <td>None</td>\n",
       "      <td>ERR868457.100.1_contig_163_1_cyano</td>\n",
       "    </tr>\n",
       "  </tbody>\n",
       "</table>\n",
       "</div>"
      ],
      "text/plain": [
       "                           gene      genome_name lineage  \\\n",
       "0       OceanDNA-b16234_00052_2  OceanDNA-b16234  AMZ IB   \n",
       "1  ERR868457.100.1_contig_163_1  ERR868457.100.1  AMZ IB   \n",
       "\n",
       "                                    protein_sequence dataset oligomeric_state  \\\n",
       "0  MALNQSSRYADLNLDEQTLINEGRHILCAYRMKPKSGTGYLEGAAH...   cyano             None   \n",
       "1  MALNQSSRYADLNLDEQTLINEGRHILCAYRMKPKSGTGYLEGAAH...   cyano             None   \n",
       "\n",
       "  rate_mean rate_std soluble  form                            tmp_name  \n",
       "0      None     None    None  None       OceanDNA-b16234_00052_2_cyano  \n",
       "1      None     None    None  None  ERR868457.100.1_contig_163_1_cyano  "
      ]
     },
     "execution_count": 43,
     "metadata": {},
     "output_type": "execute_result"
    }
   ],
   "source": [
    "all_rubiscos = pd.concat([rubiscos.query(\"hmm=='II'\")[[\"gene\", \"genome_name\", \"lineage\",\"protein_sequence\", \"dataset\"]], \n",
    "                          liu, davidi[[\"gene\", \"genome_name\", \"protein_sequence\", \"rate_mean\", \"rate_std\", \"soluble\", \"dataset\"]], prywes]).fillna(\"None\")\n",
    "# come up with unique name temporarily\n",
    "all_rubiscos[\"tmp_name\"] = all_rubiscos.apply(lambda x: \"_\".join([x[\"gene\"], x[\"dataset\"]]), axis=1)\n",
    "all_rubiscos.head(2)"
   ]
  },
  {
   "cell_type": "markdown",
   "metadata": {},
   "source": [
    "### cluster"
   ]
  },
  {
   "cell_type": "code",
   "execution_count": 44,
   "metadata": {
    "collapsed": true
   },
   "outputs": [],
   "source": [
    "with open(rootdir + \"rubisco/phylo/all_sequences.faa\", \"w\") as out:\n",
    "    for key, row in all_rubiscos.iterrows():\n",
    "        out.write(\">%s\\n%s\\n\" %(row[\"tmp_name\"], row[\"protein_sequence\"]))"
   ]
  },
  {
   "cell_type": "code",
   "execution_count": 45,
   "metadata": {},
   "outputs": [
    {
     "name": "stdout",
     "output_type": "stream",
     "text": [
      "usearch -threads 1 -cluster_fast /scratch/users/ajaffe/photoeco/rubisco/phylo/all_sequences.faa -id 1 -sort length -centroids /scratch/users/ajaffe/photoeco/rubisco/phylo/all_sequences.centroids.faa --uc /scratch/users/ajaffe/photoeco/rubisco/phylo/all_sequences.clusters\n"
     ]
    }
   ],
   "source": [
    "call = \"usearch -threads 1 -cluster_fast %s -id 1 -sort length -centroids %s --uc %s\" \\\n",
    "    %(rootdir + \"rubisco/phylo/all_sequences.faa\", \\\n",
    "      rootdir + \"rubisco/phylo/all_sequences.centroids.faa\", \\\n",
    "      rootdir + \"rubisco/phylo/all_sequences.clusters\")\n",
    "print(call)"
   ]
  },
  {
   "cell_type": "code",
   "execution_count": 46,
   "metadata": {},
   "outputs": [
    {
     "data": {
      "text/html": [
       "<div>\n",
       "<style scoped>\n",
       "    .dataframe tbody tr th:only-of-type {\n",
       "        vertical-align: middle;\n",
       "    }\n",
       "\n",
       "    .dataframe tbody tr th {\n",
       "        vertical-align: top;\n",
       "    }\n",
       "\n",
       "    .dataframe thead th {\n",
       "        text-align: right;\n",
       "    }\n",
       "</style>\n",
       "<table border=\"1\" class=\"dataframe\">\n",
       "  <thead>\n",
       "    <tr style=\"text-align: right;\">\n",
       "      <th></th>\n",
       "      <th>gene</th>\n",
       "      <th>genome_name</th>\n",
       "      <th>lineage</th>\n",
       "      <th>protein_sequence</th>\n",
       "      <th>dataset</th>\n",
       "      <th>oligomeric_state</th>\n",
       "      <th>rate_mean</th>\n",
       "      <th>rate_std</th>\n",
       "      <th>soluble</th>\n",
       "      <th>form</th>\n",
       "      <th>tmp_name</th>\n",
       "      <th>cluster_name</th>\n",
       "      <th>is_centroid</th>\n",
       "    </tr>\n",
       "  </thead>\n",
       "  <tbody>\n",
       "    <tr>\n",
       "      <th>0</th>\n",
       "      <td>OceanDNA-b16234_00052_2</td>\n",
       "      <td>OceanDNA-b16234</td>\n",
       "      <td>AMZ IB</td>\n",
       "      <td>MALNQSSRYADLNLDEQTLINEGRHILCAYRMKPKSGTGYLEGAAH...</td>\n",
       "      <td>cyano</td>\n",
       "      <td>None</td>\n",
       "      <td>None</td>\n",
       "      <td>None</td>\n",
       "      <td>None</td>\n",
       "      <td>None</td>\n",
       "      <td>OceanDNA-b16234_00052_2_cyano</td>\n",
       "      <td>PHECO_367</td>\n",
       "      <td>True</td>\n",
       "    </tr>\n",
       "    <tr>\n",
       "      <th>1</th>\n",
       "      <td>ERR868457.100.1_contig_163_1</td>\n",
       "      <td>ERR868457.100.1</td>\n",
       "      <td>AMZ IB</td>\n",
       "      <td>MALNQSSRYADLNLDEQTLINEGRHILCAYRMKPKSGTGYLEGAAH...</td>\n",
       "      <td>cyano</td>\n",
       "      <td>None</td>\n",
       "      <td>None</td>\n",
       "      <td>None</td>\n",
       "      <td>None</td>\n",
       "      <td>None</td>\n",
       "      <td>ERR868457.100.1_contig_163_1_cyano</td>\n",
       "      <td>PHECO_367</td>\n",
       "      <td>False</td>\n",
       "    </tr>\n",
       "  </tbody>\n",
       "</table>\n",
       "</div>"
      ],
      "text/plain": [
       "                           gene      genome_name lineage  \\\n",
       "0       OceanDNA-b16234_00052_2  OceanDNA-b16234  AMZ IB   \n",
       "1  ERR868457.100.1_contig_163_1  ERR868457.100.1  AMZ IB   \n",
       "\n",
       "                                    protein_sequence dataset oligomeric_state  \\\n",
       "0  MALNQSSRYADLNLDEQTLINEGRHILCAYRMKPKSGTGYLEGAAH...   cyano             None   \n",
       "1  MALNQSSRYADLNLDEQTLINEGRHILCAYRMKPKSGTGYLEGAAH...   cyano             None   \n",
       "\n",
       "  rate_mean rate_std soluble  form                            tmp_name  \\\n",
       "0      None     None    None  None       OceanDNA-b16234_00052_2_cyano   \n",
       "1      None     None    None  None  ERR868457.100.1_contig_163_1_cyano   \n",
       "\n",
       "  cluster_name  is_centroid  \n",
       "0    PHECO_367         True  \n",
       "1    PHECO_367        False  "
      ]
     },
     "execution_count": 46,
     "metadata": {},
     "output_type": "execute_result"
    }
   ],
   "source": [
    "clusters = parse.usearch(rootdir + \"rubisco/phylo/all_sequences.clusters\")\n",
    "clusters[\"cluster_name\"] = clusters[\"cluster\"].apply(lambda x: \"PHECO_\" + str(x))\n",
    "clusters[\"is_centroid\"] = clusters.apply(lambda x: x[\"sequence\"]==x[\"centroid\"], axis=1)\n",
    "clusters = clusters[[\"cluster_name\", \"members\", \"sequence\", \\\n",
    "                     \"is_centroid\"]].rename(columns={\"sequence\":\"tmp_name\", \"members\":\"cluster_size\"})\n",
    "all_rubiscos = all_rubiscos.merge(clusters[[\"tmp_name\", \"cluster_name\", \"is_centroid\"]], how=\"left\")\n",
    "all_rubiscos.head(2)"
   ]
  },
  {
   "cell_type": "markdown",
   "metadata": {},
   "source": [
    "### curate representatives"
   ]
  },
  {
   "cell_type": "code",
   "execution_count": 14,
   "metadata": {
    "collapsed": true
   },
   "outputs": [],
   "source": [
    "import scipy\n",
    "\n",
    "def mode(values):\n",
    "    return scipy.stats.mode(values)[0][0]"
   ]
  },
  {
   "cell_type": "code",
   "execution_count": 48,
   "metadata": {},
   "outputs": [
    {
     "data": {
      "text/html": [
       "<div>\n",
       "<style scoped>\n",
       "    .dataframe tbody tr th:only-of-type {\n",
       "        vertical-align: middle;\n",
       "    }\n",
       "\n",
       "    .dataframe tbody tr th {\n",
       "        vertical-align: top;\n",
       "    }\n",
       "\n",
       "    .dataframe thead th {\n",
       "        text-align: right;\n",
       "    }\n",
       "</style>\n",
       "<table border=\"1\" class=\"dataframe\">\n",
       "  <thead>\n",
       "    <tr style=\"text-align: right;\">\n",
       "      <th></th>\n",
       "      <th>cluster_name</th>\n",
       "      <th>gene</th>\n",
       "      <th>genome_name</th>\n",
       "      <th>protein_sequence</th>\n",
       "      <th>rate_mean</th>\n",
       "      <th>rate_std</th>\n",
       "      <th>oligomeric_state</th>\n",
       "      <th>soluble</th>\n",
       "    </tr>\n",
       "  </thead>\n",
       "  <tbody>\n",
       "    <tr>\n",
       "      <th>0</th>\n",
       "      <td>PHECO_367</td>\n",
       "      <td>ERR598946.10.10_contig_195_2</td>\n",
       "      <td>2626541517</td>\n",
       "      <td>MALNQSSRYADLNLDEQTLINEGRHILCAYRMKPKSGTGYLEGAAH...</td>\n",
       "      <td>None</td>\n",
       "      <td>None</td>\n",
       "      <td>None</td>\n",
       "      <td>None</td>\n",
       "    </tr>\n",
       "    <tr>\n",
       "      <th>1</th>\n",
       "      <td>PHECO_342</td>\n",
       "      <td>TARA_SAMEA2620890_METAG-scaffold_5374_3</td>\n",
       "      <td>TARA_SAMEA2620890_METAG_EDBLFKOP</td>\n",
       "      <td>MALNQSSRYADLNLDEQTLINEGRHILCAYRMKPKSGTGYLEGAAH...</td>\n",
       "      <td>None</td>\n",
       "      <td>None</td>\n",
       "      <td>None</td>\n",
       "      <td>None</td>\n",
       "    </tr>\n",
       "  </tbody>\n",
       "</table>\n",
       "</div>"
      ],
      "text/plain": [
       "  cluster_name                                     gene  \\\n",
       "0    PHECO_367             ERR598946.10.10_contig_195_2   \n",
       "1    PHECO_342  TARA_SAMEA2620890_METAG-scaffold_5374_3   \n",
       "\n",
       "                        genome_name  \\\n",
       "0                        2626541517   \n",
       "1  TARA_SAMEA2620890_METAG_EDBLFKOP   \n",
       "\n",
       "                                    protein_sequence rate_mean rate_std  \\\n",
       "0  MALNQSSRYADLNLDEQTLINEGRHILCAYRMKPKSGTGYLEGAAH...      None     None   \n",
       "1  MALNQSSRYADLNLDEQTLINEGRHILCAYRMKPKSGTGYLEGAAH...      None     None   \n",
       "\n",
       "  oligomeric_state soluble  \n",
       "0             None    None  \n",
       "1             None    None  "
      ]
     },
     "execution_count": 48,
     "metadata": {},
     "output_type": "execute_result"
    }
   ],
   "source": [
    "cinfo = defaultdict(list)\n",
    "\n",
    "for cluster in all_rubiscos[\"cluster_name\"].unique():\n",
    "    \n",
    "    table = all_rubiscos[all_rubiscos[\"cluster_name\"]==cluster]\n",
    "    cinfo[\"cluster_name\"].append(cluster)\n",
    "    cinfo[\"gene\"].append(mode(table[\"gene\"].to_list()))\n",
    "    full = [g for g in table[\"genome_name\"].to_list() if \"|\" not in g]\n",
    "    choices = full if full != [] else table[\"genome_name\"].unique()\n",
    "    cinfo[\"genome_name\"].append(mode(choices))\n",
    "    cinfo[\"protein_sequence\"].append(mode(table[\"protein_sequence\"].to_list()))\n",
    "    \n",
    "    for field in [\"rate_mean\", \"rate_std\", \"oligomeric_state\", \"soluble\"]:\n",
    "        choices = [o for o in table[field].to_list() if o !='None']\n",
    "        cinfo[field].append(choices[0] if choices != [] else 'None')\n",
    "    \n",
    "cdf = pd.DataFrame(cinfo)\n",
    "cdf.head(2)"
   ]
  },
  {
   "cell_type": "markdown",
   "metadata": {},
   "source": [
    "### align and tree build"
   ]
  },
  {
   "cell_type": "code",
   "execution_count": 49,
   "metadata": {
    "collapsed": true
   },
   "outputs": [],
   "source": [
    "with open(rootdir + \"rubisco/phylo/nr_sequences.faa\", \"w\") as out:\n",
    "    for key, row in cdf.iterrows():\n",
    "        out.write(\">%s\\n%s\\n\" %(row[\"cluster_name\"], row[\"protein_sequence\"]))"
   ]
  },
  {
   "cell_type": "code",
   "execution_count": 51,
   "metadata": {},
   "outputs": [
    {
     "name": "stdout",
     "output_type": "stream",
     "text": [
      "trimal -in /scratch/users/ajaffe/photoeco/rubisco/phylo/nr_sequences.mafft -out /scratch/users/ajaffe/photoeco/rubisco/phylo/nr_sequences.trimal.mafft -gt 0.1\n"
     ]
    }
   ],
   "source": [
    "aln = \"mafft --thread 20 --auto %s > %s\" %(rootdir + \"rubisco/phylo/nr_sequences.faa\",\n",
    "                                           rootdir + \"rubisco/phylo/nr_sequences.mafft\")\n",
    "trim = \"trimal -in %s -out %s -gt 0.1\" %(rootdir + \"rubisco/phylo/nr_sequences.mafft\",\n",
    "                                         rootdir + \"rubisco/phylo/nr_sequences.trimal.mafft\")\n",
    "print(trim)"
   ]
  },
  {
   "cell_type": "code",
   "execution_count": 54,
   "metadata": {
    "collapsed": true
   },
   "outputs": [],
   "source": [
    "# drop sequences with inadequate bases\n",
    "with open(rootdir + \"rubisco/phylo/nr_sequences.filtered.mafft\", \"w\") as out:\n",
    "    for record in sfp(open(rootdir + \"rubisco/phylo/nr_sequences.trimal.mafft\")):\n",
    "        \n",
    "        aln_len = len(record[1])\n",
    "        aln_filled = len(record[1].replace(\"-\",\"\"))\n",
    "        \n",
    "        if (aln_filled/aln_len >= 0.50):\n",
    "            out.write(\">%s\\n%s\\n\" %(record[0], record[1]))"
   ]
  },
  {
   "cell_type": "code",
   "execution_count": 58,
   "metadata": {},
   "outputs": [
    {
     "name": "stdout",
     "output_type": "stream",
     "text": [
      "sbatch -J tree -p serc -t 1- -c 20 --mem 160G --wrap 'iqtree2 -s /scratch/users/ajaffe/photoeco/rubisco/phylo/nr_sequences.filtered.mafft -bnni -m TEST -st AA -bb 1000 -nt AUTO --threads-max 20 -pre /scratch/users/ajaffe/photoeco/rubisco/phylo/nr_sequences'\n"
     ]
    }
   ],
   "source": [
    "# FASTTREE\n",
    "tree = \"FastTreeMP %s > %s\" %(rootdir + \"rubisco/phylo/nr_sequences.filtered.mafft\",\n",
    "                              rootdir + \"rubisco/phylo/nr_sequences.tre\")\n",
    "#IQTREE\n",
    "tree = \"iqtree2 -s %s -bnni -m TEST -st AA -bb 1000 -nt AUTO --threads-max 20 -pre %s\" %(rootdir + \\\n",
    "    \"rubisco/phylo/nr_sequences.filtered.mafft\", rootdir + \"rubisco/phylo/nr_sequences\")\n",
    "print(sbatch(\"tree\", 20,tree))"
   ]
  },
  {
   "cell_type": "code",
   "execution_count": 59,
   "metadata": {},
   "outputs": [
    {
     "data": {
      "text/plain": [
       "['PHECO_184', 'PHECO_1214', 'PHECO_172', 'PHECO_183', 'PHECO_135']"
      ]
     },
     "execution_count": 59,
     "metadata": {},
     "output_type": "execute_result"
    }
   ],
   "source": [
    "## outgroup\n",
    "two_threes = davidi[davidi[\"form\"]==\"II/III\"][\"gene\"].to_list()\n",
    "cdf[cdf[\"gene\"].isin(two_threes)][\"cluster_name\"].to_list()"
   ]
  },
  {
   "cell_type": "code",
   "execution_count": 60,
   "metadata": {},
   "outputs": [
    {
     "data": {
      "text/plain": [
       "array(['PHECO_367', 'PHECO_342', 'PHECO_1260'], dtype=object)"
      ]
     },
     "execution_count": 60,
     "metadata": {},
     "output_type": "execute_result"
    }
   ],
   "source": [
    "## cyano\n",
    "all_rubiscos[all_rubiscos[\"tmp_name\"].str.contains(\"cyano\")][\"cluster_name\"].unique()"
   ]
  },
  {
   "cell_type": "markdown",
   "metadata": {},
   "source": [
    "### annotate"
   ]
  },
  {
   "cell_type": "code",
   "execution_count": 61,
   "metadata": {
    "collapsed": true
   },
   "outputs": [],
   "source": [
    "def binarize(string):\n",
    "    \n",
    "    if string != 'None':\n",
    "        return 1\n",
    "    else: return -1"
   ]
  },
  {
   "cell_type": "code",
   "execution_count": 62,
   "metadata": {
    "collapsed": true
   },
   "outputs": [],
   "source": [
    "with open(rootdir + \"rubisco/phylo/rubisco.itol.txt\", \"w\") as out:\n",
    "    \n",
    "    out.write(\"DATASET_BINARY\\nSEPARATOR COMMA\\nDATASET_LABEL,formII\\nCOLOR,#ff0000\\n\")\n",
    "    out.write(\"FIELD_SHAPES,2,2,2\\n\")\n",
    "    out.write(\"FIELD_LABELS,rate,oligomeric,soluble\\n\")\n",
    "    out.write(\"FIELD_COLORS,red,blue,green\\nDATA\\n\")\n",
    "    \n",
    "    for key, row in cdf.iterrows():\n",
    "        out.write(\"%s,%s,%s,%s\\n\" %(row[\"cluster_name\"], binarize(row[\"rate_mean\"]),\n",
    "                                  binarize(row[\"oligomeric_state\"]), binarize(row[\"soluble\"])))"
   ]
  },
  {
   "cell_type": "markdown",
   "metadata": {},
   "source": [
    "### analyze conserved residues"
   ]
  },
  {
   "cell_type": "code",
   "execution_count": 47,
   "metadata": {},
   "outputs": [
    {
     "data": {
      "text/html": [
       "<div>\n",
       "<style scoped>\n",
       "    .dataframe tbody tr th:only-of-type {\n",
       "        vertical-align: middle;\n",
       "    }\n",
       "\n",
       "    .dataframe tbody tr th {\n",
       "        vertical-align: top;\n",
       "    }\n",
       "\n",
       "    .dataframe thead th {\n",
       "        text-align: right;\n",
       "    }\n",
       "</style>\n",
       "<table border=\"1\" class=\"dataframe\">\n",
       "  <thead>\n",
       "    <tr style=\"text-align: right;\">\n",
       "      <th></th>\n",
       "      <th>sequence</th>\n",
       "      <th>48</th>\n",
       "      <th>51</th>\n",
       "      <th>53</th>\n",
       "      <th>54</th>\n",
       "      <th>111</th>\n",
       "      <th>166</th>\n",
       "      <th>168</th>\n",
       "      <th>191</th>\n",
       "      <th>192</th>\n",
       "      <th>...</th>\n",
       "      <th>194</th>\n",
       "      <th>287</th>\n",
       "      <th>288</th>\n",
       "      <th>321</th>\n",
       "      <th>329</th>\n",
       "      <th>368</th>\n",
       "      <th>369</th>\n",
       "      <th>370</th>\n",
       "      <th>393</th>\n",
       "      <th>394</th>\n",
       "    </tr>\n",
       "  </thead>\n",
       "  <tbody>\n",
       "    <tr>\n",
       "      <th>0</th>\n",
       "      <td>PHECO_367</td>\n",
       "      <td>E</td>\n",
       "      <td>T</td>\n",
       "      <td>T</td>\n",
       "      <td>N</td>\n",
       "      <td>N</td>\n",
       "      <td>K</td>\n",
       "      <td>K</td>\n",
       "      <td>K</td>\n",
       "      <td>N</td>\n",
       "      <td>...</td>\n",
       "      <td>E</td>\n",
       "      <td>H</td>\n",
       "      <td>R</td>\n",
       "      <td>H</td>\n",
       "      <td>K</td>\n",
       "      <td>S</td>\n",
       "      <td>G</td>\n",
       "      <td>G</td>\n",
       "      <td>G</td>\n",
       "      <td>G</td>\n",
       "    </tr>\n",
       "    <tr>\n",
       "      <th>1</th>\n",
       "      <td>PHECO_342</td>\n",
       "      <td>E</td>\n",
       "      <td>T</td>\n",
       "      <td>T</td>\n",
       "      <td>N</td>\n",
       "      <td>N</td>\n",
       "      <td>K</td>\n",
       "      <td>K</td>\n",
       "      <td>K</td>\n",
       "      <td>N</td>\n",
       "      <td>...</td>\n",
       "      <td>E</td>\n",
       "      <td>H</td>\n",
       "      <td>R</td>\n",
       "      <td>H</td>\n",
       "      <td>K</td>\n",
       "      <td>S</td>\n",
       "      <td>G</td>\n",
       "      <td>G</td>\n",
       "      <td>G</td>\n",
       "      <td>G</td>\n",
       "    </tr>\n",
       "    <tr>\n",
       "      <th>2</th>\n",
       "      <td>PHECO_1260</td>\n",
       "      <td>E</td>\n",
       "      <td>T</td>\n",
       "      <td>T</td>\n",
       "      <td>N</td>\n",
       "      <td>N</td>\n",
       "      <td>K</td>\n",
       "      <td>K</td>\n",
       "      <td>K</td>\n",
       "      <td>N</td>\n",
       "      <td>...</td>\n",
       "      <td>E</td>\n",
       "      <td>H</td>\n",
       "      <td>R</td>\n",
       "      <td>H</td>\n",
       "      <td>K</td>\n",
       "      <td>-</td>\n",
       "      <td>-</td>\n",
       "      <td>-</td>\n",
       "      <td>-</td>\n",
       "      <td>-</td>\n",
       "    </tr>\n",
       "    <tr>\n",
       "      <th>3</th>\n",
       "      <td>PHECO_131</td>\n",
       "      <td>E</td>\n",
       "      <td>T</td>\n",
       "      <td>T</td>\n",
       "      <td>N</td>\n",
       "      <td>N</td>\n",
       "      <td>K</td>\n",
       "      <td>K</td>\n",
       "      <td>K</td>\n",
       "      <td>N</td>\n",
       "      <td>...</td>\n",
       "      <td>E</td>\n",
       "      <td>H</td>\n",
       "      <td>R</td>\n",
       "      <td>H</td>\n",
       "      <td>K</td>\n",
       "      <td>S</td>\n",
       "      <td>G</td>\n",
       "      <td>G</td>\n",
       "      <td>G</td>\n",
       "      <td>G</td>\n",
       "    </tr>\n",
       "  </tbody>\n",
       "</table>\n",
       "<p>4 rows × 21 columns</p>\n",
       "</div>"
      ],
      "text/plain": [
       "     sequence 48 51 53 54 111 166 168 191 192  ... 194 287 288 321 329 368  \\\n",
       "0   PHECO_367  E  T  T  N   N   K   K   K   N  ...   E   H   R   H   K   S   \n",
       "1   PHECO_342  E  T  T  N   N   K   K   K   N  ...   E   H   R   H   K   S   \n",
       "2  PHECO_1260  E  T  T  N   N   K   K   K   N  ...   E   H   R   H   K   -   \n",
       "3   PHECO_131  E  T  T  N   N   K   K   K   N  ...   E   H   R   H   K   S   \n",
       "\n",
       "  369 370 393 394  \n",
       "0   G   G   G   G  \n",
       "1   G   G   G   G  \n",
       "2   -   -   -   -  \n",
       "3   G   G   G   G  \n",
       "\n",
       "[4 rows x 21 columns]"
      ]
     },
     "execution_count": 47,
     "metadata": {},
     "output_type": "execute_result"
    }
   ],
   "source": [
    "sequences = [\"PHECO_131\", \"PHECO_1260\", \"PHECO_367\", \"PHECO_342\"]\n",
    "residues = [48, 51, 53, 54, 111, 166, 168, 191, 192,\n",
    "            193, 194, 287, 288, 321, 329, 368, 369, 370, 393, 394]\n",
    "\n",
    "aligned_residues = {}\n",
    "\n",
    "for record in sfp(open(rootdir + \"phylo/nr_sequences.mafft\")):\n",
    "    \n",
    "    if record[0] == \"PHECO_131\":\n",
    "        ungapped = 1\n",
    "        for i, site in enumerate(list(record[1])):\n",
    "            if site != '-':\n",
    "                aligned_residues[ungapped] = i\n",
    "                ungapped+=1\n",
    "\n",
    "residue_info = defaultdict(list)\n",
    "\n",
    "for record in sfp(open(rootdir + \"phylo/nr_sequences.mafft\")):\n",
    "    \n",
    "    if record[0] in sequences:\n",
    "        residue_info[\"sequence\"].append(record[0])\n",
    "        for residue in residues:\n",
    "            residue_info[residue].append(record[1][aligned_residues[residue]])\n",
    "\n",
    "residue_df = pd.DataFrame(residue_info)\n",
    "residue_df.to_csv(rootdir + \"supp/residues.tsv\", sep=\"\\t\", index=False)\n",
    "residue_df.head()"
   ]
  },
  {
   "cell_type": "markdown",
   "metadata": {},
   "source": [
    "### export"
   ]
  },
  {
   "cell_type": "code",
   "execution_count": 63,
   "metadata": {
    "collapsed": true
   },
   "outputs": [],
   "source": [
    "all_rubiscos.to_csv(rootdir + \"all_rubiscos.tsv\", sep=\"\\t\", index=False)\n",
    "cdf.to_csv(rootdir + \"clustered_rubiscos.tsv\", sep=\"\\t\", index=False)"
   ]
  },
  {
   "cell_type": "markdown",
   "metadata": {},
   "source": [
    "# species tree"
   ]
  },
  {
   "cell_type": "code",
   "execution_count": 34,
   "metadata": {
    "collapsed": true
   },
   "outputs": [],
   "source": [
    "cmdir(rootdir + \"phylo\")"
   ]
  },
  {
   "cell_type": "markdown",
   "metadata": {},
   "source": [
    "### annotate genomes"
   ]
  },
  {
   "cell_type": "code",
   "execution_count": 97,
   "metadata": {
    "collapsed": true
   },
   "outputs": [],
   "source": [
    "scaf2bin = {}\n",
    "\n",
    "with open(rootdir + \"phylo/all_rep_proteins.faa\", \"w\") as out:\n",
    "\n",
    "    for cluster in genomes[~genomes[\"lineage\"].str.contains(\"AMZ\")][\"cluster99\"].unique():\n",
    "\n",
    "        table = genomes[genomes[\"cluster99\"]==cluster].sort_values(\"checkm_completeness\", ascending=False)\n",
    "        representative = table[\"genome_name\"].iloc[0]\n",
    "        \n",
    "        faapath = glob.glob(rootdir + \"genomes/filtered/\" + representative + \".genes.faa\")[0]\n",
    "            \n",
    "        for record in sfp(open(faapath)):\n",
    "            name = record[0].split(\" # \")[0]\n",
    "            newname = representative + \"_\" + name\n",
    "            out.write(\">%s\\n%s\\n\" %(newname, record[1]))\n",
    "            scaf2bin[\"_\".join(newname.split(\"_\")[:-1])] = representative\n",
    "            \n",
    "    for key, row in genomes[genomes[\"lineage\"].str.contains(\"AMZ\")].iterrows():\n",
    "        \n",
    "        representative = row[\"genome_name\"]\n",
    "        \n",
    "        faapath = glob.glob(rootdir + \"genomes/filtered/\" + representative + \".genes.faa\")[0]\n",
    "            \n",
    "        for record in sfp(open(faapath)):\n",
    "            name = record[0].split(\" # \")[0]\n",
    "            newname = representative + \"_\" + name\n",
    "            out.write(\">%s\\n%s\\n\" %(newname, record[1]))\n",
    "            scaf2bin[\"_\".join(newname.split(\"_\")[:-1])] = representative"
   ]
  },
  {
   "cell_type": "code",
   "execution_count": 98,
   "metadata": {
    "scrolled": true
   },
   "outputs": [
    {
     "name": "stdout",
     "output_type": "stream",
     "text": [
      "sbatch -J kfscan -p serc -t 1- -c 20 --mem 160G --wrap 'exec_annotation -o /scratch/users/ajaffe/photoeco/phylo/all_rep_proteins.kfscan.txt /scratch/users/ajaffe/photoeco/phylo/all_rep_proteins.faa -p /home/groups/dekas/software/kofamscan/profiles/prokaryote.hal -k /home/groups/dekas/software/kofamscan/ko_list --cpu 20 -f detail'\n"
     ]
    }
   ],
   "source": [
    "# generate kfscan call\n",
    "kocall = \"exec_annotation -o %s %s -p %s -k %s --cpu 20 -f detail\" \\\n",
    "    %(rootdir + \"phylo/all_rep_proteins.kfscan.txt\",\n",
    "      rootdir + \"phylo/all_rep_proteins.faa\",\n",
    "     \"/home/groups/dekas/software/kofamscan/profiles/prokaryote.hal\",\n",
    "      \"/home/groups/dekas/software/kofamscan/ko_list\")\n",
    "print(sbatch(\"kfscan\", 20, kocall))"
   ]
  },
  {
   "cell_type": "code",
   "execution_count": 106,
   "metadata": {},
   "outputs": [
    {
     "data": {
      "text/html": [
       "<div>\n",
       "<style scoped>\n",
       "    .dataframe tbody tr th:only-of-type {\n",
       "        vertical-align: middle;\n",
       "    }\n",
       "\n",
       "    .dataframe tbody tr th {\n",
       "        vertical-align: top;\n",
       "    }\n",
       "\n",
       "    .dataframe thead th {\n",
       "        text-align: right;\n",
       "    }\n",
       "</style>\n",
       "<table border=\"1\" class=\"dataframe\">\n",
       "  <thead>\n",
       "    <tr style=\"text-align: right;\">\n",
       "      <th></th>\n",
       "      <th>gene</th>\n",
       "      <th>ko</th>\n",
       "      <th>threshold</th>\n",
       "      <th>score</th>\n",
       "      <th>eval</th>\n",
       "      <th>def</th>\n",
       "    </tr>\n",
       "  </thead>\n",
       "  <tbody>\n",
       "    <tr>\n",
       "      <th>1402768</th>\n",
       "      <td>2681813574_Ga0132167_11_1503</td>\n",
       "      <td>K00284</td>\n",
       "      <td>2197.70</td>\n",
       "      <td>2262.1</td>\n",
       "      <td>0.0</td>\n",
       "      <td>glutamate synthase (ferredoxin) [EC:1.4.7.1]</td>\n",
       "    </tr>\n",
       "    <tr>\n",
       "      <th>1060147</th>\n",
       "      <td>2681813570_Ga0132163_11_1583</td>\n",
       "      <td>K00284</td>\n",
       "      <td>2197.70</td>\n",
       "      <td>2260.2</td>\n",
       "      <td>0.0</td>\n",
       "      <td>glutamate synthase (ferredoxin) [EC:1.4.7.1]</td>\n",
       "    </tr>\n",
       "    <tr>\n",
       "      <th>3245093</th>\n",
       "      <td>GCA_000179255.1_ASM17925v1_genomic_ADXM0100002...</td>\n",
       "      <td>K00284</td>\n",
       "      <td>2197.70</td>\n",
       "      <td>2259.3</td>\n",
       "      <td>0.0</td>\n",
       "      <td>glutamate synthase (ferredoxin) [EC:1.4.7.1]</td>\n",
       "    </tr>\n",
       "    <tr>\n",
       "      <th>674467</th>\n",
       "      <td>GCA_000760195.1_ASM76019v1_genomic_JNAV0100000...</td>\n",
       "      <td>K00284</td>\n",
       "      <td>2197.70</td>\n",
       "      <td>2258.5</td>\n",
       "      <td>0.0</td>\n",
       "      <td>glutamate synthase (ferredoxin) [EC:1.4.7.1]</td>\n",
       "    </tr>\n",
       "    <tr>\n",
       "      <th>6605896</th>\n",
       "      <td>BGEO_SAMN07136707_METAG_GCDCBBHG_BGEO_SAMN0713...</td>\n",
       "      <td>K00284</td>\n",
       "      <td>2197.70</td>\n",
       "      <td>2256.0</td>\n",
       "      <td>0.0</td>\n",
       "      <td>glutamate synthase (ferredoxin) [EC:1.4.7.1]</td>\n",
       "    </tr>\n",
       "  </tbody>\n",
       "</table>\n",
       "</div>"
      ],
      "text/plain": [
       "                                                      gene      ko threshold  \\\n",
       "1402768                       2681813574_Ga0132167_11_1503  K00284   2197.70   \n",
       "1060147                       2681813570_Ga0132163_11_1583  K00284   2197.70   \n",
       "3245093  GCA_000179255.1_ASM17925v1_genomic_ADXM0100002...  K00284   2197.70   \n",
       "674467   GCA_000760195.1_ASM76019v1_genomic_JNAV0100000...  K00284   2197.70   \n",
       "6605896  BGEO_SAMN07136707_METAG_GCDCBBHG_BGEO_SAMN0713...  K00284   2197.70   \n",
       "\n",
       "          score  eval                                           def  \n",
       "1402768  2262.1   0.0  glutamate synthase (ferredoxin) [EC:1.4.7.1]  \n",
       "1060147  2260.2   0.0  glutamate synthase (ferredoxin) [EC:1.4.7.1]  \n",
       "3245093  2259.3   0.0  glutamate synthase (ferredoxin) [EC:1.4.7.1]  \n",
       "674467   2258.5   0.0  glutamate synthase (ferredoxin) [EC:1.4.7.1]  \n",
       "6605896  2256.0   0.0  glutamate synthase (ferredoxin) [EC:1.4.7.1]  "
      ]
     },
     "execution_count": 106,
     "metadata": {},
     "output_type": "execute_result"
    }
   ],
   "source": [
    "kresults = parse.kofamscan(rootdir + \"phylo/all_rep_proteins.kfscan.txt\", 1e-5)\n",
    "kresults.head()"
   ]
  },
  {
   "cell_type": "markdown",
   "metadata": {},
   "source": [
    "### extract markers"
   ]
  },
  {
   "cell_type": "code",
   "execution_count": 107,
   "metadata": {},
   "outputs": [
    {
     "data": {
      "text/plain": [
       "16"
      ]
     },
     "execution_count": 107,
     "metadata": {},
     "output_type": "execute_result"
    }
   ],
   "source": [
    "# extract 16 RP results from kofam results\n",
    "rp16 = [\"S8\",\"L5\",\"L18\",\"S3\",\"L22\",\"S10\",\"S19\",\"L14\",\"L15\",\"L24\",\"L16\",\"L2\",\"L3\",\"S17\",\"L6\",\"L4\"]\n",
    "terms = [\"subunit ribosomal protein \" + term + \"$\" for term in rp16]\n",
    "# filter\n",
    "k16 = kresults[kresults[\"def\"].str.contains('|'.join(terms))]\n",
    "# check results\n",
    "len(k16[\"def\"].unique())"
   ]
  },
  {
   "cell_type": "code",
   "execution_count": 108,
   "metadata": {},
   "outputs": [
    {
     "data": {
      "text/html": [
       "<div>\n",
       "<style scoped>\n",
       "    .dataframe tbody tr th:only-of-type {\n",
       "        vertical-align: middle;\n",
       "    }\n",
       "\n",
       "    .dataframe tbody tr th {\n",
       "        vertical-align: top;\n",
       "    }\n",
       "\n",
       "    .dataframe thead th {\n",
       "        text-align: right;\n",
       "    }\n",
       "</style>\n",
       "<table border=\"1\" class=\"dataframe\">\n",
       "  <thead>\n",
       "    <tr style=\"text-align: right;\">\n",
       "      <th></th>\n",
       "      <th>gene</th>\n",
       "      <th>ko</th>\n",
       "      <th>threshold</th>\n",
       "      <th>score</th>\n",
       "      <th>eval</th>\n",
       "      <th>def</th>\n",
       "      <th>scaffold</th>\n",
       "      <th>bin</th>\n",
       "      <th>mode_scaf</th>\n",
       "      <th>scafscore</th>\n",
       "    </tr>\n",
       "  </thead>\n",
       "  <tbody>\n",
       "    <tr>\n",
       "      <th>0</th>\n",
       "      <td>TARA_SAMEA2623426_METAG_LGAMDCOL_TARA_SAMEA262...</td>\n",
       "      <td>K02886</td>\n",
       "      <td>140.53</td>\n",
       "      <td>334.6</td>\n",
       "      <td>2.900000e-98</td>\n",
       "      <td>large subunit ribosomal protein L2</td>\n",
       "      <td>TARA_SAMEA2623426_METAG_LGAMDCOL_TARA_SAMEA262...</td>\n",
       "      <td>TARA_SAMEA2623426_METAG_LGAMDCOL</td>\n",
       "      <td>TARA_SAMEA2623426_METAG_LGAMDCOL_TARA_SAMEA262...</td>\n",
       "      <td>True</td>\n",
       "    </tr>\n",
       "    <tr>\n",
       "      <th>1</th>\n",
       "      <td>GCA_000063525.1_ASM6352v1_genomic_CT978603.1_2120</td>\n",
       "      <td>K02886</td>\n",
       "      <td>140.53</td>\n",
       "      <td>334.5</td>\n",
       "      <td>3.000000e-98</td>\n",
       "      <td>large subunit ribosomal protein L2</td>\n",
       "      <td>GCA_000063525.1_ASM6352v1_genomic_CT978603.1</td>\n",
       "      <td>GCA_000063525.1_ASM6352v1_genomic</td>\n",
       "      <td>GCA_000063525.1_ASM6352v1_genomic_CT978603.1</td>\n",
       "      <td>True</td>\n",
       "    </tr>\n",
       "  </tbody>\n",
       "</table>\n",
       "</div>"
      ],
      "text/plain": [
       "                                                gene      ko threshold  score  \\\n",
       "0  TARA_SAMEA2623426_METAG_LGAMDCOL_TARA_SAMEA262...  K02886    140.53  334.6   \n",
       "1  GCA_000063525.1_ASM6352v1_genomic_CT978603.1_2120  K02886    140.53  334.5   \n",
       "\n",
       "           eval                                 def  \\\n",
       "0  2.900000e-98  large subunit ribosomal protein L2   \n",
       "1  3.000000e-98  large subunit ribosomal protein L2   \n",
       "\n",
       "                                            scaffold  \\\n",
       "0  TARA_SAMEA2623426_METAG_LGAMDCOL_TARA_SAMEA262...   \n",
       "1       GCA_000063525.1_ASM6352v1_genomic_CT978603.1   \n",
       "\n",
       "                                 bin  \\\n",
       "0   TARA_SAMEA2623426_METAG_LGAMDCOL   \n",
       "1  GCA_000063525.1_ASM6352v1_genomic   \n",
       "\n",
       "                                           mode_scaf  scafscore  \n",
       "0  TARA_SAMEA2623426_METAG_LGAMDCOL_TARA_SAMEA262...       True  \n",
       "1       GCA_000063525.1_ASM6352v1_genomic_CT978603.1       True  "
      ]
     },
     "execution_count": 108,
     "metadata": {},
     "output_type": "execute_result"
    }
   ],
   "source": [
    "# selection step - one per genome, same contig?\n",
    "k16[\"scaffold\"] = k16[\"gene\"].apply(scaffold)\n",
    "k16[\"bin\"] = k16[\"scaffold\"].map(scaf2bin)\n",
    "# get mode scaffold per bin\n",
    "modes = k16.groupby(\"bin\", as_index=False).aggregate({\"scaffold\": lambda x: scipy.stats.mode(x).mode[0]})\n",
    "modes.columns = [\"bin\", \"mode_scaf\"]\n",
    "k16 = k16.merge(modes, how=\"left\", on=\"bin\")\n",
    "# is hmm on the mode scaf?\n",
    "k16[\"scafscore\"] = k16.apply(lambda x: x[\"scaffold\"]==x[\"mode_scaf\"], axis=1)\n",
    "# sort and dereplicate preferencing those on mode scaf\n",
    "rpfilt = k16.sort_values([\"bin\", \"ko\", \"scafscore\", \"score\"], \n",
    "    ascending=[False,False,False,False]).drop_duplicates([\"bin\", \"ko\"])\n",
    "k16.head(2)"
   ]
  },
  {
   "cell_type": "code",
   "execution_count": 109,
   "metadata": {},
   "outputs": [
    {
     "data": {
      "image/png": "[encoded data removed]",
      "text/plain": [
       "<Figure size 432x288 with 1 Axes>"
      ]
     },
     "metadata": {
      "needs_background": "light"
     },
     "output_type": "display_data"
    }
   ],
   "source": [
    "scaf_counts=[]\n",
    "\n",
    "for bin in rpfilt[\"bin\"].unique():\n",
    "    scaf_counts.append(len(set(rpfilt[rpfilt[\"bin\"]==bin][\"scaffold\"])))\n",
    "    \n",
    "sns.histplot(scaf_counts, kde=False, discrete=True)\n",
    "plt.show()"
   ]
  },
  {
   "cell_type": "code",
   "execution_count": 117,
   "metadata": {},
   "outputs": [
    {
     "data": {
      "text/html": [
       "<div>\n",
       "<style scoped>\n",
       "    .dataframe tbody tr th:only-of-type {\n",
       "        vertical-align: middle;\n",
       "    }\n",
       "\n",
       "    .dataframe tbody tr th {\n",
       "        vertical-align: top;\n",
       "    }\n",
       "\n",
       "    .dataframe thead th {\n",
       "        text-align: right;\n",
       "    }\n",
       "</style>\n",
       "<table border=\"1\" class=\"dataframe\">\n",
       "  <thead>\n",
       "    <tr style=\"text-align: right;\">\n",
       "      <th>ko</th>\n",
       "      <th>K02874</th>\n",
       "      <th>K02876</th>\n",
       "      <th>K02878</th>\n",
       "      <th>K02881</th>\n",
       "      <th>K02886</th>\n",
       "      <th>K02890</th>\n",
       "      <th>K02895</th>\n",
       "      <th>K02906</th>\n",
       "      <th>K02926</th>\n",
       "      <th>K02931</th>\n",
       "      <th>K02933</th>\n",
       "      <th>K02946</th>\n",
       "      <th>K02961</th>\n",
       "      <th>K02965</th>\n",
       "      <th>K02982</th>\n",
       "      <th>K02994</th>\n",
       "    </tr>\n",
       "    <tr>\n",
       "      <th>bin</th>\n",
       "      <th></th>\n",
       "      <th></th>\n",
       "      <th></th>\n",
       "      <th></th>\n",
       "      <th></th>\n",
       "      <th></th>\n",
       "      <th></th>\n",
       "      <th></th>\n",
       "      <th></th>\n",
       "      <th></th>\n",
       "      <th></th>\n",
       "      <th></th>\n",
       "      <th></th>\n",
       "      <th></th>\n",
       "      <th></th>\n",
       "      <th></th>\n",
       "    </tr>\n",
       "  </thead>\n",
       "  <tbody>\n",
       "    <tr>\n",
       "      <th>2626541536</th>\n",
       "      <td>2626541536_Ga0078726_1005_26</td>\n",
       "      <td>2626541536_Ga0078726_1005_33</td>\n",
       "      <td>2626541536_Ga0078726_1005_23</td>\n",
       "      <td>2626541536_Ga0078726_1005_31</td>\n",
       "      <td>2626541536_Ga0078726_1005_19</td>\n",
       "      <td>2626541536_Ga0078726_1005_21</td>\n",
       "      <td>2626541536_Ga0078726_1005_27</td>\n",
       "      <td>2626541536_Ga0078726_1005_16</td>\n",
       "      <td>2626541536_Ga0078726_1005_17</td>\n",
       "      <td>2626541536_Ga0078726_1005_28</td>\n",
       "      <td>2626541536_Ga0078726_1005_30</td>\n",
       "      <td>None</td>\n",
       "      <td>2626541536_Ga0078726_1005_25</td>\n",
       "      <td>2626541536_Ga0078726_1005_20</td>\n",
       "      <td>2626541536_Ga0078726_1005_22</td>\n",
       "      <td>2626541536_Ga0078726_1005_29</td>\n",
       "    </tr>\n",
       "    <tr>\n",
       "      <th>2651870162</th>\n",
       "      <td>None</td>\n",
       "      <td>None</td>\n",
       "      <td>2651870162_Ga0113973_1027_3</td>\n",
       "      <td>None</td>\n",
       "      <td>2651870162_Ga0113973_1027_6</td>\n",
       "      <td>2651870162_Ga0113973_1027_5</td>\n",
       "      <td>None</td>\n",
       "      <td>None</td>\n",
       "      <td>2651870162_Ga0113973_1027_8</td>\n",
       "      <td>None</td>\n",
       "      <td>None</td>\n",
       "      <td>2651870162_Ga0113973_1109_3</td>\n",
       "      <td>2651870162_Ga0113973_1027_1</td>\n",
       "      <td>None</td>\n",
       "      <td>2651870162_Ga0113973_1027_4</td>\n",
       "      <td>None</td>\n",
       "    </tr>\n",
       "  </tbody>\n",
       "</table>\n",
       "</div>"
      ],
      "text/plain": [
       "ko                                K02874                        K02876  \\\n",
       "bin                                                                      \n",
       "2626541536  2626541536_Ga0078726_1005_26  2626541536_Ga0078726_1005_33   \n",
       "2651870162                          None                          None   \n",
       "\n",
       "ko                                K02878                        K02881  \\\n",
       "bin                                                                      \n",
       "2626541536  2626541536_Ga0078726_1005_23  2626541536_Ga0078726_1005_31   \n",
       "2651870162   2651870162_Ga0113973_1027_3                          None   \n",
       "\n",
       "ko                                K02886                        K02890  \\\n",
       "bin                                                                      \n",
       "2626541536  2626541536_Ga0078726_1005_19  2626541536_Ga0078726_1005_21   \n",
       "2651870162   2651870162_Ga0113973_1027_6   2651870162_Ga0113973_1027_5   \n",
       "\n",
       "ko                                K02895                        K02906  \\\n",
       "bin                                                                      \n",
       "2626541536  2626541536_Ga0078726_1005_27  2626541536_Ga0078726_1005_16   \n",
       "2651870162                          None                          None   \n",
       "\n",
       "ko                                K02926                        K02931  \\\n",
       "bin                                                                      \n",
       "2626541536  2626541536_Ga0078726_1005_17  2626541536_Ga0078726_1005_28   \n",
       "2651870162   2651870162_Ga0113973_1027_8                          None   \n",
       "\n",
       "ko                                K02933                       K02946  \\\n",
       "bin                                                                     \n",
       "2626541536  2626541536_Ga0078726_1005_30                         None   \n",
       "2651870162                          None  2651870162_Ga0113973_1109_3   \n",
       "\n",
       "ko                                K02961                        K02965  \\\n",
       "bin                                                                      \n",
       "2626541536  2626541536_Ga0078726_1005_25  2626541536_Ga0078726_1005_20   \n",
       "2651870162   2651870162_Ga0113973_1027_1                          None   \n",
       "\n",
       "ko                                K02982                        K02994  \n",
       "bin                                                                     \n",
       "2626541536  2626541536_Ga0078726_1005_22  2626541536_Ga0078726_1005_29  \n",
       "2651870162   2651870162_Ga0113973_1027_4                          None  "
      ]
     },
     "execution_count": 117,
     "metadata": {},
     "output_type": "execute_result"
    }
   ],
   "source": [
    "rpiv = rpfilt.pivot(index=\"bin\", columns=\"ko\", values=\"gene\").fillna(\"None\")\n",
    "# filter out those with inadequate marker counts\n",
    "rpiv[\"total\"] = rpiv.apply(lambda x: sum([x[col]!='None' for col in rpiv.columns]), axis=1)\n",
    "rpiv = rpiv[rpiv[\"total\"]>=4].drop(\"total\", axis=1)\n",
    "rpiv.head(2)"
   ]
  },
  {
   "cell_type": "markdown",
   "metadata": {},
   "source": [
    "### align individual genes"
   ]
  },
  {
   "cell_type": "code",
   "execution_count": 118,
   "metadata": {
    "collapsed": true
   },
   "outputs": [],
   "source": [
    "outdir = rootdir + \"phylo/\"\n",
    "\n",
    "tmp = {record[0].replace(\":\",\"_\"):record[1] for record in \\\n",
    "          sfp(open(rootdir + \"phylo/all_rep_proteins.faa\"))}"
   ]
  },
  {
   "cell_type": "code",
   "execution_count": 119,
   "metadata": {
    "collapsed": true
   },
   "outputs": [],
   "source": [
    "with open(outdir + \"wrapper.sh\", \"w\") as wrapper:\n",
    "    \n",
    "    for col in rpiv.columns:\n",
    "        \n",
    "        if \"K0\" in col:\n",
    "            \n",
    "            file = outdir + col\n",
    "            with open(file + \".faa\", \"w\") as faa:\n",
    "                for key, row in rpiv.iterrows():\n",
    "                    if row[col] != \"None\":\n",
    "                        clean = row[col].replace(\":\",\"_\")\n",
    "                        faa.write(\">%s\\n%s\\n\" %(clean, tmp[clean]))\n",
    "                        \n",
    "            mafft = \"mafft %s > %s\" %(file + \".faa\", file + \".mafft\")\n",
    "            wrapper.write(mafft + \"\\n\")\n",
    "            \n",
    "            trim = \"trimal -in %s -out %s -gt 0.1\" %(file + \\\n",
    "                \".mafft\", file + \".trimal.mafft\")\n",
    "            wrapper.write(trim + \"\\n\")    \n",
    "\n",
    "tmp = {}"
   ]
  },
  {
   "cell_type": "code",
   "execution_count": 120,
   "metadata": {
    "collapsed": true
   },
   "outputs": [],
   "source": [
    "aln_lens = {}\n",
    "\n",
    "for aln in glob.glob(rootdir + \"phylo/*trimal*\"):\n",
    "    gene = os.path.basename(aln).split(\".\")[0]\n",
    "    tmp[gene] = {}\n",
    "    for record in sfp(open(aln)):\n",
    "        tmp[gene][record[0]] = record[1]\n",
    "    aln_lens[gene] = len(record[1])\n",
    "        \n",
    "with open(rootdir + \"phylo/rp16.mafft\", \"w\") as out:\n",
    "    for key, row in rpiv.iterrows():\n",
    "        out.write(\">%s\\n\" %(key))\n",
    "        for col in rpiv.columns:\n",
    "            if row[col] == \"None\":\n",
    "                out.write(\"-\"*aln_lens[col])\n",
    "            else:\n",
    "                clean = row[col].replace(\":\",\"_\")\n",
    "                out.write(tmp[col][clean])\n",
    "        out.write(\"\\n\")\n",
    "\n",
    "tmp = {}"
   ]
  },
  {
   "cell_type": "markdown",
   "metadata": {},
   "source": [
    "### tree + annotation"
   ]
  },
  {
   "cell_type": "code",
   "execution_count": 121,
   "metadata": {
    "collapsed": true
   },
   "outputs": [],
   "source": [
    "palette = {\"HL I\": \"blue\", \"HL II\" :\"blue\", \"HL III\":\"blue\", \"HL III/IV\": \"blue\", \"HL IV\": \"blue\",\n",
    "           \"LL IV\": \"green\", \"LL I\": \"lightgreen\", \"LL II\": \"lightgreen\", \"LL III\": \"lightgreen\", \"LL II/III\": \"lightgreen\",\n",
    "           \"5.1\": \"purple\", \"5.1A\":\"purple\", \"5.1B\":\"purple\", \"5.2\":\"purple\", \"5.3\":\"purple\", \n",
    "           \"AMZ IA\" : \"red\", \"AMZ IB\": \"orange\", \"AMZ II\":\"yellow\", \"AMZ III\":\"pink\", \"unaffiliated\": \"lightgrey\"}"
   ]
  },
  {
   "cell_type": "code",
   "execution_count": 122,
   "metadata": {},
   "outputs": [
    {
     "name": "stdout",
     "output_type": "stream",
     "text": [
      "sbatch -J iqtree -p serc -t 1- -c 20 --mem 160G --wrap 'iqtree2 -s /scratch/users/ajaffe/photoeco/phylo/rp16.mafft -bnni -m TEST -st AA -bb 1000 --threads-max 20 -nt AUTO -pre /scratch/users/ajaffe/photoeco/phylo/rp16'\n"
     ]
    }
   ],
   "source": [
    "#FASTREE\n",
    "cmd = \"FastTreeMP %s > %s\" %(rootdir + \"phylo/rp16.mafft\",\n",
    "                            rootdir + \"phylo/rp16.tre\")\n",
    "#IQTREE\n",
    "tree = \"iqtree2 -s %s -bnni -m TEST -st AA -bb 1000 --threads-max 20 -nt AUTO -pre %s\" %(rootdir + \\\n",
    "    \"phylo/rp16.mafft\", rootdir + \"phylo/rp16\")\n",
    "print(sbatch(\"iqtree\", 20, tree))"
   ]
  },
  {
   "cell_type": "code",
   "execution_count": 123,
   "metadata": {
    "collapsed": true
   },
   "outputs": [],
   "source": [
    "# annotate\n",
    "itol = open(rootdir + \"phylo/rp16.itol.txt\", \"w\")\n",
    "itol.write(\"TREE_COLORS\\nSEPARATOR TAB\\nDATA\\n\")\n",
    "\n",
    "for key, row in genomes.iterrows():\n",
    "    color = palette[row[\"lineage\"]]\n",
    "    label = row[\"lineage\"]\n",
    "    itol.write(row[\"genome_name\"] + \"\\trange\\t\" + color + \"\\t\" + label + \"\\n\")\n",
    "    \n",
    "itol.close()"
   ]
  },
  {
   "cell_type": "code",
   "execution_count": 137,
   "metadata": {
    "collapsed": true
   },
   "outputs": [],
   "source": [
    "# rubiscos and stuff\n",
    "itol = open(rootdir + \"phylo/dataset.itol.txt\", \"w\")\n",
    "itol.write(\"DATASET_BINARY\\nSEPARATOR COMMA\\nDATASET_LABEL,rubiscos\\nCOLOR,#ff0000\\n\")\n",
    "itol.write(\"FIELD_SHAPES,1,1,1,2,2\\n\")\n",
    "itol.write(\"FIELD_LABELS,isolate,this,type,formI,formII\\n\")\n",
    "itol.write(\"FIELD_COLORS,back,black,black,green,blue\\nDATA\\n\")\n",
    "    \n",
    "#for cluster in genomes[\"cluster99\"].unique():\n",
    "for key, row in pd.read_csv(rootdir + \"supp/table_s1_curated.tsv\",sep=\"\\t\").iterrows():\n",
    "\n",
    "    #table = genomes[genomes[\"cluster99\"]==cluster].sort_values(\"checkm_completeness\", ascending=False)\n",
    "    #genes = rubiscos[rubiscos[\"genome_name\"].isin(table[\"genome_name\"].to_list())][\"hmm\"].unique()\n",
    "    genes = rubiscos[rubiscos[\"genome_name\"]==row[\"genome_name\"]][\"hmm\"].unique()\n",
    "    \n",
    "    #representative = table[\"genome_name\"].iloc[0]\n",
    "    \n",
    "    if row[\"genome_type\"] == \"MAG\":\n",
    "        gtype = 1\n",
    "    elif row[\"genome_type\"] in [\"SAG\", \"isolate\"]:\n",
    "        gtype = 0\n",
    "    else: gtype = -1\n",
    "        \n",
    "    isolate = 1 if row[\"genome_type\"] == \"isolate\" else 0\n",
    "    this = 1 if \"RR\" in row[\"genome_name\"] else 0\n",
    "    \n",
    "    one = 1 if \"I\" in genes else -1\n",
    "    two = 1 if \"II\" in genes else -1\n",
    "    itol.write(\"%s,%d,%d,%d,%d,%d\\n\" %(row[\"genome_name\"], isolate,this,gtype, one, two))\n",
    "    #itol.write(\"%s,%d,%d\\n\" %(representative, one, two))\n",
    "    \n",
    "itol.close()"
   ]
  },
  {
   "cell_type": "markdown",
   "metadata": {},
   "source": [
    "## misc"
   ]
  },
  {
   "cell_type": "code",
   "execution_count": 11,
   "metadata": {
    "collapsed": true
   },
   "outputs": [],
   "source": [
    "s2 = kresults[kresults[\"def\"].str.contains(\"subunit ribosomal protein S2$\")]\n",
    "s2[\"scaffold\"] = s2[\"gene\"].apply(lambda x: \"_\".join(x.split(\"_\")[:-1]))\n",
    "s2[\"bin\"] = s2[\"scaffold\"].map(scaf2bin)\n",
    "\n",
    "with open(rootdir + \"phylo/s2.faa\", \"w\") as out:\n",
    "    \n",
    "    for key, row in s2.sort_values(\"score\", ascending=False).drop_duplicates(\"bin\").iterrows():\n",
    "        clean = row[\"gene\"].replace(\":\",\"_\")\n",
    "        out.write(\">%s\\n%s\\n\" %(clean, tmp[clean]))"
   ]
  }
 ],
 "metadata": {
  "kernelspec": {
   "display_name": "Python 3",
   "language": "python",
   "name": "python3"
  },
  "language_info": {
   "codemirror_mode": {
    "name": "ipython",
    "version": 3
   },
   "file_extension": ".py",
   "mimetype": "text/x-python",
   "name": "python",
   "nbconvert_exporter": "python",
   "pygments_lexer": "ipython3",
   "version": "3.6.1"
  }
 },
 "nbformat": 4,
 "nbformat_minor": 5
}
