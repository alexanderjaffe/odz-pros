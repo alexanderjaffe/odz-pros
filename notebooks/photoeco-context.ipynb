{
 "cells": [
  {
   "cell_type": "code",
   "execution_count": 1,
   "metadata": {
    "collapsed": true
   },
   "outputs": [],
   "source": [
    "from collections import defaultdict\n",
    "from Bio.SeqIO.FastaIO import SimpleFastaParser as sfp\n",
    "from Bio import SeqIO, SearchIO, Entrez\n",
    "import seaborn as sns\n",
    "import pandas as pd\n",
    "import os, glob, math, re, gzip, skbio, time\n",
    "import numpy as np\n",
    "import matplotlib.pyplot as plt\n",
    "from bs4 import BeautifulSoup\n",
    "import warnings\n",
    "from Bio import Entrez\n",
    "warnings.filterwarnings('ignore')\n",
    "Entrez.email = \"ajaffe@stanford.edu\""
   ]
  },
  {
   "cell_type": "code",
   "execution_count": 2,
   "metadata": {
    "collapsed": true
   },
   "outputs": [],
   "source": [
    "import sys\n",
    "sys.path.insert(0, '/home/users/ajaffe/notebooks/modules/')\n",
    "import parse"
   ]
  },
  {
   "cell_type": "code",
   "execution_count": 3,
   "metadata": {
    "collapsed": true
   },
   "outputs": [],
   "source": [
    "def cmdir(path):\n",
    "    if not os.path.isdir(path):\n",
    "        os.mkdir(path)\n",
    "\n",
    "def scaffold(gene):\n",
    "    if gene != \"None\":\n",
    "        try: return re.search(\"(.+?)_[0-9]+$\", gene).group(1)\n",
    "        except: print(gene)\n",
    "\n",
    "def sbatch(name, cpus, cmd):\n",
    "    return \"sbatch -J %s -p serc -t 1- -c %d --mem %dG --wrap '%s'\" %(name, cpus, cpus*8, cmd)"
   ]
  },
  {
   "cell_type": "code",
   "execution_count": 4,
   "metadata": {
    "collapsed": true
   },
   "outputs": [],
   "source": [
    "rootdir = \"/scratch/users/ajaffe/photoeco/\"\n",
    "cmdir(rootdir + \"context\")"
   ]
  },
  {
   "cell_type": "markdown",
   "metadata": {},
   "source": [
    "# gather data"
   ]
  },
  {
   "cell_type": "code",
   "execution_count": 5,
   "metadata": {
    "collapsed": true
   },
   "outputs": [],
   "source": [
    "cmdir(rootdir + \"context/external\")\n",
    "cmdir(rootdir + \"context/internal\")"
   ]
  },
  {
   "cell_type": "markdown",
   "metadata": {},
   "source": [
    "### cyano"
   ]
  },
  {
   "cell_type": "code",
   "execution_count": 6,
   "metadata": {},
   "outputs": [
    {
     "data": {
      "text/html": [
       "<div>\n",
       "<style scoped>\n",
       "    .dataframe tbody tr th:only-of-type {\n",
       "        vertical-align: middle;\n",
       "    }\n",
       "\n",
       "    .dataframe tbody tr th {\n",
       "        vertical-align: top;\n",
       "    }\n",
       "\n",
       "    .dataframe thead th {\n",
       "        text-align: right;\n",
       "    }\n",
       "</style>\n",
       "<table border=\"1\" class=\"dataframe\">\n",
       "  <thead>\n",
       "    <tr style=\"text-align: right;\">\n",
       "      <th></th>\n",
       "      <th>gene</th>\n",
       "      <th>hmm</th>\n",
       "      <th>scaffold</th>\n",
       "      <th>genome_name</th>\n",
       "      <th>lineage</th>\n",
       "      <th>protein_sequence</th>\n",
       "    </tr>\n",
       "  </thead>\n",
       "  <tbody>\n",
       "    <tr>\n",
       "      <th>0</th>\n",
       "      <td>OceanDNA-b16234_00052_2</td>\n",
       "      <td>II</td>\n",
       "      <td>OceanDNA-b16234_00052</td>\n",
       "      <td>OceanDNA-b16234</td>\n",
       "      <td>AMZ IB</td>\n",
       "      <td>MALNQSSRYADLNLDEQTLINEGRHILCAYRMKPKSGTGYLEGAAH...</td>\n",
       "    </tr>\n",
       "    <tr>\n",
       "      <th>1</th>\n",
       "      <td>ERR868457.100.1_contig_163_1</td>\n",
       "      <td>II</td>\n",
       "      <td>ERR868457.100.1_contig_163</td>\n",
       "      <td>ERR868457.100.1</td>\n",
       "      <td>AMZ IB</td>\n",
       "      <td>MALNQSSRYADLNLDEQTLINEGRHILCAYRMKPKSGTGYLEGAAH...</td>\n",
       "    </tr>\n",
       "    <tr>\n",
       "      <th>2</th>\n",
       "      <td>JASLWS010000001.1_45</td>\n",
       "      <td>II</td>\n",
       "      <td>JASLWS010000001.1</td>\n",
       "      <td>GCA_030740755.1_ASM3074075v1_genomic</td>\n",
       "      <td>AMZ IB</td>\n",
       "      <td>MALNQSSRYADLNLDEQTLINEGRHILCAYRMKPKSGTGYLEGAAH...</td>\n",
       "    </tr>\n",
       "    <tr>\n",
       "      <th>3</th>\n",
       "      <td>JASLTS010000061.1_1</td>\n",
       "      <td>II</td>\n",
       "      <td>JASLTS010000061.1</td>\n",
       "      <td>GCA_030742835.1_ASM3074283v1_genomic</td>\n",
       "      <td>AMZ IB</td>\n",
       "      <td>MALNQSSRYADLNLDEQTLINEGRHILCAYRMKPKSGTGYLEGAAH...</td>\n",
       "    </tr>\n",
       "    <tr>\n",
       "      <th>4</th>\n",
       "      <td>Ga0078703_1006_31</td>\n",
       "      <td>II</td>\n",
       "      <td>Ga0078703_1006</td>\n",
       "      <td>2626541517</td>\n",
       "      <td>AMZ IB</td>\n",
       "      <td>MALNQSSRYADLNLDEQTLINEGRHILCAYRMKPKSGTGYLEGAAH...</td>\n",
       "    </tr>\n",
       "  </tbody>\n",
       "</table>\n",
       "</div>"
      ],
      "text/plain": [
       "                           gene hmm                    scaffold  \\\n",
       "0       OceanDNA-b16234_00052_2  II       OceanDNA-b16234_00052   \n",
       "1  ERR868457.100.1_contig_163_1  II  ERR868457.100.1_contig_163   \n",
       "2          JASLWS010000001.1_45  II           JASLWS010000001.1   \n",
       "3           JASLTS010000061.1_1  II           JASLTS010000061.1   \n",
       "4             Ga0078703_1006_31  II              Ga0078703_1006   \n",
       "\n",
       "                            genome_name lineage  \\\n",
       "0                       OceanDNA-b16234  AMZ IB   \n",
       "1                       ERR868457.100.1  AMZ IB   \n",
       "2  GCA_030740755.1_ASM3074075v1_genomic  AMZ IB   \n",
       "3  GCA_030742835.1_ASM3074283v1_genomic  AMZ IB   \n",
       "4                            2626541517  AMZ IB   \n",
       "\n",
       "                                    protein_sequence  \n",
       "0  MALNQSSRYADLNLDEQTLINEGRHILCAYRMKPKSGTGYLEGAAH...  \n",
       "1  MALNQSSRYADLNLDEQTLINEGRHILCAYRMKPKSGTGYLEGAAH...  \n",
       "2  MALNQSSRYADLNLDEQTLINEGRHILCAYRMKPKSGTGYLEGAAH...  \n",
       "3  MALNQSSRYADLNLDEQTLINEGRHILCAYRMKPKSGTGYLEGAAH...  \n",
       "4  MALNQSSRYADLNLDEQTLINEGRHILCAYRMKPKSGTGYLEGAAH...  "
      ]
     },
     "execution_count": 6,
     "metadata": {},
     "output_type": "execute_result"
    }
   ],
   "source": [
    "cyano = pd.read_csv(rootdir + \"rubisco_table.tsv\", sep=\"\\t\")\n",
    "cyano.head()"
   ]
  },
  {
   "cell_type": "code",
   "execution_count": 7,
   "metadata": {
    "collapsed": true
   },
   "outputs": [],
   "source": [
    "for key, row in cyano.query(\"hmm=='II'\").iterrows():\n",
    "    \n",
    "    faa = glob.glob(rootdir + \"genomes/filtered/\" + row[\"genome_name\"] + \".genes.faa\")\n",
    "    out = rootdir + \"context/internal/\" + row[\"scaffold\"] + \".faa\"\n",
    "    \n",
    "    with open(out, \"w\") as outfile:\n",
    "        for record in sfp(open(faa[0])):\n",
    "            orf = record[0].split(\" # \")[0]\n",
    "            scaf = \"_\".join(orf.split(\"_\")[:-1])\n",
    "            if scaf == row[\"scaffold\"]:\n",
    "                outfile.write(\">%s\\n%s\\n\" %(orf, record[1]))"
   ]
  },
  {
   "cell_type": "markdown",
   "metadata": {},
   "source": [
    "### related"
   ]
  },
  {
   "cell_type": "code",
   "execution_count": 7,
   "metadata": {},
   "outputs": [
    {
     "data": {
      "text/plain": [
       "['WP_092620206.1',\n",
       " 'TARA_110.SAMEA2622429.380.0.22-3_1648520_4',\n",
       " 'TARA_056.SAMEA2620666.1000.0.22-3_9262_5',\n",
       " 'TARA_137.SAMEA2623295.40.0.22-3_632769_33',\n",
       " 'WP_043107373.1']"
      ]
     },
     "execution_count": 7,
     "metadata": {},
     "output_type": "execute_result"
    }
   ],
   "source": [
    "rubiscos = pd.read_csv(rootdir + \"all_rubiscos.tsv\", sep=\"\\t\")\n",
    "neighbors = [line.replace(\" \", \"_\").strip() for line in \\\n",
    "             open(rootdir + \"context/neighbors.txt\").readlines()]\n",
    "genes = rubiscos[(rubiscos[\"cluster_name\"].isin(neighbors)) & \n",
    "                 (~rubiscos[\"gene\"].isin(cyano[\"gene\"]))][\"gene\"].to_list()\n",
    "genes[5:10]"
   ]
  },
  {
   "cell_type": "code",
   "execution_count": 8,
   "metadata": {},
   "outputs": [
    {
     "name": "stdout",
     "output_type": "stream",
     "text": [
      "II.CBBH failed on <class 'urllib.error.HTTPError'> error\n",
      "RBC2.24 failed on <class 'urllib.error.HTTPError'> error\n",
      "RBC4.70 failed on <class 'urllib.error.HTTPError'> error\n",
      "WP_043107373.1 found but not in a MAG.\n",
      "WP_045226995.1 found but not in a MAG.\n",
      "WP_092620206.1 found but not in a MAG.\n",
      "TARA_110.SAMEA2622429.380.0.22-3_1648520_4 failed on <class 'urllib.error.HTTPError'> error\n",
      "TARA_056.SAMEA2620666.1000.0.22-3_9262_5 failed on <class 'urllib.error.HTTPError'> error\n",
      "TARA_137.SAMEA2623295.40.0.22-3_632769_33 failed on <class 'urllib.error.HTTPError'> error\n",
      "WP_043107373.1 found but not in a MAG.\n",
      "WP_045226995.1 found but not in a MAG.\n",
      "WP_092620206.1 found but not in a MAG.\n",
      "WP_205430433.1 found but not in a MAG.\n",
      "WP_153249906.1 found but not in a MAG.\n"
     ]
    }
   ],
   "source": [
    "extinfo = defaultdict(list)\n",
    "\n",
    "for gene in genes:\n",
    "        \n",
    "    try:\n",
    "        \n",
    "        handle = Entrez.efetch(db=\"protein\", id=gene, retmode=\"xml\")\n",
    "        soup = BeautifulSoup(handle, \"html.parser\")\n",
    "        defn = soup.find(\"gbseq_definition\").string\n",
    "        handle.close()\n",
    "\n",
    "        if \"MAG\" in defn:\n",
    "\n",
    "            source = soup.find(\"gbseq_source-db\").string.split(\" \")[1]\n",
    "            handle = Entrez.efetch(db=\"nucleotide\", id=source, rettype=\"gb\", retmode=\"text\")\n",
    "\n",
    "            for record in SeqIO.parse(handle, \"genbank\"):\n",
    "\n",
    "                name = record.name\n",
    "                outfile = rootdir + \"context/external/\" + record.name + \".faa\"\n",
    "\n",
    "                with open(outfile, \"w\") as out:\n",
    "                    for feature in record.features:\n",
    "                        if feature.type == \"CDS\":\n",
    "                            if \"translation\" in feature.qualifiers:\n",
    "                                out.write(\">%s\\n%s\\n\" %(feature.qualifiers[\"protein_id\"][0], \n",
    "                                                        feature.qualifiers[\"translation\"][0]))\n",
    "                        if feature.type == \"source\":\n",
    "                            extinfo[\"rubisco\"].append(gene)\n",
    "                            extinfo[\"filename\"].append(name)\n",
    "                            for field in [\"organism\", \"isolate\", \"isolation_source\", \"metagenome_source\"]:\n",
    "                                try:\n",
    "                                    extinfo[field].append(feature.qualifiers[field][0])\n",
    "                                except: extinfo[field].append(\"None\")\n",
    "            handle.close()\n",
    "        \n",
    "        else: print(\"%s found but not in a MAG.\" %(gene))\n",
    "    \n",
    "    except Exception as error: print(\"%s failed on %s error\" %(gene, type(error)))\n",
    "        \n",
    "    time.sleep(1)\n",
    "\n",
    "extdf = pd.DataFrame(extinfo)"
   ]
  },
  {
   "cell_type": "markdown",
   "metadata": {},
   "source": [
    "# annotation"
   ]
  },
  {
   "cell_type": "markdown",
   "metadata": {},
   "source": [
    "### functional"
   ]
  },
  {
   "cell_type": "code",
   "execution_count": 13,
   "metadata": {
    "collapsed": true
   },
   "outputs": [],
   "source": [
    "# combine\n",
    "with open(rootdir + \"context/neighbors.faa\", \"w\") as out:\n",
    "    for scaf in glob.glob(rootdir + \"context/*ternal/*\"):\n",
    "        for record in sfp(open(scaf)):\n",
    "            out.write(\">%s\\n%s\\n\" %(record[0], record[1]))"
   ]
  },
  {
   "cell_type": "code",
   "execution_count": 14,
   "metadata": {},
   "outputs": [
    {
     "name": "stdout",
     "output_type": "stream",
     "text": [
      "sbatch -J kfscan -p serc -t 1- -c 20 --mem 160G --wrap 'exec_annotation -o /scratch/users/ajaffe/photoeco/context/neighbors.kfscan.txt /scratch/users/ajaffe/photoeco/context/neighbors.faa -p /home/groups/dekas/software/kofamscan/profiles/prokaryote.hal -k /home/groups/dekas/software/kofamscan/ko_list --cpu 20 -f detail'\n"
     ]
    }
   ],
   "source": [
    "#kofam\n",
    "kocall = \"exec_annotation -o %s %s -p %s -k %s --cpu 20 -f detail\" \\\n",
    "    %(rootdir + \"context/neighbors.kfscan.txt\",\n",
    "      rootdir + \"context/neighbors.faa\",\n",
    "     \"/home/groups/dekas/software/kofamscan/profiles/prokaryote.hal\",\n",
    "      \"/home/groups/dekas/software/kofamscan/ko_list\")\n",
    "print(sbatch(\"kfscan\", 20, kocall))"
   ]
  },
  {
   "cell_type": "code",
   "execution_count": 9,
   "metadata": {},
   "outputs": [
    {
     "data": {
      "text/html": [
       "<div>\n",
       "<style scoped>\n",
       "    .dataframe tbody tr th:only-of-type {\n",
       "        vertical-align: middle;\n",
       "    }\n",
       "\n",
       "    .dataframe tbody tr th {\n",
       "        vertical-align: top;\n",
       "    }\n",
       "\n",
       "    .dataframe thead th {\n",
       "        text-align: right;\n",
       "    }\n",
       "</style>\n",
       "<table border=\"1\" class=\"dataframe\">\n",
       "  <thead>\n",
       "    <tr style=\"text-align: right;\">\n",
       "      <th></th>\n",
       "      <th>gene</th>\n",
       "      <th>ko</th>\n",
       "      <th>threshold</th>\n",
       "      <th>score</th>\n",
       "      <th>eval</th>\n",
       "      <th>def</th>\n",
       "    </tr>\n",
       "  </thead>\n",
       "  <tbody>\n",
       "    <tr>\n",
       "      <th>24622</th>\n",
       "      <td>MBP81482.1</td>\n",
       "      <td>K18989</td>\n",
       "      <td>990.27</td>\n",
       "      <td>1420.1</td>\n",
       "      <td>0.0</td>\n",
       "      <td>multidrug efflux pump</td>\n",
       "    </tr>\n",
       "    <tr>\n",
       "      <th>19374</th>\n",
       "      <td>MBT3263320.1</td>\n",
       "      <td>K18989</td>\n",
       "      <td>990.27</td>\n",
       "      <td>1408.1</td>\n",
       "      <td>0.0</td>\n",
       "      <td>multidrug efflux pump</td>\n",
       "    </tr>\n",
       "  </tbody>\n",
       "</table>\n",
       "</div>"
      ],
      "text/plain": [
       "               gene      ko threshold   score  eval                    def\n",
       "24622    MBP81482.1  K18989    990.27  1420.1   0.0  multidrug efflux pump\n",
       "19374  MBT3263320.1  K18989    990.27  1408.1   0.0  multidrug efflux pump"
      ]
     },
     "execution_count": 9,
     "metadata": {},
     "output_type": "execute_result"
    }
   ],
   "source": [
    "kresults = parse.kofamscan(rootdir + \"context/neighbors.kfscan.txt\", 1e-20)\n",
    "kresults.head(2)"
   ]
  },
  {
   "cell_type": "code",
   "execution_count": 17,
   "metadata": {},
   "outputs": [
    {
     "name": "stdout",
     "output_type": "stream",
     "text": [
      "sbatch -J pfam -p serc -t 1- -c 20 --mem 160G --wrap 'hmmsearch --cpu 20 --domtblout /scratch/users/ajaffe/photoeco/context/neighbors.pfam.txt /oak/stanford/groups/dekas/db/Pfam-A.hmm /scratch/users/ajaffe/photoeco/context/neighbors.faa'\n"
     ]
    }
   ],
   "source": [
    "#pfam\n",
    "cmd = \"hmmsearch --cpu 20 --domtblout %s /oak/stanford/groups/dekas/db/Pfam-A.hmm %s\" %(rootdir + \"context/neighbors.pfam.txt\",\n",
    "                                                                               rootdir + \"context/neighbors.faa\")\n",
    "print(sbatch(\"pfam\", 20, cmd))"
   ]
  },
  {
   "cell_type": "code",
   "execution_count": 10,
   "metadata": {},
   "outputs": [
    {
     "data": {
      "text/html": [
       "<div>\n",
       "<style scoped>\n",
       "    .dataframe tbody tr th:only-of-type {\n",
       "        vertical-align: middle;\n",
       "    }\n",
       "\n",
       "    .dataframe tbody tr th {\n",
       "        vertical-align: top;\n",
       "    }\n",
       "\n",
       "    .dataframe thead th {\n",
       "        text-align: right;\n",
       "    }\n",
       "</style>\n",
       "<table border=\"1\" class=\"dataframe\">\n",
       "  <thead>\n",
       "    <tr style=\"text-align: right;\">\n",
       "      <th></th>\n",
       "      <th>gene</th>\n",
       "      <th>pfams</th>\n",
       "      <th>highest_eval</th>\n",
       "    </tr>\n",
       "  </thead>\n",
       "  <tbody>\n",
       "    <tr>\n",
       "      <th>0</th>\n",
       "      <td>MBT3263309.1</td>\n",
       "      <td>2-Hacid_dh + 2-Hacid_dh_C</td>\n",
       "      <td>7.500000e-27</td>\n",
       "    </tr>\n",
       "    <tr>\n",
       "      <th>1</th>\n",
       "      <td>MBP81497.1</td>\n",
       "      <td>2-Hacid_dh + 2-Hacid_dh_C</td>\n",
       "      <td>5.300000e-26</td>\n",
       "    </tr>\n",
       "  </tbody>\n",
       "</table>\n",
       "</div>"
      ],
      "text/plain": [
       "           gene                      pfams  highest_eval\n",
       "0  MBT3263309.1  2-Hacid_dh + 2-Hacid_dh_C  7.500000e-27\n",
       "1    MBP81497.1  2-Hacid_dh + 2-Hacid_dh_C  5.300000e-26"
      ]
     },
     "execution_count": 10,
     "metadata": {},
     "output_type": "execute_result"
    }
   ],
   "source": [
    "pfam = parse.domtable(rootdir + \"context/neighbors.pfam.txt\")\n",
    "pfam = pfam.query(\"eval<1e-20\").query(\"hmm_overall_cov>0.50\")\n",
    "\n",
    "pfam_info = defaultdict(list)\n",
    "\n",
    "for gene in pfam[\"gene\"].unique():\n",
    "    pfams = pfam[pfam[\"gene\"]==gene][\"hmm\"].to_list()\n",
    "    evals = pfam[pfam[\"gene\"]==gene][\"eval\"].to_list()\n",
    "    pfam_info[\"gene\"].append(gene)\n",
    "    pfam_info[\"pfams\"].append(\" + \".join(pfams))\n",
    "    pfam_info[\"highest_eval\"].append(max(evals))\n",
    "\n",
    "pfam_df = pd.DataFrame(pfam_info)\n",
    "pfam_df.head(2)"
   ]
  },
  {
   "cell_type": "markdown",
   "metadata": {},
   "source": [
    "### protein family"
   ]
  },
  {
   "cell_type": "code",
   "execution_count": 27,
   "metadata": {
    "collapsed": true
   },
   "outputs": [],
   "source": [
    "cmdir(rootdir + \"context/clustering\")\n",
    "cmdir(rootdir + \"context/clustering/fasta\")"
   ]
  },
  {
   "cell_type": "code",
   "execution_count": 15,
   "metadata": {},
   "outputs": [
    {
     "name": "stdout",
     "output_type": "stream",
     "text": [
      "mmseqs createtsv neighbors.db neighbors.db neighbors.cluster neighbors.cluster.tsv\n"
     ]
    }
   ],
   "source": [
    "# run mmseqs\n",
    "makedb = \"mmseqs createdb %s neighbors.db\" %(rootdir + \"context/neighbors.faa\")\n",
    "cluster = \"mmseqs cluster --cov-mode 0 --threads 4 neighbors.db neighbors.cluster tmp\"\n",
    "process = \"mmseqs createtsv neighbors.db neighbors.db neighbors.cluster neighbors.cluster.tsv\"\n",
    "print(process)"
   ]
  },
  {
   "cell_type": "code",
   "execution_count": 19,
   "metadata": {
    "collapsed": true
   },
   "outputs": [],
   "source": [
    "# output orf2bin and fastas\n",
    "results = pd.read_csv(rootdir + \"context/neighbors.cluster.tsv\", sep=\"\\t\", header=None)\n",
    "tmp = {record[0]:record[1] for record in sfp(open(rootdir + \"context/neighbors.faa\"))}\n",
    "fams = {}\n",
    "\n",
    "for i, centroid in enumerate(results[0].unique()):\n",
    "    \n",
    "    with open(rootdir + \"context/clustering/fasta/family%d.fasta\" %(i), \"w\") as out:\n",
    "        \n",
    "        subtable = results[results[0]==centroid]\n",
    "        for key, row in subtable.iterrows():\n",
    "            fams[row[1]] = \"family\" + str(i)\n",
    "            out.write(\">%s\\n%s\\n\" %(row[1], tmp[row[1]]))\n",
    "            \n",
    "tmp = {}"
   ]
  },
  {
   "cell_type": "markdown",
   "metadata": {},
   "source": [
    "### taxonomic"
   ]
  },
  {
   "cell_type": "code",
   "execution_count": 20,
   "metadata": {
    "collapsed": true
   },
   "outputs": [],
   "source": [
    "from scipy import stats"
   ]
  },
  {
   "cell_type": "code",
   "execution_count": 22,
   "metadata": {},
   "outputs": [
    {
     "name": "stdout",
     "output_type": "stream",
     "text": [
      "sbatch -J diamond -p serc -t 1- -c 20 --mem 160G --wrap 'diamond blastp -d /$OAK/db/uniref100.dmnd -q /scratch/users/ajaffe/photoeco/context/neighbors.faa -o /scratch/users/ajaffe/photoeco/context/neighbors.dmnd.results --threads 20 -b8 -c1'\n"
     ]
    }
   ],
   "source": [
    "dmnd = \"diamond blastp -d /$OAK/db/uniref100.dmnd -q %s -o %s --threads 20 -b8 -c1\" \\\n",
    "            %(rootdir + \"context/neighbors.faa\",\n",
    "              rootdir + \"context/neighbors.dmnd.results\")\n",
    "print(sbatch(\"diamond\", 20, dmnd))"
   ]
  },
  {
   "cell_type": "code",
   "execution_count": 24,
   "metadata": {},
   "outputs": [
    {
     "data": {
      "text/html": [
       "<div>\n",
       "<style scoped>\n",
       "    .dataframe tbody tr th:only-of-type {\n",
       "        vertical-align: middle;\n",
       "    }\n",
       "\n",
       "    .dataframe tbody tr th {\n",
       "        vertical-align: top;\n",
       "    }\n",
       "\n",
       "    .dataframe thead th {\n",
       "        text-align: right;\n",
       "    }\n",
       "</style>\n",
       "<table border=\"1\" class=\"dataframe\">\n",
       "  <thead>\n",
       "    <tr style=\"text-align: right;\">\n",
       "      <th></th>\n",
       "      <th>qseqid</th>\n",
       "      <th>sseqid</th>\n",
       "      <th>pident</th>\n",
       "      <th>length</th>\n",
       "      <th>mismatch</th>\n",
       "      <th>gapopen</th>\n",
       "      <th>qstart</th>\n",
       "      <th>qend</th>\n",
       "      <th>sstart</th>\n",
       "      <th>send</th>\n",
       "      <th>evalue</th>\n",
       "      <th>bitscore</th>\n",
       "      <th>qlen</th>\n",
       "      <th>qcov</th>\n",
       "    </tr>\n",
       "  </thead>\n",
       "  <tbody>\n",
       "    <tr>\n",
       "      <th>16378</th>\n",
       "      <td>SRR12426458.100.119_scaffold_2_41</td>\n",
       "      <td>UniRef100_A0A7Y0KUK1</td>\n",
       "      <td>81.6</td>\n",
       "      <td>1573.0</td>\n",
       "      <td>288.0</td>\n",
       "      <td>1.0</td>\n",
       "      <td>1.0</td>\n",
       "      <td>1572.0</td>\n",
       "      <td>1.0</td>\n",
       "      <td>1573.0</td>\n",
       "      <td>0.0</td>\n",
       "      <td>2653.0</td>\n",
       "      <td>1578</td>\n",
       "      <td>0.995564</td>\n",
       "    </tr>\n",
       "    <tr>\n",
       "      <th>22968</th>\n",
       "      <td>MBR01787.1</td>\n",
       "      <td>UniRef100_A0A2E8MDQ0</td>\n",
       "      <td>100.0</td>\n",
       "      <td>994.0</td>\n",
       "      <td>0.0</td>\n",
       "      <td>0.0</td>\n",
       "      <td>1.0</td>\n",
       "      <td>994.0</td>\n",
       "      <td>1.0</td>\n",
       "      <td>994.0</td>\n",
       "      <td>0.0</td>\n",
       "      <td>1944.0</td>\n",
       "      <td>994</td>\n",
       "      <td>0.998994</td>\n",
       "    </tr>\n",
       "    <tr>\n",
       "      <th>25132</th>\n",
       "      <td>MBP81482.1</td>\n",
       "      <td>UniRef100_A0A2E8CKT0</td>\n",
       "      <td>100.0</td>\n",
       "      <td>1047.0</td>\n",
       "      <td>0.0</td>\n",
       "      <td>0.0</td>\n",
       "      <td>1.0</td>\n",
       "      <td>1047.0</td>\n",
       "      <td>1.0</td>\n",
       "      <td>1047.0</td>\n",
       "      <td>0.0</td>\n",
       "      <td>1938.0</td>\n",
       "      <td>1047</td>\n",
       "      <td>0.999045</td>\n",
       "    </tr>\n",
       "    <tr>\n",
       "      <th>21842</th>\n",
       "      <td>MBT3263320.1</td>\n",
       "      <td>UniRef100_A0A2E8CKT0</td>\n",
       "      <td>86.1</td>\n",
       "      <td>1046.0</td>\n",
       "      <td>145.0</td>\n",
       "      <td>0.0</td>\n",
       "      <td>1.0</td>\n",
       "      <td>1046.0</td>\n",
       "      <td>1.0</td>\n",
       "      <td>1046.0</td>\n",
       "      <td>0.0</td>\n",
       "      <td>1703.0</td>\n",
       "      <td>1048</td>\n",
       "      <td>0.997137</td>\n",
       "    </tr>\n",
       "    <tr>\n",
       "      <th>5339</th>\n",
       "      <td>Ga0078703_1006_1</td>\n",
       "      <td>UniRef100_UPI0007B3805C</td>\n",
       "      <td>82.0</td>\n",
       "      <td>972.0</td>\n",
       "      <td>174.0</td>\n",
       "      <td>1.0</td>\n",
       "      <td>1.0</td>\n",
       "      <td>971.0</td>\n",
       "      <td>1.0</td>\n",
       "      <td>972.0</td>\n",
       "      <td>0.0</td>\n",
       "      <td>1652.0</td>\n",
       "      <td>971</td>\n",
       "      <td>0.998970</td>\n",
       "    </tr>\n",
       "  </tbody>\n",
       "</table>\n",
       "</div>"
      ],
      "text/plain": [
       "                                  qseqid                   sseqid  pident  \\\n",
       "16378  SRR12426458.100.119_scaffold_2_41     UniRef100_A0A7Y0KUK1    81.6   \n",
       "22968                         MBR01787.1     UniRef100_A0A2E8MDQ0   100.0   \n",
       "25132                         MBP81482.1     UniRef100_A0A2E8CKT0   100.0   \n",
       "21842                       MBT3263320.1     UniRef100_A0A2E8CKT0    86.1   \n",
       "5339                    Ga0078703_1006_1  UniRef100_UPI0007B3805C    82.0   \n",
       "\n",
       "       length  mismatch  gapopen  qstart    qend  sstart    send  evalue  \\\n",
       "16378  1573.0     288.0      1.0     1.0  1572.0     1.0  1573.0     0.0   \n",
       "22968   994.0       0.0      0.0     1.0   994.0     1.0   994.0     0.0   \n",
       "25132  1047.0       0.0      0.0     1.0  1047.0     1.0  1047.0     0.0   \n",
       "21842  1046.0     145.0      0.0     1.0  1046.0     1.0  1046.0     0.0   \n",
       "5339    972.0     174.0      1.0     1.0   971.0     1.0   972.0     0.0   \n",
       "\n",
       "       bitscore  qlen      qcov  \n",
       "16378    2653.0  1578  0.995564  \n",
       "22968    1944.0   994  0.998994  \n",
       "25132    1938.0  1047  0.999045  \n",
       "21842    1703.0  1048  0.997137  \n",
       "5339     1652.0   971  0.998970  "
      ]
     },
     "execution_count": 24,
     "metadata": {},
     "output_type": "execute_result"
    }
   ],
   "source": [
    "# concatenate + collect taxonomy\n",
    "dmnd = skbio.io.read(rootdir + \"context/neighbors.dmnd.results\", \n",
    "                     format=\"blast+6\", into=pd.DataFrame, default_columns=True)\n",
    "# compute coverage\n",
    "faalens = {record[0].split(\" \")[0]: len(record[1]) for record \\\n",
    "           in sfp(open(rootdir + \"context/neighbors.faa\"))}\n",
    "dmnd[\"qlen\"] = dmnd[\"qseqid\"].map(faalens)\n",
    "dmnd[\"qcov\"] = dmnd.apply(lambda x: (x[\"qend\"]-x[\"qstart\"])/x[\"qlen\"], axis=1)\n",
    "# choose best hits for each\n",
    "dmnd = dmnd.sort_values([\"bitscore\", \"qcov\"], ascending=[False,False]).drop_duplicates(\"qseqid\")\n",
    "# filter for min cov /eval\n",
    "dmnd = dmnd[(dmnd[\"evalue\"]<1e-20) & (dmnd[\"qcov\"]>0.70)]\n",
    "dmnd.head()"
   ]
  },
  {
   "cell_type": "code",
   "execution_count": 25,
   "metadata": {
    "collapsed": true
   },
   "outputs": [],
   "source": [
    "# map to uniref ids\n",
    "with open(rootdir + \"context/uniref_ids.txt\", \"w\") as out:\n",
    "    for uid in dmnd[\"sseqid\"].unique():\n",
    "        out.write(uid.split(\"_\")[1] + \"\\n\")"
   ]
  },
  {
   "cell_type": "code",
   "execution_count": 39,
   "metadata": {
    "collapsed": true
   },
   "outputs": [],
   "source": [
    "uni = []\n",
    "for item in glob.glob(rootdir + \"context/idmapping*tsv\"):\n",
    "    table = pd.read_csv(item,sep=\"\\t\", dtype=str)\n",
    "    table.columns = [\"from\", \"entry\", \"organism\", \"organism_id\"]\n",
    "    uni.append(table)\n",
    "unis = pd.concat(uni).fillna(\"None\")\n",
    "unis = unis.query(\"organism_id!='None'\")\n",
    "unis[\"taxid\"] = unis[\"organism_id\"].apply(lambda x: stats.mode(x.split(\"; \"))[0][0])"
   ]
  },
  {
   "cell_type": "code",
   "execution_count": 40,
   "metadata": {
    "collapsed": true
   },
   "outputs": [],
   "source": [
    "with open(rootdir + \"context/ncbi_tax.txt\", \"w\") as out:\n",
    "    for tax in unis[\"taxid\"].unique():\n",
    "        if tax != \"None\":\n",
    "            out.write(tax + \"\\n\")"
   ]
  },
  {
   "cell_type": "code",
   "execution_count": 41,
   "metadata": {},
   "outputs": [
    {
     "data": {
      "text/html": [
       "<div>\n",
       "<style scoped>\n",
       "    .dataframe tbody tr th:only-of-type {\n",
       "        vertical-align: middle;\n",
       "    }\n",
       "\n",
       "    .dataframe tbody tr th {\n",
       "        vertical-align: top;\n",
       "    }\n",
       "\n",
       "    .dataframe thead th {\n",
       "        text-align: right;\n",
       "    }\n",
       "</style>\n",
       "<table border=\"1\" class=\"dataframe\">\n",
       "  <thead>\n",
       "    <tr style=\"text-align: right;\">\n",
       "      <th></th>\n",
       "      <th>from</th>\n",
       "      <th>entry</th>\n",
       "      <th>organism</th>\n",
       "      <th>organism_id</th>\n",
       "      <th>taxid</th>\n",
       "      <th>lineage</th>\n",
       "      <th>phylum</th>\n",
       "    </tr>\n",
       "  </thead>\n",
       "  <tbody>\n",
       "    <tr>\n",
       "      <th>0</th>\n",
       "      <td>A0A7Y0KUK1</td>\n",
       "      <td>A0A7Y0KUK1</td>\n",
       "      <td>Prochlorococcus sp. P1361</td>\n",
       "      <td>2729589</td>\n",
       "      <td>2729589</td>\n",
       "      <td>cellular organisms; Bacteria; Terrabacteria gr...</td>\n",
       "      <td>Cyanobacteriota;Cyanophyceae</td>\n",
       "    </tr>\n",
       "    <tr>\n",
       "      <th>1</th>\n",
       "      <td>A0A2E8MDQ0</td>\n",
       "      <td>A0A2E8MDQ0</td>\n",
       "      <td>Acidiferrobacteraceae bacterium</td>\n",
       "      <td>2024893</td>\n",
       "      <td>2024893</td>\n",
       "      <td>cellular organisms; Bacteria; Pseudomonadota; ...</td>\n",
       "      <td>Pseudomonadota;Gammaproteobacteria</td>\n",
       "    </tr>\n",
       "    <tr>\n",
       "      <th>2</th>\n",
       "      <td>A0A2E8CKT0</td>\n",
       "      <td>A0A2E8CKT0</td>\n",
       "      <td>Acidiferrobacteraceae bacterium</td>\n",
       "      <td>2024893</td>\n",
       "      <td>2024893</td>\n",
       "      <td>cellular organisms; Bacteria; Pseudomonadota; ...</td>\n",
       "      <td>Pseudomonadota;Gammaproteobacteria</td>\n",
       "    </tr>\n",
       "    <tr>\n",
       "      <th>3</th>\n",
       "      <td>A0A7C1Y0M4</td>\n",
       "      <td>A0A7C1Y0M4</td>\n",
       "      <td>Gammaproteobacteria bacterium</td>\n",
       "      <td>1913989</td>\n",
       "      <td>1913989</td>\n",
       "      <td>cellular organisms; Bacteria; Pseudomonadota; ...</td>\n",
       "      <td>Pseudomonadota;Gammaproteobacteria</td>\n",
       "    </tr>\n",
       "    <tr>\n",
       "      <th>4</th>\n",
       "      <td>A0A2E8CKP1</td>\n",
       "      <td>A0A2E8CKP1</td>\n",
       "      <td>Acidiferrobacteraceae bacterium</td>\n",
       "      <td>2024893</td>\n",
       "      <td>2024893</td>\n",
       "      <td>cellular organisms; Bacteria; Pseudomonadota; ...</td>\n",
       "      <td>Pseudomonadota;Gammaproteobacteria</td>\n",
       "    </tr>\n",
       "  </tbody>\n",
       "</table>\n",
       "</div>"
      ],
      "text/plain": [
       "         from       entry                         organism organism_id  \\\n",
       "0  A0A7Y0KUK1  A0A7Y0KUK1        Prochlorococcus sp. P1361     2729589   \n",
       "1  A0A2E8MDQ0  A0A2E8MDQ0  Acidiferrobacteraceae bacterium     2024893   \n",
       "2  A0A2E8CKT0  A0A2E8CKT0  Acidiferrobacteraceae bacterium     2024893   \n",
       "3  A0A7C1Y0M4  A0A7C1Y0M4    Gammaproteobacteria bacterium     1913989   \n",
       "4  A0A2E8CKP1  A0A2E8CKP1  Acidiferrobacteraceae bacterium     2024893   \n",
       "\n",
       "     taxid                                            lineage  \\\n",
       "0  2729589  cellular organisms; Bacteria; Terrabacteria gr...   \n",
       "1  2024893  cellular organisms; Bacteria; Pseudomonadota; ...   \n",
       "2  2024893  cellular organisms; Bacteria; Pseudomonadota; ...   \n",
       "3  1913989  cellular organisms; Bacteria; Pseudomonadota; ...   \n",
       "4  2024893  cellular organisms; Bacteria; Pseudomonadota; ...   \n",
       "\n",
       "                               phylum  \n",
       "0        Cyanobacteriota;Cyanophyceae  \n",
       "1  Pseudomonadota;Gammaproteobacteria  \n",
       "2  Pseudomonadota;Gammaproteobacteria  \n",
       "3  Pseudomonadota;Gammaproteobacteria  \n",
       "4  Pseudomonadota;Gammaproteobacteria  "
      ]
     },
     "execution_count": 41,
     "metadata": {},
     "output_type": "execute_result"
    }
   ],
   "source": [
    "lineage_info = defaultdict(list)\n",
    "\n",
    "for xml in glob.glob(rootdir + \"/context/*xml\"):\n",
    "    \n",
    "    for block in BeautifulSoup(open(xml), \"xml\").findAll(\"Taxon\"):\n",
    "        \n",
    "        lineage, phylum, classe = \"None\", \"None\", \"None\"\n",
    "\n",
    "        if block.find(\"Lineage\"):\n",
    "            lineage = block.find(\"Lineage\").string\n",
    "\n",
    "        for level in block.findAll(\"Taxon\"):\n",
    "            if level.find(\"Rank\").string==\"phylum\":\n",
    "                phylum = level.find(\"ScientificName\").string\n",
    "            elif level.find(\"Rank\").string==\"class\":\n",
    "                classe = level.find(\"ScientificName\").string\n",
    "                \n",
    "        if (phylum == classe == 'None') and (lineage!='None'):\n",
    "            phylum = lineage.split(\"; \")[-1]\n",
    "\n",
    "        lineage_info[\"taxid\"].append(block.find(\"TaxId\").string)\n",
    "        lineage_info[\"lineage\"].append(lineage)\n",
    "        lineage_info[\"phylum\"].append(\";\".join([phylum, classe]))\n",
    "\n",
    "lineage_df = pd.DataFrame(lineage_info).query(\"lineage!='None'\")\n",
    "unis = unis.merge(lineage_df, how=\"left\", on=\"taxid\")\n",
    "unis.head()"
   ]
  },
  {
   "cell_type": "code",
   "execution_count": 43,
   "metadata": {},
   "outputs": [
    {
     "data": {
      "text/html": [
       "<div>\n",
       "<style scoped>\n",
       "    .dataframe tbody tr th:only-of-type {\n",
       "        vertical-align: middle;\n",
       "    }\n",
       "\n",
       "    .dataframe tbody tr th {\n",
       "        vertical-align: top;\n",
       "    }\n",
       "\n",
       "    .dataframe thead th {\n",
       "        text-align: right;\n",
       "    }\n",
       "</style>\n",
       "<table border=\"1\" class=\"dataframe\">\n",
       "  <thead>\n",
       "    <tr style=\"text-align: right;\">\n",
       "      <th></th>\n",
       "      <th>qseqid</th>\n",
       "      <th>sseqid</th>\n",
       "      <th>pident</th>\n",
       "      <th>length</th>\n",
       "      <th>mismatch</th>\n",
       "      <th>gapopen</th>\n",
       "      <th>qstart</th>\n",
       "      <th>qend</th>\n",
       "      <th>sstart</th>\n",
       "      <th>send</th>\n",
       "      <th>evalue</th>\n",
       "      <th>bitscore</th>\n",
       "      <th>qlen</th>\n",
       "      <th>qcov</th>\n",
       "      <th>entry</th>\n",
       "      <th>phylum</th>\n",
       "    </tr>\n",
       "  </thead>\n",
       "  <tbody>\n",
       "    <tr>\n",
       "      <th>1064</th>\n",
       "      <td>SRR25584942.100.22_scaffold_0_33</td>\n",
       "      <td>UniRef100_A0A560LLE7</td>\n",
       "      <td>100.0</td>\n",
       "      <td>51.0</td>\n",
       "      <td>0.0</td>\n",
       "      <td>0.0</td>\n",
       "      <td>1.0</td>\n",
       "      <td>51.0</td>\n",
       "      <td>1.0</td>\n",
       "      <td>51.0</td>\n",
       "      <td>3.890000e-22</td>\n",
       "      <td>89.4</td>\n",
       "      <td>52</td>\n",
       "      <td>0.961538</td>\n",
       "      <td>A0A560LLE7</td>\n",
       "      <td>None</td>\n",
       "    </tr>\n",
       "    <tr>\n",
       "      <th>1065</th>\n",
       "      <td>SRR25584950.100.58_scaffold_5_18</td>\n",
       "      <td>UniRef100_A0A560LLE7</td>\n",
       "      <td>100.0</td>\n",
       "      <td>51.0</td>\n",
       "      <td>0.0</td>\n",
       "      <td>0.0</td>\n",
       "      <td>1.0</td>\n",
       "      <td>51.0</td>\n",
       "      <td>1.0</td>\n",
       "      <td>51.0</td>\n",
       "      <td>3.890000e-22</td>\n",
       "      <td>89.4</td>\n",
       "      <td>52</td>\n",
       "      <td>0.961538</td>\n",
       "      <td>A0A560LLE7</td>\n",
       "      <td>None</td>\n",
       "    </tr>\n",
       "    <tr>\n",
       "      <th>1066</th>\n",
       "      <td>SRR11923207.100.13_scaffold_3_36</td>\n",
       "      <td>UniRef100_A0A560LLE7</td>\n",
       "      <td>100.0</td>\n",
       "      <td>51.0</td>\n",
       "      <td>0.0</td>\n",
       "      <td>0.0</td>\n",
       "      <td>1.0</td>\n",
       "      <td>51.0</td>\n",
       "      <td>1.0</td>\n",
       "      <td>51.0</td>\n",
       "      <td>3.890000e-22</td>\n",
       "      <td>89.4</td>\n",
       "      <td>52</td>\n",
       "      <td>0.961538</td>\n",
       "      <td>A0A560LLE7</td>\n",
       "      <td>None</td>\n",
       "    </tr>\n",
       "    <tr>\n",
       "      <th>1067</th>\n",
       "      <td>SRR11923208.100.54_scaffold_0_43</td>\n",
       "      <td>UniRef100_A0A560LLE7</td>\n",
       "      <td>100.0</td>\n",
       "      <td>51.0</td>\n",
       "      <td>0.0</td>\n",
       "      <td>0.0</td>\n",
       "      <td>1.0</td>\n",
       "      <td>51.0</td>\n",
       "      <td>1.0</td>\n",
       "      <td>51.0</td>\n",
       "      <td>3.890000e-22</td>\n",
       "      <td>89.4</td>\n",
       "      <td>52</td>\n",
       "      <td>0.961538</td>\n",
       "      <td>A0A560LLE7</td>\n",
       "      <td>None</td>\n",
       "    </tr>\n",
       "    <tr>\n",
       "      <th>1068</th>\n",
       "      <td>JASLWS010000001.1_18</td>\n",
       "      <td>UniRef100_A0A560LLE7</td>\n",
       "      <td>100.0</td>\n",
       "      <td>51.0</td>\n",
       "      <td>0.0</td>\n",
       "      <td>0.0</td>\n",
       "      <td>1.0</td>\n",
       "      <td>51.0</td>\n",
       "      <td>1.0</td>\n",
       "      <td>51.0</td>\n",
       "      <td>3.890000e-22</td>\n",
       "      <td>89.4</td>\n",
       "      <td>52</td>\n",
       "      <td>0.961538</td>\n",
       "      <td>A0A560LLE7</td>\n",
       "      <td>None</td>\n",
       "    </tr>\n",
       "  </tbody>\n",
       "</table>\n",
       "</div>"
      ],
      "text/plain": [
       "                                qseqid                sseqid  pident  length  \\\n",
       "1064  SRR25584942.100.22_scaffold_0_33  UniRef100_A0A560LLE7   100.0    51.0   \n",
       "1065  SRR25584950.100.58_scaffold_5_18  UniRef100_A0A560LLE7   100.0    51.0   \n",
       "1066  SRR11923207.100.13_scaffold_3_36  UniRef100_A0A560LLE7   100.0    51.0   \n",
       "1067  SRR11923208.100.54_scaffold_0_43  UniRef100_A0A560LLE7   100.0    51.0   \n",
       "1068              JASLWS010000001.1_18  UniRef100_A0A560LLE7   100.0    51.0   \n",
       "\n",
       "      mismatch  gapopen  qstart  qend  sstart  send        evalue  bitscore  \\\n",
       "1064       0.0      0.0     1.0  51.0     1.0  51.0  3.890000e-22      89.4   \n",
       "1065       0.0      0.0     1.0  51.0     1.0  51.0  3.890000e-22      89.4   \n",
       "1066       0.0      0.0     1.0  51.0     1.0  51.0  3.890000e-22      89.4   \n",
       "1067       0.0      0.0     1.0  51.0     1.0  51.0  3.890000e-22      89.4   \n",
       "1068       0.0      0.0     1.0  51.0     1.0  51.0  3.890000e-22      89.4   \n",
       "\n",
       "      qlen      qcov       entry phylum  \n",
       "1064    52  0.961538  A0A560LLE7   None  \n",
       "1065    52  0.961538  A0A560LLE7   None  \n",
       "1066    52  0.961538  A0A560LLE7   None  \n",
       "1067    52  0.961538  A0A560LLE7   None  \n",
       "1068    52  0.961538  A0A560LLE7   None  "
      ]
     },
     "execution_count": 43,
     "metadata": {},
     "output_type": "execute_result"
    }
   ],
   "source": [
    "# add back in\n",
    "dmnd[\"entry\"] = dmnd[\"sseqid\"].apply(lambda x: x.split(\"_\")[1])\n",
    "dmnd = dmnd.merge(unis[[\"entry\", \"phylum\"]], how=\"left\").fillna(\"None\")\n",
    "dmnd.tail()"
   ]
  },
  {
   "cell_type": "markdown",
   "metadata": {},
   "source": [
    "### combine"
   ]
  },
  {
   "cell_type": "code",
   "execution_count": 45,
   "metadata": {},
   "outputs": [
    {
     "data": {
      "text/html": [
       "<div>\n",
       "<style scoped>\n",
       "    .dataframe tbody tr th:only-of-type {\n",
       "        vertical-align: middle;\n",
       "    }\n",
       "\n",
       "    .dataframe tbody tr th {\n",
       "        vertical-align: top;\n",
       "    }\n",
       "\n",
       "    .dataframe thead th {\n",
       "        text-align: right;\n",
       "    }\n",
       "</style>\n",
       "<table border=\"1\" class=\"dataframe\">\n",
       "  <thead>\n",
       "    <tr style=\"text-align: right;\">\n",
       "      <th></th>\n",
       "      <th>scaffold</th>\n",
       "      <th>gene</th>\n",
       "      <th>ko_def</th>\n",
       "      <th>pfams</th>\n",
       "      <th>family</th>\n",
       "      <th>taxonomy</th>\n",
       "      <th>sequence</th>\n",
       "    </tr>\n",
       "  </thead>\n",
       "  <tbody>\n",
       "    <tr>\n",
       "      <th>0</th>\n",
       "      <td>ERR598946.100.35_scaffold_13</td>\n",
       "      <td>ERR598946.100.35_scaffold_13_1</td>\n",
       "      <td>None</td>\n",
       "      <td>None</td>\n",
       "      <td>family0</td>\n",
       "      <td>Cyanobacteriota;Cyanophyceae</td>\n",
       "      <td>MAAIRLIPAVLALSLTLVSCQSSSEKAANDQVKVAQGVELVCSARD...</td>\n",
       "    </tr>\n",
       "    <tr>\n",
       "      <th>1</th>\n",
       "      <td>ERR598946.100.35_scaffold_13</td>\n",
       "      <td>ERR598946.100.35_scaffold_13_2</td>\n",
       "      <td>GTP-binding protein</td>\n",
       "      <td>BipA_C + EFG_C + GTP_EFTU</td>\n",
       "      <td>family24</td>\n",
       "      <td>Cyanobacteriota;Cyanophyceae</td>\n",
       "      <td>MSSGGAEGKLDLTLRYPFATTPVGVSFPLVRLALMSAQAQAIRNIA...</td>\n",
       "    </tr>\n",
       "  </tbody>\n",
       "</table>\n",
       "</div>"
      ],
      "text/plain": [
       "                       scaffold                            gene  \\\n",
       "0  ERR598946.100.35_scaffold_13  ERR598946.100.35_scaffold_13_1   \n",
       "1  ERR598946.100.35_scaffold_13  ERR598946.100.35_scaffold_13_2   \n",
       "\n",
       "                ko_def                      pfams    family  \\\n",
       "0                 None                       None   family0   \n",
       "1  GTP-binding protein  BipA_C + EFG_C + GTP_EFTU  family24   \n",
       "\n",
       "                       taxonomy  \\\n",
       "0  Cyanobacteriota;Cyanophyceae   \n",
       "1  Cyanobacteriota;Cyanophyceae   \n",
       "\n",
       "                                            sequence  \n",
       "0  MAAIRLIPAVLALSLTLVSCQSSSEKAANDQVKVAQGVELVCSARD...  \n",
       "1  MSSGGAEGKLDLTLRYPFATTPVGVSFPLVRLALMSAQAQAIRNIA...  "
      ]
     },
     "execution_count": 45,
     "metadata": {},
     "output_type": "execute_result"
    }
   ],
   "source": [
    "base = defaultdict(list)\n",
    "tmp = {record[0]:record[1] for record in sfp(open(rootdir + \"context/neighbors.faa\"))}\n",
    "\n",
    "for scaf in glob.glob(rootdir + \"context/*ternal/*\"):\n",
    "    name = os.path.basename(scaf).replace(\".faa\",\"\")\n",
    "    for record in sfp(open(scaf)):\n",
    "        base[\"scaffold\"].append(name)\n",
    "        base[\"gene\"].append(record[0])\n",
    "\n",
    "basedf = pd.DataFrame(base)\n",
    "basedf = basedf.merge(kresults[[\"gene\", \"def\"]], how=\"left\").fillna(\"None\")\n",
    "basedf = basedf.merge(pfam_df[[\"gene\", \"pfams\"]], how=\"left\").fillna(\"None\")\n",
    "basedf[\"family\"] = basedf[\"gene\"].map(fams)\n",
    "basedf = basedf.merge(dmnd[[\"qseqid\", \"phylum\"]], how=\"left\", left_on=\"gene\", \n",
    "                      right_on=\"qseqid\").fillna(\"None\").drop(\"qseqid\", axis=1)\n",
    "basedf.columns = [\"scaffold\", \"gene\", \"ko_def\", \"pfams\", \"family\", \"taxonomy\"]\n",
    "basedf[\"sequence\"] = basedf[\"gene\"].map(tmp)\n",
    "basedf.drop_duplicates(\"gene\").to_csv(rootdir + \"genomic_context.csv\", sep=\",\", index=False)\n",
    "basedf.head(2)"
   ]
  },
  {
   "cell_type": "markdown",
   "metadata": {},
   "source": [
    "### export + visualize"
   ]
  },
  {
   "cell_type": "code",
   "execution_count": 51,
   "metadata": {},
   "outputs": [
    {
     "data": {
      "text/html": [
       "<div>\n",
       "<style scoped>\n",
       "    .dataframe tbody tr th:only-of-type {\n",
       "        vertical-align: middle;\n",
       "    }\n",
       "\n",
       "    .dataframe tbody tr th {\n",
       "        vertical-align: top;\n",
       "    }\n",
       "\n",
       "    .dataframe thead th {\n",
       "        text-align: right;\n",
       "    }\n",
       "</style>\n",
       "<table border=\"1\" class=\"dataframe\">\n",
       "  <thead>\n",
       "    <tr style=\"text-align: right;\">\n",
       "      <th></th>\n",
       "      <th>gene</th>\n",
       "      <th>start</th>\n",
       "      <th>end</th>\n",
       "      <th>strand</th>\n",
       "    </tr>\n",
       "  </thead>\n",
       "  <tbody>\n",
       "    <tr>\n",
       "      <th>0</th>\n",
       "      <td>SRR11923207.100.13_scaffold_0_1</td>\n",
       "      <td>524</td>\n",
       "      <td>1591</td>\n",
       "      <td>-1</td>\n",
       "    </tr>\n",
       "    <tr>\n",
       "      <th>1</th>\n",
       "      <td>SRR11923207.100.13_scaffold_0_2</td>\n",
       "      <td>1616</td>\n",
       "      <td>3277</td>\n",
       "      <td>-1</td>\n",
       "    </tr>\n",
       "  </tbody>\n",
       "</table>\n",
       "</div>"
      ],
      "text/plain": [
       "                              gene  start   end  strand\n",
       "0  SRR11923207.100.13_scaffold_0_1    524  1591      -1\n",
       "1  SRR11923207.100.13_scaffold_0_2   1616  3277      -1"
      ]
     },
     "execution_count": 51,
     "metadata": {},
     "output_type": "execute_result"
    }
   ],
   "source": [
    "subset = basedf.query(\"scaffold=='SRR11923207.100.13_scaffold_3'\").drop_duplicates(\"gene\")\n",
    "\n",
    "# recover prodigal info\n",
    "info = defaultdict(list)\n",
    "\n",
    "for record in sfp(open(rootdir + \"genomes/filtered/SRR11923207.100.13.genes.faa\")):\n",
    "    info[\"gene\"].append(record[0].split(\" # \")[0])\n",
    "    info[\"start\"].append(int(record[0].split(\" # \")[1]))\n",
    "    info[\"end\"].append(int(record[0].split(\" # \")[2]))\n",
    "    info[\"strand\"].append(int(record[0].split(\" # \")[3]))\n",
    "\n",
    "infodf = pd.DataFrame(info)\n",
    "infodf.head(2)"
   ]
  },
  {
   "cell_type": "code",
   "execution_count": 52,
   "metadata": {
    "collapsed": true
   },
   "outputs": [],
   "source": [
    "subset = subset.merge(infodf, how=\"left\", on=\"gene\")\n",
    "# split into two\n",
    "#subset[\"scaffold_mod\"] = subset.apply(lambda x: x[\"scaffold\"] + \"A\" if x[\"end\"]<=27666 else x[\"scaffold\"] + \"B\", axis=1)\n",
    "subset[[\"scaffold\", \"start\", \"end\", \"strand\", \n",
    "        \"ko_def\", \"pfams\", \"family\", \"taxonomy\"]].to_csv(rootdir + \"genome_context_subset.csv\", index=False)"
   ]
  }
 ],
 "metadata": {
  "kernelspec": {
   "display_name": "Python 3",
   "language": "python",
   "name": "python3"
  },
  "language_info": {
   "codemirror_mode": {
    "name": "ipython",
    "version": 3
   },
   "file_extension": ".py",
   "mimetype": "text/x-python",
   "name": "python",
   "nbconvert_exporter": "python",
   "pygments_lexer": "ipython3",
   "version": "3.6.1"
  }
 },
 "nbformat": 4,
 "nbformat_minor": 5
}
