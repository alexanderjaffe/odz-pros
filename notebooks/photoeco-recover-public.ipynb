{
 "cells": [
  {
   "cell_type": "code",
   "execution_count": 1,
   "metadata": {
    "collapsed": true
   },
   "outputs": [],
   "source": [
    "from collections import defaultdict\n",
    "from Bio.SeqIO.FastaIO import SimpleFastaParser as sfp\n",
    "import subprocess as sp\n",
    "from Bio import SeqIO, SearchIO, Entrez\n",
    "import seaborn as sns\n",
    "import pandas as pd\n",
    "import os, glob, math, re, gzip, skbio, time, pysam\n",
    "import matplotlib.pyplot as plt\n",
    "import warnings\n",
    "from Bio import Entrez\n",
    "warnings.filterwarnings('ignore')"
   ]
  },
  {
   "cell_type": "code",
   "execution_count": 2,
   "metadata": {
    "collapsed": true
   },
   "outputs": [],
   "source": [
    "def cmdir(path):\n",
    "    if not os.path.isdir(path):\n",
    "        os.mkdir(path)\n",
    "\n",
    "def scaffold(gene):\n",
    "    if gene != \"None\":\n",
    "        try: return re.search(\"(.+?)_[0-9]+$\", gene).group(1)\n",
    "        except: print(gene)\n",
    "\n",
    "def sbatch(name, cpus, cmd):\n",
    "    return \"sbatch -J %s -p serc -t 1- -c %d --mem %dG --wrap '%s'\" %(name, cpus, cpus*8, cmd)"
   ]
  },
  {
   "cell_type": "code",
   "execution_count": 3,
   "metadata": {
    "collapsed": true
   },
   "outputs": [],
   "source": [
    "rootdir = \"/scratch/users/ajaffe/photoeco/\"\n",
    "cmdir(rootdir + \"recover\")"
   ]
  },
  {
   "cell_type": "markdown",
   "metadata": {},
   "source": [
    "### choose query genomes"
   ]
  },
  {
   "cell_type": "code",
   "execution_count": 4,
   "metadata": {
    "collapsed": true
   },
   "outputs": [],
   "source": [
    "cmdir(rootdir + \"recover/branchwater\")"
   ]
  },
  {
   "cell_type": "code",
   "execution_count": 4,
   "metadata": {},
   "outputs": [
    {
     "data": {
      "text/html": [
       "<div>\n",
       "<style scoped>\n",
       "    .dataframe tbody tr th:only-of-type {\n",
       "        vertical-align: middle;\n",
       "    }\n",
       "\n",
       "    .dataframe tbody tr th {\n",
       "        vertical-align: top;\n",
       "    }\n",
       "\n",
       "    .dataframe thead th {\n",
       "        text-align: right;\n",
       "    }\n",
       "</style>\n",
       "<table border=\"1\" class=\"dataframe\">\n",
       "  <thead>\n",
       "    <tr style=\"text-align: right;\">\n",
       "      <th></th>\n",
       "      <th>genome_name</th>\n",
       "      <th>lineage</th>\n",
       "      <th>checkm_completeness</th>\n",
       "      <th>checkm_redundancy</th>\n",
       "      <th>cluster95</th>\n",
       "      <th>cluster99</th>\n",
       "    </tr>\n",
       "  </thead>\n",
       "  <tbody>\n",
       "    <tr>\n",
       "      <th>0</th>\n",
       "      <td>2626541517</td>\n",
       "      <td>AMZ IB</td>\n",
       "      <td>56.79</td>\n",
       "      <td>6.11</td>\n",
       "      <td>5_1</td>\n",
       "      <td>5_5</td>\n",
       "    </tr>\n",
       "    <tr>\n",
       "      <th>1</th>\n",
       "      <td>2626541518</td>\n",
       "      <td>AMZ IB</td>\n",
       "      <td>60.34</td>\n",
       "      <td>6.90</td>\n",
       "      <td>5_1</td>\n",
       "      <td>5_10</td>\n",
       "    </tr>\n",
       "    <tr>\n",
       "      <th>2</th>\n",
       "      <td>2626541532</td>\n",
       "      <td>AMZ IB</td>\n",
       "      <td>65.62</td>\n",
       "      <td>2.72</td>\n",
       "      <td>5_1</td>\n",
       "      <td>5_14</td>\n",
       "    </tr>\n",
       "    <tr>\n",
       "      <th>3</th>\n",
       "      <td>2626541536</td>\n",
       "      <td>AMZ IB</td>\n",
       "      <td>50.14</td>\n",
       "      <td>5.10</td>\n",
       "      <td>5_1</td>\n",
       "      <td>5_17</td>\n",
       "    </tr>\n",
       "    <tr>\n",
       "      <th>4</th>\n",
       "      <td>2818991511</td>\n",
       "      <td>AMZ II</td>\n",
       "      <td>74.64</td>\n",
       "      <td>0.27</td>\n",
       "      <td>4_1</td>\n",
       "      <td>4_4</td>\n",
       "    </tr>\n",
       "  </tbody>\n",
       "</table>\n",
       "</div>"
      ],
      "text/plain": [
       "  genome_name lineage  checkm_completeness  checkm_redundancy cluster95  \\\n",
       "0  2626541517  AMZ IB                56.79               6.11       5_1   \n",
       "1  2626541518  AMZ IB                60.34               6.90       5_1   \n",
       "2  2626541532  AMZ IB                65.62               2.72       5_1   \n",
       "3  2626541536  AMZ IB                50.14               5.10       5_1   \n",
       "4  2818991511  AMZ II                74.64               0.27       4_1   \n",
       "\n",
       "  cluster99  \n",
       "0       5_5  \n",
       "1      5_10  \n",
       "2      5_14  \n",
       "3      5_17  \n",
       "4       4_4  "
      ]
     },
     "execution_count": 4,
     "metadata": {},
     "output_type": "execute_result"
    }
   ],
   "source": [
    "genomes = pd.read_csv(rootdir + \"genome_table.tsv\", sep=\"\\t\")\n",
    "# remove recovered if reading in updated version\n",
    "genomes = genomes[~genomes[\"genome_name\"].str.contains(\"RR\")]\n",
    "genomes.head()"
   ]
  },
  {
   "cell_type": "code",
   "execution_count": 16,
   "metadata": {},
   "outputs": [
    {
     "name": "stdout",
     "output_type": "stream",
     "text": [
      "AMZ IA GCA_030741055.1_ASM3074105v1_genomic.fna\n",
      "AMZ IB GCA_030740755.1_ASM3074075v1_genomic.fna\n",
      "AMZ II 2818991511.fna\n",
      "AMZ III 2818991522.fna\n"
     ]
    }
   ],
   "source": [
    "for lineage in genomes.lineage.unique():\n",
    "    \n",
    "    if \"AMZ\" in lineage:\n",
    "        \n",
    "        table = genomes[genomes[\"lineage\"]==lineage].sort_values(\"checkm_completeness\", ascending=False)\n",
    "        gpath = glob.glob(rootdir + \"genomes/filtered/\" + table[\"genome_name\"].iloc[0] + \".fna\")[0]\n",
    "        \n",
    "        with open(rootdir + \"recover/branchwater/\" + os.path.basename(gpath), \"w\") as out:\n",
    "            for record in sfp(open(gpath)):\n",
    "                out.write(\">%s\\n%s\\n\" %(record[0], record[1]))\n",
    "        \n",
    "        print(lineage, os.path.basename(gpath))"
   ]
  },
  {
   "cell_type": "markdown",
   "metadata": {},
   "source": [
    "Then query branchwater with each of the above."
   ]
  },
  {
   "cell_type": "markdown",
   "metadata": {},
   "source": [
    "### process branchwater output"
   ]
  },
  {
   "cell_type": "code",
   "execution_count": 5,
   "metadata": {
    "collapsed": true
   },
   "outputs": [],
   "source": [
    "branch = pd.concat(pd.read_csv(item) for item in \\\n",
    "                   glob.glob(rootdir + \"recover/branchwater/*csv\"))\n",
    "# filter for quality matches at species-level\n",
    "branch = branch[(branch[\"cANI\"]>=0.97)].drop_duplicates(\"acc\")\n",
    "counts = pd.DataFrame(branch.value_counts(\"bioproject\").reset_index())\n",
    "\n",
    "with open(rootdir + \"recover/sample_list.tsv\", \"w\") as out:\n",
    "    for key, row in counts.iterrows():\n",
    "        if row[\"count\"] >= 4:\n",
    "            table = branch[branch[\"bioproject\"]==row[\"bioproject\"]]\n",
    "            out.write(\"%s\\t%s\\n\" %(row[\"bioproject\"], \",\".join(table[\"acc\"].unique())))"
   ]
  },
  {
   "cell_type": "markdown",
   "metadata": {},
   "source": [
    "Then go run recover smk workflow."
   ]
  },
  {
   "cell_type": "markdown",
   "metadata": {},
   "source": [
    "### check"
   ]
  },
  {
   "cell_type": "code",
   "execution_count": 7,
   "metadata": {},
   "outputs": [
    {
     "name": "stdout",
     "output_type": "stream",
     "text": [
      "PRJNA704804\n",
      "PRJEB1787\n",
      "PRJNA350692\n",
      "PRJNA1003508\n",
      "PRJNA634212\n",
      "PRJEB4352\n",
      "PRJNA632347\n"
     ]
    }
   ],
   "source": [
    "checks = []\n",
    "\n",
    "for key, row in counts.iterrows():\n",
    "        if row[\"count\"] >= 4:\n",
    "            checks += branch[branch[\"bioproject\"]==row[\"bioproject\"]][\"acc\"].to_list()\n",
    "            print(row[\"bioproject\"])\n",
    "\n",
    "for check in checks:\n",
    "    if glob.glob(rootdir + \"recover/metabat/\" + check + \"_bins/\") == []:\n",
    "        print(check)"
   ]
  },
  {
   "cell_type": "markdown",
   "metadata": {},
   "source": [
    "### combine/rename output"
   ]
  },
  {
   "cell_type": "code",
   "execution_count": 5,
   "metadata": {
    "collapsed": true
   },
   "outputs": [],
   "source": [
    "cmdir(rootdir + \"recover/bins\")"
   ]
  },
  {
   "cell_type": "code",
   "execution_count": 6,
   "metadata": {
    "collapsed": true
   },
   "outputs": [],
   "source": [
    "for dir in [\"recover\", \"sub10\"]:\n",
    "    \n",
    "    if dir == \"recover\":\n",
    "        t = 100\n",
    "    else: t = 10\n",
    "        \n",
    "    for bin in glob.glob(rootdir + dir + \"/metabat/*bins/*fa\"):\n",
    "        \n",
    "        sam, num = os.path.basename(bin).split(\".\")[0:2]\n",
    "        newname = rootdir + \"recover/bins/%s.%s.%s.fa\" %(sam, t, num)\n",
    "        \n",
    "        with open(newname, \"w\") as out:\n",
    "            for i,record in enumerate(sfp(open(bin))):\n",
    "                newcontig = \"_\".join([os.path.basename(newname).replace(\".fa\",\"\"), \"contig\", str(i)])\n",
    "                out.write(\">%s\\n%s\\n\" %(newcontig, record[1]))"
   ]
  },
  {
   "cell_type": "markdown",
   "metadata": {},
   "source": [
    "### identify output bins"
   ]
  },
  {
   "cell_type": "code",
   "execution_count": 6,
   "metadata": {
    "collapsed": true
   },
   "outputs": [],
   "source": [
    "cmdir(rootdir + \"recover/gtdbtk/\")"
   ]
  },
  {
   "cell_type": "code",
   "execution_count": 9,
   "metadata": {
    "collapsed": true
   },
   "outputs": [],
   "source": [
    "genomes = glob.glob(rootdir + \"recover/bins/*fa\")\n",
    "n = math.ceil(len(genomes)/25)\n",
    "\n",
    "for a, i in enumerate(range(0, len(genomes), n)):\n",
    "    with open(rootdir + \"recover/gtdbtk/batch%d.txt\" %(a), \"w\") as out:\n",
    "        for genome in genomes[i:i + n]:\n",
    "            out.write(genome + \"\\t\" + os.path.basename(genome).split(\".fa\")[0] + \"\\n\")"
   ]
  },
  {
   "cell_type": "code",
   "execution_count": 10,
   "metadata": {
    "collapsed": true
   },
   "outputs": [],
   "source": [
    "with open(rootdir + \"recover/gtdbtk/classify.sh\", \"w+\") as out:\n",
    "    for batchfile in glob.glob(rootdir + \"recover/gtdbtk/batch*.txt\"):\n",
    "        dirname = rootdir + \"recover/gtdbtk/%s\" %(os.path.basename(batchfile).replace(\".txt\", \"\"))\n",
    "        base = \"gtdbtk classify_wf --cpus 20 -x .fa --batchfile %s --out_dir %s\" %(batchfile, dirname)\n",
    "        cmd = sbatch(os.path.basename(batchfile).split(\".\")[0], 20, base)\n",
    "        out.write(cmd + \"\\n\")"
   ]
  },
  {
   "cell_type": "code",
   "execution_count": 29,
   "metadata": {},
   "outputs": [
    {
     "data": {
      "text/html": [
       "<div>\n",
       "<style scoped>\n",
       "    .dataframe tbody tr th:only-of-type {\n",
       "        vertical-align: middle;\n",
       "    }\n",
       "\n",
       "    .dataframe tbody tr th {\n",
       "        vertical-align: top;\n",
       "    }\n",
       "\n",
       "    .dataframe thead th {\n",
       "        text-align: right;\n",
       "    }\n",
       "</style>\n",
       "<table border=\"1\" class=\"dataframe\">\n",
       "  <thead>\n",
       "    <tr style=\"text-align: right;\">\n",
       "      <th></th>\n",
       "      <th>user_genome</th>\n",
       "      <th>classification</th>\n",
       "      <th>fastani_reference</th>\n",
       "      <th>fastani_reference_radius</th>\n",
       "      <th>fastani_taxonomy</th>\n",
       "      <th>fastani_ani</th>\n",
       "      <th>fastani_af</th>\n",
       "      <th>closest_placement_reference</th>\n",
       "      <th>closest_placement_radius</th>\n",
       "      <th>closest_placement_taxonomy</th>\n",
       "      <th>closest_placement_ani</th>\n",
       "      <th>closest_placement_af</th>\n",
       "      <th>pplacer_taxonomy</th>\n",
       "      <th>classification_method</th>\n",
       "      <th>note</th>\n",
       "      <th>other_related_references(genome_id,species_name,radius,ANI,AF)</th>\n",
       "      <th>msa_percent</th>\n",
       "      <th>translation_table</th>\n",
       "      <th>red_value</th>\n",
       "      <th>warnings</th>\n",
       "    </tr>\n",
       "  </thead>\n",
       "  <tbody>\n",
       "    <tr>\n",
       "      <th>11</th>\n",
       "      <td>ERR598981.100.8</td>\n",
       "      <td>d__Bacteria;p__Cyanobacteria;c__Cyanobacteriia...</td>\n",
       "      <td>NaN</td>\n",
       "      <td>NaN</td>\n",
       "      <td>NaN</td>\n",
       "      <td>NaN</td>\n",
       "      <td>NaN</td>\n",
       "      <td>NaN</td>\n",
       "      <td>NaN</td>\n",
       "      <td>NaN</td>\n",
       "      <td>NaN</td>\n",
       "      <td>NaN</td>\n",
       "      <td>d__Bacteria;p__Cyanobacteria;c__Cyanobacteriia...</td>\n",
       "      <td>taxonomic novelty determined using RED</td>\n",
       "      <td>classification based on placement in class-lev...</td>\n",
       "      <td>NaN</td>\n",
       "      <td>13.42</td>\n",
       "      <td>11.0</td>\n",
       "      <td>0.890766</td>\n",
       "      <td>NaN</td>\n",
       "    </tr>\n",
       "    <tr>\n",
       "      <th>12</th>\n",
       "      <td>ERR598987.100.37</td>\n",
       "      <td>d__Bacteria;p__Cyanobacteria;c__Cyanobacteriia...</td>\n",
       "      <td>NaN</td>\n",
       "      <td>NaN</td>\n",
       "      <td>NaN</td>\n",
       "      <td>NaN</td>\n",
       "      <td>NaN</td>\n",
       "      <td>NaN</td>\n",
       "      <td>NaN</td>\n",
       "      <td>NaN</td>\n",
       "      <td>NaN</td>\n",
       "      <td>NaN</td>\n",
       "      <td>d__Bacteria;p__Cyanobacteria;c__Cyanobacteriia...</td>\n",
       "      <td>taxonomic novelty determined using RED</td>\n",
       "      <td>classification based on placement in class-lev...</td>\n",
       "      <td>NaN</td>\n",
       "      <td>79.81</td>\n",
       "      <td>11.0</td>\n",
       "      <td>0.876367</td>\n",
       "      <td>NaN</td>\n",
       "    </tr>\n",
       "  </tbody>\n",
       "</table>\n",
       "</div>"
      ],
      "text/plain": [
       "         user_genome                                     classification  \\\n",
       "11   ERR598981.100.8  d__Bacteria;p__Cyanobacteria;c__Cyanobacteriia...   \n",
       "12  ERR598987.100.37  d__Bacteria;p__Cyanobacteria;c__Cyanobacteriia...   \n",
       "\n",
       "   fastani_reference  fastani_reference_radius fastani_taxonomy  fastani_ani  \\\n",
       "11               NaN                       NaN              NaN          NaN   \n",
       "12               NaN                       NaN              NaN          NaN   \n",
       "\n",
       "    fastani_af closest_placement_reference  closest_placement_radius  \\\n",
       "11         NaN                         NaN                       NaN   \n",
       "12         NaN                         NaN                       NaN   \n",
       "\n",
       "   closest_placement_taxonomy  closest_placement_ani  closest_placement_af  \\\n",
       "11                        NaN                    NaN                   NaN   \n",
       "12                        NaN                    NaN                   NaN   \n",
       "\n",
       "                                     pplacer_taxonomy  \\\n",
       "11  d__Bacteria;p__Cyanobacteria;c__Cyanobacteriia...   \n",
       "12  d__Bacteria;p__Cyanobacteria;c__Cyanobacteriia...   \n",
       "\n",
       "                     classification_method  \\\n",
       "11  taxonomic novelty determined using RED   \n",
       "12  taxonomic novelty determined using RED   \n",
       "\n",
       "                                                 note  \\\n",
       "11  classification based on placement in class-lev...   \n",
       "12  classification based on placement in class-lev...   \n",
       "\n",
       "   other_related_references(genome_id,species_name,radius,ANI,AF)  \\\n",
       "11                                                NaN               \n",
       "12                                                NaN               \n",
       "\n",
       "    msa_percent  translation_table  red_value warnings  \n",
       "11        13.42               11.0   0.890766      NaN  \n",
       "12        79.81               11.0   0.876367      NaN  "
      ]
     },
     "execution_count": 29,
     "metadata": {},
     "output_type": "execute_result"
    }
   ],
   "source": [
    "# parse\n",
    "gtresults = pd.concat([pd.read_csv(item, sep=\"\\t\") for item in \\\n",
    "                       glob.glob(rootdir + \"recover/gtdbtk/batch*/gtdbtk.*.summary.tsv\")])\n",
    "cyanos = gtresults[gtresults[\"classification\"].str.contains(\"Cyano\")]\n",
    "cyanos.head(2)"
   ]
  },
  {
   "cell_type": "markdown",
   "metadata": {},
   "source": [
    "### quality"
   ]
  },
  {
   "cell_type": "code",
   "execution_count": 26,
   "metadata": {
    "collapsed": true
   },
   "outputs": [],
   "source": [
    "cmdir(rootdir + \"recover/quality\")\n",
    "cmdir(rootdir + \"recover/quality/checkm\")"
   ]
  },
  {
   "cell_type": "code",
   "execution_count": 38,
   "metadata": {
    "collapsed": true
   },
   "outputs": [],
   "source": [
    "with open(rootdir + \"recover/quality/checkm/run_checkm.sh\", \"w\") as out:\n",
    "    \n",
    "    for batchfile in glob.glob(rootdir + \"recover/gtdbtk/batch*.txt\"):\n",
    "        \n",
    "        # create subdir for each batch\n",
    "        basename = os.path.basename(batchfile).split(\".\")[0]\n",
    "        batchdir = rootdir + \"recover/quality/checkm/\" + basename + \"/\"\n",
    "        cmdir(batchdir)\n",
    "        \n",
    "        # rewrite batch file to work with checkm\n",
    "        # subsetting to cyanobacteria\n",
    "        with open(batchdir + \"batchfile.txt\", \"w\") as bf:\n",
    "            for line in open(batchfile).readlines():\n",
    "                if line.strip().split(\"\\t\")[1] in cyanos[\"user_genome\"].to_list():\n",
    "                    bf.write(\"%s\\t%s\\n\" %(line.strip().split(\"\\t\")[1],\n",
    "                        line.strip().split(\"\\t\")[0]))\n",
    "        \n",
    "        # construct checkm calls\n",
    "        call = \"checkm lineage_wf -t 20 -x .fa --pplacer_threads 20 %s %s\" %(batchdir + \"batchfile.txt\", batchdir)\n",
    "        call2 = \"checkm qa -t 20 -o 1 -f %s --tab_table %s %s\" %(batchdir + \"output_table.txt\",\n",
    "            batchdir + \"lineage.ms\", batchdir)\n",
    "        cmd = sbatch(basename, 20, \"%s && %s\" %(call, call2))\n",
    "        out.write(cmd + \"\\n\")"
   ]
  },
  {
   "cell_type": "code",
   "execution_count": 6,
   "metadata": {},
   "outputs": [
    {
     "data": {
      "text/html": [
       "<div>\n",
       "<style scoped>\n",
       "    .dataframe tbody tr th:only-of-type {\n",
       "        vertical-align: middle;\n",
       "    }\n",
       "\n",
       "    .dataframe tbody tr th {\n",
       "        vertical-align: top;\n",
       "    }\n",
       "\n",
       "    .dataframe thead th {\n",
       "        text-align: right;\n",
       "    }\n",
       "</style>\n",
       "<table border=\"1\" class=\"dataframe\">\n",
       "  <thead>\n",
       "    <tr style=\"text-align: right;\">\n",
       "      <th></th>\n",
       "      <th>genome_name</th>\n",
       "      <th>checkm_completeness</th>\n",
       "      <th>checkm_redundancy</th>\n",
       "    </tr>\n",
       "  </thead>\n",
       "  <tbody>\n",
       "    <tr>\n",
       "      <th>0</th>\n",
       "      <td>ERR598981.100.8</td>\n",
       "      <td>12.07</td>\n",
       "      <td>0.34</td>\n",
       "    </tr>\n",
       "    <tr>\n",
       "      <th>1</th>\n",
       "      <td>ERR598987.100.37</td>\n",
       "      <td>91.58</td>\n",
       "      <td>9.42</td>\n",
       "    </tr>\n",
       "  </tbody>\n",
       "</table>\n",
       "</div>"
      ],
      "text/plain": [
       "        genome_name  checkm_completeness  checkm_redundancy\n",
       "0   ERR598981.100.8                12.07               0.34\n",
       "1  ERR598987.100.37                91.58               9.42"
      ]
     },
     "execution_count": 6,
     "metadata": {},
     "output_type": "execute_result"
    }
   ],
   "source": [
    "# read in all results\n",
    "checkm_df = pd.concat([pd.read_csv(item, sep=\"\\t\") for item in \n",
    "    glob.glob(rootdir + \"recover/quality/checkm/batch*/output_table.txt\")]).reset_index()\n",
    "checkm_df = checkm_df[[\"Bin Id\", \"Completeness\", \"Contamination\"]]\n",
    "checkm_df.columns = [\"genome_name\", \"checkm_completeness\", \"checkm_redundancy\"]\n",
    "checkm_df.head(2)"
   ]
  },
  {
   "cell_type": "markdown",
   "metadata": {},
   "source": [
    "### compare"
   ]
  },
  {
   "cell_type": "code",
   "execution_count": 14,
   "metadata": {
    "collapsed": true
   },
   "outputs": [],
   "source": [
    "cmdir(rootdir + \"recover/compare\")\n",
    "cmdir(rootdir + \"recover/compare/fasta\")\n",
    "cmdir(rootdir + \"recover/compare/drep\")"
   ]
  },
  {
   "cell_type": "code",
   "execution_count": 31,
   "metadata": {
    "collapsed": true
   },
   "outputs": [],
   "source": [
    "for key, row in genomes.iterrows():\n",
    "    gpath = rootdir + \"genomes/filtered/\" + row[\"genome_name\"] + \".fna\"\n",
    "    with open(rootdir + \"recover/compare/fasta/\" + os.path.basename(gpath), \"w\") as out:\n",
    "        for record in sfp(open(gpath)):\n",
    "            out.write(\">%s\\n%s\\n\" %(record[0], record[1]))\n",
    "\n",
    "for key, row in checkm_df.iterrows():\n",
    "    gpath = rootdir + \"recover/bins/\" + row[\"genome_name\"] + \".fa\"\n",
    "    with open(rootdir + \"recover/compare/fasta/\" + os.path.basename(gpath), \"w\") as out:\n",
    "        for record in sfp(open(gpath)):\n",
    "            out.write(\">%s\\n%s\\n\" %(record[0], record[1]))"
   ]
  },
  {
   "cell_type": "code",
   "execution_count": 7,
   "metadata": {
    "collapsed": true
   },
   "outputs": [],
   "source": [
    "quality = pd.concat([genomes[[\"genome_name\", \"checkm_completeness\", \"checkm_redundancy\"]], checkm_df])\n",
    "quality[\"genome\"] = quality[\"genome_name\"].apply(lambda x: os.path.basename(glob.glob(rootdir + \\\n",
    "                                                 \"recover/compare/fasta/\" + x + \"*\")[0]))\n",
    "quality = quality[[\"genome\", \"checkm_completeness\", \"checkm_redundancy\"]].drop_duplicates()\n",
    "quality.columns = [\"genome\", \"completeness\", \"contamination\"]\n",
    "quality.to_csv(rootdir + \"recover/compare/drep/genomeInformation.csv\", sep=\",\", index=False)"
   ]
  },
  {
   "cell_type": "code",
   "execution_count": 37,
   "metadata": {},
   "outputs": [
    {
     "name": "stdout",
     "output_type": "stream",
     "text": [
      "sbatch -J drep -p serc -t 1- -c 20 --mem 160G --wrap 'dRep dereplicate /scratch/users/ajaffe/photoeco//recover/compare/drep -pa 0.70 -sa 0.95 -p 20 -comp 40 -con 25 -d -g /scratch/users/ajaffe/photoeco//recover/compare/fasta/*f*a --genomeInfo /scratch/users/ajaffe/photoeco/recover/compare/drep/genomeInformation.csv'\n"
     ]
    }
   ],
   "source": [
    "call = \"dRep dereplicate %s -pa 0.70 -sa 0.95 -p 20 -comp 40 -con 25 -d -g %s --genomeInfo %s\" %(rootdir + \\\n",
    "        \"/recover/compare/drep\", rootdir + \"/recover/compare/fasta/*f*a\",\n",
    "        rootdir + \"recover/compare/drep/genomeInformation.csv\")\n",
    "cmd = sbatch(\"drep\", 20, call)\n",
    "print(cmd)"
   ]
  },
  {
   "cell_type": "markdown",
   "metadata": {},
   "source": [
    "### evaluate similarity + export"
   ]
  },
  {
   "cell_type": "code",
   "execution_count": 175,
   "metadata": {
    "collapsed": true
   },
   "outputs": [],
   "source": [
    "cmdir(rootdir + \"recover/genomes\")"
   ]
  },
  {
   "cell_type": "code",
   "execution_count": 8,
   "metadata": {
    "collapsed": true
   },
   "outputs": [],
   "source": [
    "cdb = pd.read_csv(rootdir + \"recover/compare/drep/data_tables/Cdb.csv\")\n",
    "cdb[\"genome_name\"] = cdb[\"genome\"].apply(lambda x: x.replace(\".fna\", \"\").replace(\".fa\", \"\"))\n",
    "cdb = cdb.merge(genomes[[\"genome_name\", \"lineage\"]], how=\"left\").fillna(\"None\")\n",
    "cdb = cdb[[\"genome_name\", \"lineage\", \"secondary_cluster\"]].rename(columns={\"secondary_cluster\":\"cluster95\"})"
   ]
  },
  {
   "cell_type": "code",
   "execution_count": 9,
   "metadata": {},
   "outputs": [
    {
     "data": {
      "text/html": [
       "<div>\n",
       "<style scoped>\n",
       "    .dataframe tbody tr th:only-of-type {\n",
       "        vertical-align: middle;\n",
       "    }\n",
       "\n",
       "    .dataframe tbody tr th {\n",
       "        vertical-align: top;\n",
       "    }\n",
       "\n",
       "    .dataframe thead th {\n",
       "        text-align: right;\n",
       "    }\n",
       "</style>\n",
       "<table border=\"1\" class=\"dataframe\">\n",
       "  <thead>\n",
       "    <tr style=\"text-align: right;\">\n",
       "      <th></th>\n",
       "      <th>genome_name</th>\n",
       "      <th>lineage</th>\n",
       "      <th>cluster95</th>\n",
       "      <th>genome</th>\n",
       "      <th>completeness</th>\n",
       "      <th>contamination</th>\n",
       "    </tr>\n",
       "  </thead>\n",
       "  <tbody>\n",
       "    <tr>\n",
       "      <th>225</th>\n",
       "      <td>SRR25584950.100.49</td>\n",
       "      <td>None</td>\n",
       "      <td>5_1</td>\n",
       "      <td>SRR25584950.100.49.fa</td>\n",
       "      <td>87.38</td>\n",
       "      <td>2.63</td>\n",
       "    </tr>\n",
       "    <tr>\n",
       "      <th>216</th>\n",
       "      <td>2818991511</td>\n",
       "      <td>AMZ II</td>\n",
       "      <td>5_1</td>\n",
       "      <td>2818991511.fna</td>\n",
       "      <td>74.64</td>\n",
       "      <td>0.27</td>\n",
       "    </tr>\n",
       "  </tbody>\n",
       "</table>\n",
       "</div>"
      ],
      "text/plain": [
       "            genome_name lineage cluster95                 genome  \\\n",
       "225  SRR25584950.100.49    None       5_1  SRR25584950.100.49.fa   \n",
       "216          2818991511  AMZ II       5_1         2818991511.fna   \n",
       "\n",
       "     completeness  contamination  \n",
       "225         87.38           2.63  \n",
       "216         74.64           0.27  "
      ]
     },
     "execution_count": 9,
     "metadata": {},
     "output_type": "execute_result"
    }
   ],
   "source": [
    "quality[\"genome_name\"] = quality[\"genome\"].apply(lambda x: x.replace(\".fna\", \"\").replace(\".fa\", \"\"))\n",
    "cdb = cdb.merge(quality, how=\"left\")\n",
    "cdb.query(\"cluster95=='5_1'\").sort_values([\"completeness\"], ascending=[False]).head(2)"
   ]
  },
  {
   "cell_type": "code",
   "execution_count": 36,
   "metadata": {
    "collapsed": true
   },
   "outputs": [],
   "source": [
    "for cluster in [\"5_1\", \"6_3\", \"6_4\", \"12_1\"]:\n",
    "    \n",
    "    table = cdb[(cdb[\"cluster95\"]==cluster) & (cdb[\"lineage\"]=='None')]\n",
    "    \n",
    "    for key, row in table.iterrows():\n",
    "        \n",
    "        if \"RR\" in row[\"genome_name\"]:\n",
    "    \n",
    "            newname = rootdir + \"recover/genomes/\" + row[\"genome_name\"] + \".fna\"\n",
    "            gpath = rootdir + \"recover/bins/\" + row[\"genome_name\"] + \".fa\"\n",
    "\n",
    "            with open(newname, \"w\") as out:\n",
    "                for record in sfp(open(gpath)):\n",
    "                    out.write(\">%s\\n%s\\n\" %(record[0], record[1]))    "
   ]
  },
  {
   "cell_type": "markdown",
   "metadata": {},
   "source": [
    "### try re-assembly for select bins"
   ]
  },
  {
   "cell_type": "code",
   "execution_count": 16,
   "metadata": {
    "collapsed": true
   },
   "outputs": [],
   "source": [
    "cmdir(rootdir + \"reassembly\")"
   ]
  },
  {
   "cell_type": "code",
   "execution_count": null,
   "metadata": {
    "collapsed": true
   },
   "outputs": [],
   "source": [
    "with open(rootdir + \"reassembly/wrapper.sh\", \"w\") as wrapper:\n",
    "\n",
    "    for genome in glob.glob(rootdir + \"recover/genomes/*fna\"):\n",
    "\n",
    "        # locate original bin file\n",
    "        parts = os.path.basename(genome).split(\".\")[0:3]\n",
    "        dire = \"recover\" if parts[1] == \"100\" else \"sub10\"\n",
    "        gpath = rootdir + \"%s/metabat/%s_bins/%s.%s.fa\" %(dire,parts[0], parts[0], parts[2])\n",
    "\n",
    "        # locate the relevant bam and reads file\n",
    "        bpath = rootdir + \"%s/mapping/%s_%s.sorted.bam\" %(dire, parts[0], parts[0])\n",
    "        rpath = glob.glob(rootdir + \"%s/trimmed_reads/%s*.fastq.gz\" %(dire,parts[0]))\n",
    "        aln = pysam.AlignmentFile(bpath, \"rb\")\n",
    "        \n",
    "        # extract reads mapping to every contig in the genome\n",
    "        reads = set()\n",
    "        for record in sfp(open(gpath)):\n",
    "            for read in aln.fetch(record[0].split(\" \")[0]):\n",
    "                reads.add(read.query_name)\n",
    "        \n",
    "        readnames = rootdir + \"reassembly/%s_reads.txt\" %(\".\".join(parts))\n",
    "        with open(readnames, \"w\") as rfile:\n",
    "            for read in reads:\n",
    "                rfile.write(read + \"\\n\")\n",
    "                \n",
    "        cmds = []\n",
    "        for direction in rpath: \n",
    "            nfile = rootdir + \"reassembly/%s\" %(os.path.basename(direction).replace(parts[0], \".\".join(parts)))\n",
    "            pull = \"seqtk subseq %s %s | pigz -p 20 > %s\" %(direction, readnames, nfile)\n",
    "            cmds.append(pull)\n",
    "                \n",
    "        # assemble them\n",
    "        newfwd = rootdir + \"reassembly/%s_1.fastq.gz\" %(\".\".join(parts))\n",
    "        output = rootdir + \"reassembly/%s\" %(\".\".join(parts))\n",
    "        assemble = \"metaspades.py -1 %s -2 %s -o %s --threads 20 --memory 160\" %(newfwd, newfwd.replace(\"_1\", \"_2\"), output)\n",
    "        \n",
    "        if not os.path.isfile(output + \"/scaffolds.fasta\"):\n",
    "            print(genome)\n",
    "            wrapper.write(cmds[0] + \"\\n\" + cmds[1] + \"\\n\")\n",
    "            wrapper.write(assemble + \"\\n\")"
   ]
  },
  {
   "cell_type": "code",
   "execution_count": 60,
   "metadata": {
    "collapsed": true
   },
   "outputs": [],
   "source": [
    "with open(rootdir + \"reassembly/run_stats.sh\", \"w\") as wrapper:\n",
    "    \n",
    "    for assembly in glob.glob(rootdir + \"reassembly/*/scaffolds.fasta\"):\n",
    "\n",
    "        #reformat bin assembly\n",
    "        name = os.path.dirname(assembly).split(\"/\")[-1]\n",
    "        newfile = assembly.replace(\"scaffolds\", name).replace(\"fasta\", \"fna\")\n",
    "        with open(newfile, \"w\") as out:\n",
    "            for i,record in enumerate(sfp(open(assembly))):\n",
    "                if len(record[1]) >= 1500:\n",
    "                    out.write(\">%s\\n%s\\n\" %(name + \"_scaffold_\" + str(i), record[1]))\n",
    "\n",
    "        # run stats on them\n",
    "        new = \"stats.sh in=%s out=%s format=3\" %(newfile, newfile.replace(\"fna\", \"new.results\"))\n",
    "        gpath = rootdir + \"recover/genomes/\" + name + \".fna\"\n",
    "        old = \"stats.sh in=%s out=%s format=3\" %(gpath, newfile.replace(\"fna\", \"old.results\"))\n",
    "        ani = \"fastANI -q %s -r %s -o %s\" %(newfile, gpath, newfile.replace(\"fna\", \"fastani\"))\n",
    "        wrapper.write(new + \"\\n\" + old + \"\\n\" + ani + \"\\n\")"
   ]
  },
  {
   "cell_type": "code",
   "execution_count": 80,
   "metadata": {},
   "outputs": [
    {
     "data": {
      "text/plain": [
       "improved\n",
       "True     45\n",
       "False    13\n",
       "Name: count, dtype: int64"
      ]
     },
     "execution_count": 80,
     "metadata": {},
     "output_type": "execute_result"
    }
   ],
   "source": [
    "results = defaultdict(list)\n",
    "\n",
    "for gdir in glob.glob(rootdir + \"reassembly/*/\"):\n",
    "    \n",
    "    if glob.glob(gdir + \"*results\") != []:\n",
    "        \n",
    "        new = pd.read_csv(glob.glob(gdir + \"*.new.*\")[0], sep=\"\\t\")\n",
    "        old = pd.read_csv(glob.glob(gdir + \"*.old.*\")[0], sep=\"\\t\")\n",
    "        ani = pd.read_csv(glob.glob(gdir + \"*fastani\")[0], sep=\"\\t\", header=None)\n",
    "\n",
    "        results[\"genome\"].append(gdir.split(\"/\")[-2])\n",
    "        results[\"fastani\"].append(ani[2].iloc[0])\n",
    "        results[\"old_cnum\"].append(old[\"n_scaffolds\"].iloc[0])\n",
    "        results[\"new_cnum\"].append(new[\"n_scaffolds\"].iloc[0])\n",
    "        results[\"old_len\"].append(old[\"scaf_bp\"].iloc[0])\n",
    "        results[\"new_len\"].append(new[\"scaf_bp\"].iloc[0])\n",
    "        delta_len = (new[\"scaf_bp\"].iloc[0]-old[\"scaf_bp\"].iloc[0])/old[\"scaf_bp\"].iloc[0]*100\n",
    "        results[\"delta_len\"].append(delta_len)\n",
    "        results[\"old_n50\"].append(old[\"scaf_L50\"].iloc[0])\n",
    "        results[\"new_n50\"].append(new[\"scaf_L50\"].iloc[0])\n",
    "        \n",
    "        improved = False\n",
    "        \n",
    "        if (new[\"n_scaffolds\"].iloc[0] < old[\"n_scaffolds\"].iloc[0]) & \\\n",
    "           (new[\"scaf_L50\"].iloc[0] > old[\"scaf_L50\"].iloc[0]) & \\\n",
    "           (abs(delta_len)<=10):\n",
    "            improved = True\n",
    "        \n",
    "        results[\"improved\"].append(improved)\n",
    "        \n",
    "resultsdf = pd.DataFrame(results)\n",
    "resultsdf.to_csv(rootdir + \"reassembly.tsv\", sep=\"\\t\", index=False)\n",
    "resultsdf[\"improved\"].value_counts()"
   ]
  },
  {
   "cell_type": "markdown",
   "metadata": {},
   "source": [
    "### export"
   ]
  },
  {
   "cell_type": "code",
   "execution_count": 81,
   "metadata": {
    "collapsed": true
   },
   "outputs": [],
   "source": [
    "cmdir(rootdir + \"reassembly/genomes\")"
   ]
  },
  {
   "cell_type": "code",
   "execution_count": 84,
   "metadata": {
    "collapsed": true
   },
   "outputs": [],
   "source": [
    "for key, row in resultsdf.iterrows():\n",
    "    \n",
    "    if row[\"improved\"] == True:\n",
    "        gpath = rootdir + \"reassembly/%s/%s.fna\" %(row[\"genome\"], row[\"genome\"])\n",
    "    else:\n",
    "        gpath = rootdir + \"recover/genomes/\" + row[\"genome\"] + \".fna\"\n",
    "        \n",
    "    with open(rootdir + \"reassembly/genomes/\" + row[\"genome\"] + \".fna\", \"w\") as out:\n",
    "        for record in sfp(open(gpath)):\n",
    "            out.write(\">%s\\n%s\\n\" %(record[0], record[1]))"
   ]
  },
  {
   "cell_type": "code",
   "execution_count": 87,
   "metadata": {
    "collapsed": true
   },
   "outputs": [],
   "source": [
    "# if not able to be re-assembled\n",
    "for genome in glob.glob(rootdir + \"recover/genomes/*fna\"):\n",
    "    if not os.path.isfile(genome.replace(\"recover\", \"reassembly\")):\n",
    "        with open(genome.replace(\"recover\", \"reassembly\"), \"w\") as out:\n",
    "            for record in sfp(open(genome)):\n",
    "                out.write(\">%s\\n%s\\n\" %(record[0], record[1]))"
   ]
  }
 ],
 "metadata": {
  "kernelspec": {
   "display_name": "Python 3",
   "language": "python",
   "name": "python3"
  },
  "language_info": {
   "codemirror_mode": {
    "name": "ipython",
    "version": 3
   },
   "file_extension": ".py",
   "mimetype": "text/x-python",
   "name": "python",
   "nbconvert_exporter": "python",
   "pygments_lexer": "ipython3",
   "version": "3.6.1"
  }
 },
 "nbformat": 4,
 "nbformat_minor": 5
}
